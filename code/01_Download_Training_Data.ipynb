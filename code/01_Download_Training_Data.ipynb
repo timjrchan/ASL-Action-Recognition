{
 "cells": [
  {
   "cell_type": "markdown",
   "metadata": {},
   "source": [
    "<img src='http://imgur.com/1ZcRyrc.png' style='float: left; margin: 20px; height: 55px'>\n",
    "\n",
    "\n",
    "# DSI-SG-42 Capstone Project:\n",
    "### Silent Echoes: From Hand Waves to Written Phrases\n",
    "\n",
    "\n",
    "\n",
    "<div style=\"text-align: center;\">\n",
    "    <img src=\"https://kidscarehomehealth.com/wp-content/uploads/2022/08/KCHH-sign-language-hello.jpg\" alt=\"ASL image of signed Hello\" style=\"width: 65%; height: auto;\">\n",
    "</div>"
   ]
  },
  {
   "cell_type": "markdown",
   "metadata": {},
   "source": [
    "# 1. Introduction \n",
    "\n",
    "Across the globe, there are millions of people who uses sign language as their primary mode of communication in their daily lives. Whether the person is deaf, hard of hearing, or even mute, they use that to communicate between friends, family, and work environments. However, there is a communication gap between those that are unable to communicate by spoken language and those that do not understand sign languages. \n",
    "\n",
    "In the current world population, there are over [430 million people or over 5% of the world's population](https://www.who.int/news-room/fact-sheets/detail/deafness-and-hearing-loss) who have disabling hearing loss. [Hearing loss](https://www.who.int/news-room/fact-sheets/detail/deafness-and-hearing-loss) can be caused by a wide array of factors such as genetics, ear infections, some chronic diseases, and trauma to the ear or head. There are around 34 million children who are impacted by hearing loss and some would have to attend special schools to learn how to communicate with the general population. \n",
    "\n"
   ]
  },
  {
   "cell_type": "markdown",
   "metadata": {},
   "source": [
    "## 1.1 Problem Statement\n",
    "\n",
    "Creating an effective communication system between a deaf individual who uses sign language and a non-signing person presents significant challenges. The initial goal of this project is to lay the foundation for such a system by developing a solution that can accurately recognize and translate a select set of key signs - currently three critical words - into written language.\n",
    "\n",
    "\n",
    "**This project aims to demonstrate the feasibility of scaling this technology to enable more comprehensive interactions and foster understanding between signing and non-signing individuals.**\n"
   ]
  },
  {
   "cell_type": "markdown",
   "metadata": {},
   "source": [
    "## 1.2 Aims\n",
    "\n",
    "The aim of this project is to bridge the gap by using data science to help the general public to understand sign languages so that the *signer* can convey their message naturally and fluidly without losing any of the nuances in body language. "
   ]
  },
  {
   "cell_type": "markdown",
   "metadata": {},
   "source": [
    "## 1.3 Import and Cleaning of Dataframe"
   ]
  },
  {
   "cell_type": "markdown",
   "metadata": {},
   "source": [
    "### [HandSpeak](https://www.handspeak.com/word/most-used/)\n",
    "\n",
    "This website recommends a list of words that a peson who wants to learn sign language. It is split into blocks of 100 words. We will be focusing on the first page with the most common sign languages. \n",
    "\n",
    "This website offers a structured learning resource for aspiring sign language learners. The resource takes the form of a categorized vocabulary list of one hundred words each. Our initial exploration will be based on the words presented on the first page, focusing on the most frequently utilized words in everyday communication. These signs will encompass pleasantries, question words, and common everyday used words. The website structures the words in alphabetical order rather than learning order, we will shortlist 10 words from the list to build the initial model.\n",
    "\n",
    "*n.b. as the video files and extracted landmark .npy files are too big for GitHub, they can be found on my [Google Drive](https://drive.google.com/drive/folders/1FcOdltQ70QdpTyonlIWNVPSipTXkLZ6m?usp=sharing)*"
   ]
  },
  {
   "cell_type": "code",
   "execution_count": 39,
   "metadata": {},
   "outputs": [],
   "source": [
    "# 10 Chosen words\n",
    "\n",
    "chosen_words = ['eat', 'hello', 'name', 'no', 'please', 'sorry', \n",
    "                'thank you', 'want', 'what', 'where']"
   ]
  },
  {
   "cell_type": "code",
   "execution_count": 65,
   "metadata": {},
   "outputs": [],
   "source": [
    "# import libraries\n",
    "import os\n",
    "import shutil\n",
    "import datetime\n",
    "import logging\n",
    "import pandas as pd\n",
    "from pytube import YouTube\n",
    "from collections import defaultdict\n",
    "\n",
    "# Include a logging file\n",
    "log_dir = ('../log_files')\n",
    "if not os.path.exists(log_dir):\n",
    "    os.makedirs(log_dir)\n",
    "\n",
    "log_file = os.path.join(log_dir, 'video_download.log')\n",
    "\n",
    "# Setup Logger\n",
    "logger = logging.getLogger()  # Get the root logger\n",
    "for handler in logger.handlers:  # Remove all old handlers\n",
    "    logger.removeHandler(handler)\n",
    "\n",
    "\n",
    "logging.basicConfig(\n",
    "    level=logging.INFO,\n",
    "    format = '%(levelname)s - %(message)s',\n",
    "    handlers=[\n",
    "        logging.FileHandler(log_file),\n",
    "        logging.StreamHandler()  \n",
    "    ]\n",
    ")\n",
    "\n",
    "# set display settings\n",
    "%matplotlib inline\n",
    "pd.set_option('display.width', 100000)\n",
    "pd.set_option('display.max_colwidth', None)\n",
    "pd.set_option('display.max_columns', None)"
   ]
  },
  {
   "cell_type": "markdown",
   "metadata": {},
   "source": [
    "## 1.4 Download Training Videos from Microsoft-ASL dataset\n",
    "\n",
    "Using pytube library, we can download videos from YouTube if a link to the video is available. Depending on the availability of the video, some restrictions to download the videos are the video is unavailable, made private, or age-restricted. As the videos we are searching for is general education content on what each word is signed, we are not expecting many age-restricted errors or any at all. Unfortunately, for the videos that are unavailable or have been made private, they are not available for download at all. \n"
   ]
  },
  {
   "cell_type": "markdown",
   "metadata": {},
   "source": [
    "---\n",
    "### 1.4.1 Microsoft-ASL *Train* Dataset\n",
    "---"
   ]
  },
  {
   "cell_type": "code",
   "execution_count": 3,
   "metadata": {},
   "outputs": [
    {
     "name": "stdout",
     "output_type": "stream",
     "text": [
      "                org_text     clean_text  start_time  signer_id  signer  start  end                          file  label  height    fps  end_time                                          url           text                                                                               box  width  review\n",
      "0  match [light-a-MATCH]          match         0.0          0       0      0   83           match light-a-MATCH    830     360  30.00     2.767  https://www.youtube.com/watch?v=C37R_Ix8-qs          match              [0.057544618844985004, 0.21637457609176602, 1.0, 0.7300844192504881]    640     NaN\n",
      "1                   FAIL           fail         0.0          0      -1      0   74                          FAIL    542     360  25.00     2.960  https://www.youtube.com/watch?v=PIsUJl8BN_I           fail  [0.06577941775321901, 0.167171776294708, 0.9392627477645871, 0.9187960028648371]    480     NaN\n",
      "2                  laugh          laugh         0.0          4      26      0   31  SignSchool Laugh with Legs 2    312     360  29.97     1.034          www.youtube.com/watch?v=9FdHlMOnVjg          laugh                  [0.131885945796966, 0.32334136962890603, 1.0, 0.831863522529602]    640     NaN\n",
      "3                   BOOK           book         0.0          0      -1      0   66                       BOOK(3)     38     360  25.00     2.640  https://www.youtube.com/watch?v=J7tP98oDxqE           book   [0.055698871612548, 0.25173279643058705, 0.9968159794807431, 0.900999665260314]    480     NaN\n",
      "4          sign-language  sign language         0.0          0      -1      0   75        SIGN-LANGUAGE-S-CLAW-F    848     360  29.97     2.502          www.youtube.com/watch?v=N2mG9ZKjrGA  sign language               [0.039043992757797005, 0.24198183417320202, 1.0, 0.858681082725524]    640     NaN\n"
     ]
    }
   ],
   "source": [
    "# import Microsoft-ASL training json file\n",
    "df = pd.read_json('../data/MS-ASL/MSASL_train.json')\n",
    "\n",
    "print(df.head())"
   ]
  },
  {
   "cell_type": "markdown",
   "metadata": {},
   "source": [
    "Looking at the first 5 rows, we can observe a few things:\n",
    "\n",
    "- There are multiple column headers that seems repetitive. \n",
    "    - The headers `org_text` and `file` are similar but file is a cleaner version. \n",
    "    - The same can be observed for `clean_text` and `text`\n",
    "- `height` and `width` represents the dimensions of the video\n",
    "- `start_time` and `end_time` are the times that the sign starts in seconds \n",
    "- `start` and `end` are the frames that the sign starts and ends\n",
    "- A signer's identification to the video labelled as `signer_id` and `signer`\n",
    "- `url` for the link but some of the urls are missing the initial part of a web address 'https://'\n",
    "- `box` represents the boundary box from (x1,y1) to (x2,y2) which is normalized by the videos `height` and `width`\n",
    "- `fps` the frame rate of the video\n",
    "- `label` is an integer that represents the gloss (word) of the video"
   ]
  },
  {
   "cell_type": "markdown",
   "metadata": {},
   "source": [
    "#### URL Cleaning"
   ]
  },
  {
   "cell_type": "code",
   "execution_count": 4,
   "metadata": {},
   "outputs": [
    {
     "name": "stdout",
     "output_type": "stream",
     "text": [
      "                org_text     clean_text  start_time  signer_id  signer  start  end                          file  label  height    fps  end_time                                          url           text                                                                               box  width  review                                  cleaned_url\n",
      "0  match [light-a-MATCH]          match         0.0          0       0      0   83           match light-a-MATCH    830     360  30.00     2.767  https://www.youtube.com/watch?v=C37R_Ix8-qs          match              [0.057544618844985004, 0.21637457609176602, 1.0, 0.7300844192504881]    640     NaN  https://www.youtube.com/watch?v=C37R_Ix8-qs\n",
      "1                   FAIL           fail         0.0          0      -1      0   74                          FAIL    542     360  25.00     2.960  https://www.youtube.com/watch?v=PIsUJl8BN_I           fail  [0.06577941775321901, 0.167171776294708, 0.9392627477645871, 0.9187960028648371]    480     NaN  https://www.youtube.com/watch?v=PIsUJl8BN_I\n",
      "2                  laugh          laugh         0.0          4      26      0   31  SignSchool Laugh with Legs 2    312     360  29.97     1.034          www.youtube.com/watch?v=9FdHlMOnVjg          laugh                  [0.131885945796966, 0.32334136962890603, 1.0, 0.831863522529602]    640     NaN  https://www.youtube.com/watch?v=9FdHlMOnVjg\n",
      "3                   BOOK           book         0.0          0      -1      0   66                       BOOK(3)     38     360  25.00     2.640  https://www.youtube.com/watch?v=J7tP98oDxqE           book   [0.055698871612548, 0.25173279643058705, 0.9968159794807431, 0.900999665260314]    480     NaN  https://www.youtube.com/watch?v=J7tP98oDxqE\n",
      "4          sign-language  sign language         0.0          0      -1      0   75        SIGN-LANGUAGE-S-CLAW-F    848     360  29.97     2.502          www.youtube.com/watch?v=N2mG9ZKjrGA  sign language               [0.039043992757797005, 0.24198183417320202, 1.0, 0.858681082725524]    640     NaN  https://www.youtube.com/watch?v=N2mG9ZKjrGA\n"
     ]
    }
   ],
   "source": [
    "# some files do not have https so we will check and include 'https://' into the url\n",
    "urls = df['url'] # create a list of all urls from the dataframe\n",
    "\n",
    "\n",
    "# use a for loop to add a prefix 'https://' to the front of the urls if\n",
    "# the url starts with 'www.'\n",
    "for i, url in enumerate(urls):\n",
    "    if not url.startswith('https://'):\n",
    "        url = 'https://' + url\n",
    "        df.at[i,'cleaned_url'] = url # create a new column header and append the url there\n",
    "    else:\n",
    "        df.at[i,'cleaned_url'] = url # append the current url to the new header\n",
    "\n",
    "\n",
    "print(df.head()) # inspect the dataframe to check if the header is added\n"
   ]
  },
  {
   "cell_type": "markdown",
   "metadata": {},
   "source": [
    "When we download the videos from YouTube using pytube, we are expecting the name of the file to be `file` but with a suffix of '.mp4'. Here, we will add the suffix to all the files in the dataframe to help with the preprocessing."
   ]
  },
  {
   "cell_type": "markdown",
   "metadata": {},
   "source": [
    "#### Adding suffix to file name"
   ]
  },
  {
   "cell_type": "code",
   "execution_count": 5,
   "metadata": {},
   "outputs": [
    {
     "name": "stdout",
     "output_type": "stream",
     "text": [
      "                org_text     clean_text  start_time  signer_id  signer  start  end                              file  label  height    fps  end_time                                          url           text                                                                               box  width  review                                  cleaned_url\n",
      "0  match [light-a-MATCH]          match         0.0          0       0      0   83           match light-a-MATCH.mp4    830     360  30.00     2.767  https://www.youtube.com/watch?v=C37R_Ix8-qs          match              [0.057544618844985004, 0.21637457609176602, 1.0, 0.7300844192504881]    640     NaN  https://www.youtube.com/watch?v=C37R_Ix8-qs\n",
      "1                   FAIL           fail         0.0          0      -1      0   74                          FAIL.mp4    542     360  25.00     2.960  https://www.youtube.com/watch?v=PIsUJl8BN_I           fail  [0.06577941775321901, 0.167171776294708, 0.9392627477645871, 0.9187960028648371]    480     NaN  https://www.youtube.com/watch?v=PIsUJl8BN_I\n",
      "2                  laugh          laugh         0.0          4      26      0   31  SignSchool Laugh with Legs 2.mp4    312     360  29.97     1.034          www.youtube.com/watch?v=9FdHlMOnVjg          laugh                  [0.131885945796966, 0.32334136962890603, 1.0, 0.831863522529602]    640     NaN  https://www.youtube.com/watch?v=9FdHlMOnVjg\n",
      "3                   BOOK           book         0.0          0      -1      0   66                       BOOK(3).mp4     38     360  25.00     2.640  https://www.youtube.com/watch?v=J7tP98oDxqE           book   [0.055698871612548, 0.25173279643058705, 0.9968159794807431, 0.900999665260314]    480     NaN  https://www.youtube.com/watch?v=J7tP98oDxqE\n",
      "4          sign-language  sign language         0.0          0      -1      0   75        SIGN-LANGUAGE-S-CLAW-F.mp4    848     360  29.97     2.502          www.youtube.com/watch?v=N2mG9ZKjrGA  sign language               [0.039043992757797005, 0.24198183417320202, 1.0, 0.858681082725524]    640     NaN  https://www.youtube.com/watch?v=N2mG9ZKjrGA\n"
     ]
    }
   ],
   "source": [
    "# as the file names inside the dataframe do not have '.mp4' and have trailing whitespaces,\n",
    "# we will clean the values in the 'file' column \n",
    "\n",
    "df = df.copy()\n",
    "df['file'] = [file.strip() + '.mp4' for file in df['file']]\n",
    "\n",
    "print(df.head()) # inspect the dataframe"
   ]
  },
  {
   "cell_type": "markdown",
   "metadata": {},
   "source": [
    "As there are column headers that we do not use and the columns are disorganized, we will create a subset of the main dataframe to only limit the column headers that we require and have the headers ordered neatly. We will also sort the dataframe alphabetically to `clean_text` column. "
   ]
  },
  {
   "cell_type": "markdown",
   "metadata": {},
   "source": [
    "#### Create a cleaner and organized dataframe"
   ]
  },
  {
   "cell_type": "code",
   "execution_count": 6,
   "metadata": {},
   "outputs": [
    {
     "name": "stdout",
     "output_type": "stream",
     "text": [
      "      clean_text                         file  label  height  width    fps  start   end                                         cleaned_url\n",
      "11077       #apt  ASL 1 Unit 3 Vocabulary.mp4    656     360    640  29.97   8213  8332         https://www.youtube.com/watch?v=KRrKqGEGdMg\n",
      "10733       #asl                   ASL(1).mp4    309     360    636  29.97      0    71         https://www.youtube.com/watch?v=UyvO5kp4ivQ\n",
      "2908        #asl  ASL 1 Unit 2 Vocabulary.mp4    309     360    640  29.97   2701  2759         https://www.youtube.com/watch?v=f7COHRpmVKA\n",
      "1909        #asl          CCHS ASL Unit 1.mp4    309     720    960  29.97    653   704  https://www.youtube.com/watch?v=eXpXg4q-qEQ&t=170s\n",
      "1908        #asl          CCHS ASL Unit 1.mp4    309     720    960  29.97    423   513  https://www.youtube.com/watch?v=eXpXg4q-qEQ&t=170s\n"
     ]
    }
   ],
   "source": [
    "# create a cleaner dataframe with the headers that will be needed\n",
    "\n",
    "filtered_train_df = df[['clean_text',  'file', 'label', 'height', 'width', 'fps', 'start', 'end',  'cleaned_url']]\n",
    "\n",
    "# Sort the DataFrame based on the 'clean_text' column\n",
    "filtered_train_df_sorted = filtered_train_df.sort_values(by='clean_text')\n",
    "\n",
    "print(filtered_train_df_sorted.head())"
   ]
  },
  {
   "cell_type": "markdown",
   "metadata": {},
   "source": [
    "Before we initiate the download, we will want to check how many entries are there in each of the signed words inside the Microsoft-ASL train dataset"
   ]
  },
  {
   "cell_type": "code",
   "execution_count": 24,
   "metadata": {},
   "outputs": [
    {
     "name": "stdout",
     "output_type": "stream",
     "text": [
      "not: 117\n",
      "you: 112\n",
      "up: 88\n",
      "like: 81\n",
      "school: 79\n",
      "hearing: 70\n",
      "want: 70\n",
      "nice: 67\n",
      "year: 61\n",
      "every: 60\n",
      "all: 59\n",
      "night: 59\n",
      "friend: 59\n",
      "good: 58\n",
      "morning: 57\n",
      "eat: 57\n",
      "week: 56\n",
      "me: 55\n",
      "know: 55\n",
      "spring: 55\n",
      "student: 54\n",
      "understand: 53\n",
      "love: 52\n",
      "help: 51\n",
      "how: 51\n",
      "hair: 50\n",
      "orange: 50\n",
      "teacher: 50\n",
      "france: 48\n",
      "what: 48\n",
      "white: 48\n",
      "room: 47\n",
      "fish: 47\n",
      "deaf: 46\n",
      "milk: 46\n",
      "no: 46\n",
      "where: 46\n",
      "yes: 46\n",
      "again: 44\n",
      "day: 44\n",
      "cousin: 44\n",
      "afternoon: 43\n",
      "drink: 43\n",
      "mother: 42\n",
      "nothing: 42\n",
      "sister: 42\n",
      "yellow: 42\n",
      "finish: 41\n",
      "last: 41\n",
      "learn: 41\n",
      "water: 41\n",
      "write: 41\n",
      "blue: 40\n",
      "fine: 40\n",
      "meet: 40\n",
      "sad: 40\n",
      "table: 40\n",
      "tired: 40\n",
      "black: 39\n",
      "english: 39\n",
      "forget: 39\n",
      "green: 39\n",
      "pencil: 39\n",
      "please: 39\n",
      "red: 39\n",
      "go: 38\n",
      "happy: 38\n",
      "i: 38\n",
      "name: 38\n",
      "play: 38\n",
      "brother: 37\n",
      "brown: 37\n",
      "doctor: 37\n",
      "father: 37\n",
      "lost: 37\n",
      "apple: 36\n",
      "book: 36\n",
      "computer: 36\n",
      "family: 36\n",
      "grandmother: 36\n",
      "hurt: 36\n",
      "sick: 36\n",
      "sign: 36\n",
      "sit: 36\n",
      "dance: 35\n",
      "draw: 35\n",
      "girl: 35\n",
      "man: 35\n",
      "next: 35\n",
      "nurse: 35\n",
      "see: 35\n",
      "paper: 35\n",
      "sandwich: 35\n",
      "sunday: 35\n",
      "when: 35\n",
      "bus: 34\n",
      "grandfather: 34\n",
      "here: 34\n",
      "pink: 34\n",
      "purple: 34\n",
      "take: 34\n",
      "thank: 34\n",
      "bathroom: 33\n",
      "hungry: 33\n",
      "read: 33\n",
      "walk: 33\n",
      "who: 33\n",
      "boy: 32\n",
      "class: 32\n",
      "hour: 32\n",
      "more: 32\n",
      "aunt: 31\n",
      "break: 31\n",
      "cat: 31\n",
      "cheese: 31\n",
      "dog: 31\n",
      "slow: 31\n",
      "woman: 31\n",
      "chicken: 30\n",
      "college: 30\n",
      "color: 30\n",
      "have: 30\n",
      "hello: 30\n",
      "home: 30\n",
      "horse: 30\n",
      "shoes: 30\n",
      "time: 30\n",
      "uncle: 30\n",
      "work: 30\n",
      "your: 30\n",
      "boyfriend: 29\n",
      "live: 29\n",
      "soda: 29\n",
      "turkey: 29\n",
      "africa: 28\n",
      "to: 28\n",
      "store: 28\n",
      "month: 28\n",
      "my: 28\n",
      "same: 28\n",
      "shirt: 28\n",
      "wednesday: 28\n",
      "america: 27\n",
      "bad: 27\n",
      "coffee: 27\n",
      "different: 27\n",
      "freeze: 27\n",
      "old: 27\n",
      "right: 27\n",
      "saturday: 27\n",
      "thursday: 27\n",
      "tomorrow: 27\n",
      "afraid: 26\n",
      "beautiful: 26\n",
      "bicycle: 26\n",
      "bye: 26\n",
      "center: 26\n",
      "cow: 26\n",
      "daughter: 26\n",
      "early: 26\n",
      "excited: 26\n",
      "hard: 26\n",
      "jacket: 26\n",
      "now: 26\n",
      "one: 26\n",
      "principal: 26\n",
      "tea: 26\n",
      "today: 26\n",
      "why: 26\n",
      "wrong: 26\n",
      "candy: 25\n",
      "cookie: 25\n",
      "how_many: 25\n",
      "husband: 25\n",
      "light: 25\n",
      "marry: 25\n",
      "monday: 25\n",
      "quiet: 25\n",
      "russia: 25\n",
      "short: 25\n",
      "soccer: 25\n",
      "sorry: 25\n",
      "south: 25\n",
      "thanksgiving: 25\n",
      "wife: 25\n",
      "wood: 25\n",
      "bread: 24\n",
      "children: 24\n",
      "door: 24\n",
      "feel: 24\n",
      "graduate: 24\n",
      "kitchen: 24\n",
      "restaurant: 24\n",
      "run: 24\n",
      "son: 24\n",
      "in: 23\n",
      "big: 23\n",
      "birthday: 23\n",
      "born: 23\n",
      "car: 23\n",
      "counselor: 23\n",
      "die: 23\n",
      "divorce: 23\n",
      "cream: 23\n",
      "friendly: 23\n",
      "germany: 23\n",
      "gold: 23\n",
      "grapes: 23\n",
      "hoddog: 23\n",
      "hot: 23\n",
      "lunch: 23\n",
      "math: 23\n",
      "nephew: 23\n",
      "party: 23\n",
      "practice: 23\n",
      "teach: 23\n",
      "tuesday: 23\n",
      "watch: 23\n",
      "busy: 22\n",
      "cereal: 22\n",
      "cook: 22\n",
      "cup: 22\n",
      "eleven: 22\n",
      "enjoy: 22\n",
      "frog: 22\n",
      "give: 22\n",
      "india: 22\n",
      "late: 22\n",
      "long: 22\n",
      "movie: 22\n",
      "need: 22\n",
      "niece: 22\n",
      "remember: 22\n",
      "study: 22\n",
      "tree: 22\n",
      "we: 22\n",
      "arrive: 21\n",
      "baby: 21\n",
      "banana: 21\n",
      "boring: 21\n",
      "can't: 21\n",
      "on: 21\n",
      "dirty: 21\n",
      "favorite: 21\n",
      "hat: 21\n",
      "lazy: 21\n",
      "mad: 21\n",
      "music: 21\n",
      "newspaper: 21\n",
      "pants: 21\n",
      "shower: 21\n",
      "sixteen: 21\n",
      "sweet: 21\n",
      "ten: 21\n",
      "vacation: 21\n",
      "which: 21\n",
      "asia: 20\n",
      "autumn: 20\n",
      "bed: 20\n",
      "bird: 20\n",
      "cafeteria: 20\n",
      "clothes: 20\n",
      "confused: 20\n",
      "delicious: 20\n",
      "egg: 20\n",
      "elephant: 20\n",
      "friday: 20\n",
      "future: 20\n",
      "homework: 20\n",
      "interesting: 20\n",
      "library: 20\n",
      "look: 20\n",
      "medicine: 20\n",
      "mexico: 20\n",
      "salad: 20\n",
      "shop: 20\n",
      "smart: 20\n",
      "some: 20\n",
      "spanish: 20\n",
      "start: 20\n",
      "strawberry: 20\n",
      "train: 20\n",
      "twenty: 20\n",
      "two: 20\n",
      "yesterday: 20\n",
      "asl: 19\n",
      "australia: 19\n",
      "ball: 19\n",
      "can: 19\n",
      "china: 19\n",
      "chocolate: 19\n",
      "city: 19\n",
      "cough: 19\n",
      "flower: 19\n",
      "from: 19\n",
      "fun: 19\n",
      "get: 19\n",
      "girlfriend: 19\n",
      "house: 19\n",
      "are: 19\n",
      "language: 19\n",
      "lion: 19\n",
      "mean: 19\n",
      "money: 19\n",
      "noon: 19\n",
      "office: 19\n",
      "pizza: 19\n",
      "pregnant: 19\n",
      "put_down: 19\n",
      "ready: 19\n",
      "salt: 19\n",
      "shy: 19\n",
      "with: 19\n",
      "alarm: 18\n",
      "awful: 18\n",
      "backpack: 18\n",
      "basketball: 18\n",
      "bear: 18\n",
      "buy: 18\n",
      "church: 18\n",
      "cold: 18\n",
      "complain: 18\n",
      "cracker: 18\n",
      "everyday: 18\n",
      "expensive: 18\n",
      "finland: 18\n",
      "focus: 18\n",
      "history: 18\n",
      "interpreter: 18\n",
      "later: 18\n",
      "than: 18\n",
      "new: 18\n",
      "nineteen: 18\n",
      "phone: 18\n",
      "science: 18\n",
      "small: 18\n",
      "so: 18\n",
      "stay: 18\n",
      "television: 18\n",
      "university: 18\n",
      "visit: 18\n",
      "warm: 18\n",
      "weather: 18\n",
      "beard: 17\n",
      "corn: 17\n",
      "cute: 17\n",
      "dentist: 17\n",
      "excuse: 17\n",
      "exercise: 17\n",
      "far: 17\n",
      "fruit: 17\n",
      "frustrated: 17\n",
      "full: 17\n",
      "funny: 17\n",
      "glasses: 17\n",
      "gray: 17\n",
      "greece: 17\n",
      "of: 17\n",
      "israel: 17\n",
      "lie: 17\n",
      "never: 17\n",
      "parents: 17\n",
      "police: 17\n",
      "seven: 17\n",
      "sleepy: 17\n",
      "soap: 17\n",
      "soup: 17\n",
      "speech: 17\n",
      "strange: 17\n",
      "thirteen: 17\n",
      "tiger: 17\n",
      "turtle: 17\n",
      "ugly: 17\n",
      "vegetable: 17\n",
      "actor: 16\n",
      "baseball: 16\n",
      "basement: 16\n",
      "business: 16\n",
      "butter: 16\n",
      "canada: 16\n",
      "carrot: 16\n",
      "copy: 16\n",
      "couch: 16\n",
      "dolphin: 16\n",
      "dress: 16\n",
      "europe: 16\n",
      "football: 16\n",
      "giraffe: 16\n",
      "government: 16\n",
      "grass: 16\n",
      "gym: 16\n",
      "hamburger: 16\n",
      "hold: 16\n",
      "librarian: 16\n",
      "living: 16\n",
      "medium: 16\n",
      "most: 16\n",
      "poland: 16\n",
      "popcorn: 16\n",
      "potato: 16\n",
      "sleep: 16\n",
      "star: 16\n",
      "steal: 16\n",
      "stop: 16\n",
      "summer: 16\n",
      "tall: 16\n",
      "tell: 16\n",
      "their: 16\n",
      "three: 16\n",
      "twelve: 16\n",
      "weekend: 16\n",
      "what's: 16\n",
      "win: 16\n",
      "window: 16\n",
      "always: 15\n",
      "area: 15\n",
      "army: 15\n",
      "bedroom: 15\n",
      "better: 15\n",
      "blanket: 15\n",
      "boss: 15\n",
      "breakfast: 15\n",
      "change: 15\n",
      "dollar: 15\n",
      "fire: 15\n",
      "glue: 15\n",
      "high: 15\n",
      "holland: 15\n",
      "ireland: 15\n",
      "juice: 15\n",
      "jump: 15\n",
      "minute: 15\n",
      "nervous: 15\n",
      "retire: 15\n",
      "secretary: 15\n",
      "socks: 15\n",
      "stand: 15\n",
      "think: 15\n",
      "tomato: 15\n",
      "wow: 15\n",
      "young: 15\n",
      "30: 14\n",
      "accident: 14\n",
      "airplane: 14\n",
      "apartment: 14\n",
      "arrogant: 14\n",
      "back: 14\n",
      "bacon: 14\n",
      "bath: 14\n",
      "bathtub: 14\n",
      "beach: 14\n",
      "bored: 14\n",
      "bug: 14\n",
      "christmas: 14\n",
      "cool: 14\n",
      "date: 14\n",
      "egypt: 14\n",
      "eighteen: 14\n",
      "explain: 14\n",
      "face: 14\n",
      "fat: 14\n",
      "fifteen: 14\n",
      "fourteen: 14\n",
      "fries: 14\n",
      "game: 14\n",
      "garage: 14\n",
      "glass: 14\n",
      "gymnastics: 14\n",
      "hanukkah: 14\n",
      "important: 14\n",
      "iran: 14\n",
      "italy: 14\n",
      "kiss: 14\n",
      "korea: 14\n",
      "laundry: 14\n",
      "meeting: 14\n",
      "midnight: 14\n",
      "mischievous: 14\n",
      "monkey: 14\n",
      "nosy: 14\n",
      "number: 14\n",
      "oh: 14\n",
      "outside: 14\n",
      "pepper: 14\n",
      "seventeen: 14\n",
      "skirt: 14\n",
      "snow: 14\n",
      "sometimes: 14\n",
      "soon: 14\n",
      "sore: 14\n",
      "throat: 14\n",
      "spaghetti: 14\n",
      "sports: 14\n",
      "stupid: 14\n",
      "sweep: 14\n",
      "they: 14\n",
      "tie: 14\n",
      "winter: 14\n",
      "annoy: 13\n",
      "artist: 13\n",
      "boots: 13\n",
      "bowl: 13\n",
      "chat: 13\n",
      "cost: 13\n",
      "country: 13\n",
      "education: 13\n",
      "eight: 13\n",
      "exam: 13\n",
      "fishing: 13\n",
      "four: 13\n",
      "half: 13\n",
      "headache: 13\n",
      "hospital: 13\n",
      "key: 13\n",
      "loan: 13\n",
      "many: 13\n",
      "meat: 13\n",
      "musician: 13\n",
      "mustache: 13\n",
      "oversleep: 13\n",
      "peach: 13\n",
      "people: 13\n",
      "rain: 13\n",
      "refrigerator: 13\n",
      "schedule: 13\n",
      "six: 13\n",
      "stove: 13\n",
      "street: 13\n",
      "sweden: 13\n",
      "swimming: 13\n",
      "team: 13\n",
      "thirsty: 13\n",
      "toast: 13\n",
      "towel: 13\n",
      "vietnam: 13\n",
      "wait: 13\n",
      "animal: 12\n",
      "argue: 12\n",
      "bald: 12\n",
      "boat: 12\n",
      "brush: 12\n",
      "teeth: 12\n",
      "butterfly: 12\n",
      "calendar: 12\n",
      "camping: 12\n",
      "classroom: 12\n",
      "clock: 12\n",
      "deer: 12\n",
      "dessert: 12\n",
      "dinner: 12\n",
      "east: 12\n",
      "engineer: 12\n",
      "few: 12\n",
      "firefighter: 12\n",
      "five: 12\n",
      "fly: 12\n",
      "freeway: 12\n",
      "freshman: 12\n",
      "his: 12\n",
      "humble: 12\n",
      "law: 12\n",
      "japan: 12\n",
      "knife: 12\n",
      "laugh: 12\n",
      "lawyer: 12\n",
      "mountain: 12\n",
      "nine: 12\n",
      "our: 12\n",
      "paint: 12\n",
      "past: 12\n",
      "pillow: 12\n",
      "plate: 12\n",
      "rainbow: 12\n",
      "scissors: 12\n",
      "scotland: 12\n",
      "sew: 12\n",
      "should: 12\n",
      "silly: 12\n",
      "sink: 12\n",
      "sun: 12\n",
      "swing: 12\n",
      "theater: 12\n",
      "thin: 12\n",
      "travel: 12\n",
      "weak: 12\n",
      "whale: 12\n",
      "21: 11\n",
      "22: 11\n",
      "25: 11\n",
      "adopt: 11\n",
      "austria: 11\n",
      "best: 11\n",
      "both: 11\n",
      "cake: 11\n",
      "cherry: 11\n",
      "closet: 11\n",
      "come: 11\n",
      "cry: 11\n",
      "dry: 11\n",
      "dumb: 11\n",
      "earthquake: 11\n",
      "elevator: 11\n",
      "email: 11\n",
      "fast: 11\n",
      "for: 11\n",
      "front: 11\n",
      "gone: 11\n",
      "hallway: 11\n",
      "hike: 11\n",
      "iraq: 11\n",
      "leave: 11\n",
      "letter: 11\n",
      "lettuce: 11\n",
      "lobster: 11\n",
      "locker: 11\n",
      "lousy: 11\n",
      "manager: 11\n",
      "maybe: 11\n",
      "measure: 11\n",
      "microwave: 11\n",
      "norway: 11\n",
      "ocean: 11\n",
      "onion: 11\n",
      "pay: 11\n",
      "photography: 11\n",
      "pig: 11\n",
      "psychologist: 11\n",
      "pull: 11\n",
      "rude: 11\n",
      "search: 11\n",
      "separate: 11\n",
      "shock: 11\n",
      "since: 11\n",
      "sneeze: 11\n",
      "spain: 11\n",
      "spoon: 11\n",
      "swim: 11\n",
      "talk: 11\n",
      "tend: 11\n",
      "there: 11\n",
      "total: 11\n",
      "truck: 11\n",
      "twins: 11\n",
      "watermelon: 11\n",
      "26: 10\n",
      "algebra: 10\n",
      "also: 10\n",
      "angry: 10\n",
      "ask: 10\n",
      "athlete: 10\n",
      "but: 10\n",
      "calculus: 10\n",
      "candle: 10\n",
      "cheap: 10\n",
      "chef: 10\n",
      "chemistry: 10\n",
      "close: 10\n",
      "cloud: 10\n",
      "cuba: 10\n",
      "earn: 10\n",
      "elementary: 10\n",
      "eye: 10\n",
      "contact: 10\n",
      "fight: 10\n",
      "first: 10\n",
      "flag: 10\n",
      "goat: 10\n",
      "grey: 10\n",
      "hi: 10\n",
      "hong: 10\n",
      "kong: 10\n",
      "internet: 10\n",
      "listen: 10\n",
      "at: 10\n",
      "magazine: 10\n",
      "match: 10\n",
      "metal: 10\n",
      "mirror: 10\n",
      "near: 10\n",
      "often: 10\n",
      "partner: 10\n",
      "pass: 10\n",
      "photographer: 10\n",
      "piano: 10\n",
      "pineapple: 10\n",
      "rock: 10\n",
      "senior: 10\n",
      "show: 10\n",
      "silver: 10\n",
      "slide: 10\n",
      "strong: 10\n",
      "surprise: 10\n",
      "switzerland: 10\n",
      "that: 10\n",
      "together: 10\n",
      "underwear: 10\n",
      "use: 10\n",
      "vacuum: 10\n",
      "volleyball: 10\n",
      "vomit: 10\n",
      "wall: 10\n",
      "wedding: 10\n",
      "welcome: 10\n",
      "will: 10\n",
      "worry: 10\n",
      "yearbook: 10\n",
      "27: 9\n",
      "28: 9\n",
      "and: 9\n",
      "answer: 9\n",
      "become: 9\n",
      "beer: 9\n",
      "before: 9\n",
      "biology: 9\n",
      "bitter: 9\n",
      "bookstore: 9\n",
      "bowling: 9\n",
      "cabinets: 9\n",
      "careful: 9\n",
      "child: 9\n",
      "clear: 9\n",
      "dark: 9\n",
      "decide: 9\n",
      "denmark: 9\n",
      "disgusted: 9\n",
      "dorm: 9\n",
      "down: 9\n",
      "drive: 9\n",
      "duck: 9\n",
      "easter: 9\n",
      "easy: 9\n",
      "economics: 9\n",
      "engaged: 9\n",
      "eyes: 9\n",
      "fail: 9\n",
      "fox: 9\n",
      "golf: 9\n",
      "health: 9\n",
      "hippo: 9\n",
      "hotel: 9\n",
      "ketchup: 9\n",
      "less: 9\n",
      "meaning: 9\n",
      "mechanic: 9\n",
      "mouse: 9\n",
      "yet: 9\n",
      "pear: 9\n",
      "philippines: 9\n",
      "physics: 9\n",
      "polite: 9\n",
      "portugal: 9\n",
      "proud: 9\n",
      "rabbit: 9\n",
      "roommate: 9\n",
      "scarf: 9\n",
      "shark: 9\n",
      "sheep: 9\n",
      "shrimp: 9\n",
      "single: 9\n",
      "snake: 9\n",
      "spider: 9\n",
      "squirrel: 9\n",
      "stairs: 9\n",
      "strict: 9\n",
      "stubborn: 9\n",
      "sugar: 9\n",
      "taiwan: 9\n",
      "care: 9\n",
      "therapy: 9\n",
      "throw: 9\n",
      "traffic: 9\n",
      "trigonometry: 9\n",
      "waiter: 9\n",
      "west: 9\n",
      "wet: 9\n",
      "world: 9\n",
      "23: 8\n",
      "24: 8\n",
      "29: 8\n",
      "absent: 8\n",
      "accountant: 8\n",
      "alone: 8\n",
      "appointment: 8\n",
      "bake: 8\n",
      "bank: 8\n",
      "belt: 8\n",
      "broke: 8\n",
      "building: 8\n",
      "celebrate: 8\n",
      "cent: 8\n",
      "cooking: 8\n",
      "depressed: 8\n",
      "destroy: 8\n",
      "dizzy: 8\n",
      "do: 8\n",
      "dresser: 8\n",
      "due: 8\n",
      "envelope: 8\n",
      "equal: 8\n",
      "famous: 8\n",
      "find: 8\n",
      "fingerspell: 8\n",
      "flat: 8\n",
      "tire: 8\n",
      "free: 8\n",
      "furniture: 8\n",
      "geometry: 8\n",
      "gossip: 8\n",
      "group: 8\n",
      "halloween: 8\n",
      "happen: 8\n",
      "he: 8\n",
      "head: 8\n",
      "hear: 8\n",
      "hockey: 8\n",
      "hurry: 8\n",
      "ice-skating: 8\n",
      "island: 8\n",
      "jail: 8\n",
      "junior: 8\n",
      "left: 8\n",
      "mainstreamed: 8\n",
      "moon: 8\n",
      "motorcycle: 8\n",
      "mushroom: 8\n",
      "ok: 8\n",
      "open: 8\n",
      "painting: 8\n",
      "perfect: 8\n",
      "pet: 8\n",
      "picture: 8\n",
      "pie: 8\n",
      "pool: 8\n",
      "rest: 8\n",
      "rubber: 8\n",
      "scientist: 8\n",
      "several: 8\n",
      "snob: 8\n",
      "stuck: 8\n",
      "sweater: 8\n",
      "sweetheart: 8\n",
      "tape: 8\n",
      "umbrella: 8\n",
      "wash: 8\n",
      "worm: 8\n",
      "after: 7\n",
      "apply: 7\n",
      "around: 7\n",
      "card: 7\n",
      "curly: 7\n",
      "curtains: 7\n",
      "dictionary: 7\n",
      "dining: 7\n",
      "ears: 7\n",
      "embarrassed: 7\n",
      "emergency: 7\n",
      "engineering: 7\n",
      "fence: 7\n",
      "fix: 7\n",
      "hate: 7\n",
      "hid: 7\n",
      "if: 7\n",
      "innocent: 7\n",
      "intersection: 7\n",
      "join: 7\n",
      "line: 7\n",
      "list: 7\n",
      "loud: 7\n",
      "it: 7\n",
      "major: 7\n",
      "march: 7\n",
      "melon: 7\n",
      "motivated: 7\n",
      "museum: 7\n",
      "north: 7\n",
      "nose: 7\n",
      "out: 7\n",
      "plan: 7\n",
      "positive: 7\n",
      "pshaw: 7\n",
      "puerto: 7\n",
      "rico: 7\n",
      "radio: 7\n",
      "refuse: 7\n",
      "river: 7\n",
      "screwdriver: 7\n",
      "ski: 7\n",
      "stamp: 7\n",
      "subway: 7\n",
      "tennis: 7\n",
      "upset: 7\n",
      "wake: 7\n",
      "wine: 7\n",
      "about: 6\n",
      "adult: 6\n",
      "any: 6\n",
      "bat: 6\n",
      "believe: 6\n",
      "camera: 6\n",
      "cashier: 6\n",
      "challenge: 6\n",
      "comfortable: 6\n",
      "credit: 6\n",
      "culture: 6\n",
      "discuss: 6\n",
      "drop: 6\n",
      "eyeglasses: 6\n",
      "false: 6\n",
      "flirt: 6\n",
      "floor: 6\n",
      "gallaudet: 6\n",
      "ticket: 6\n",
      "grocery: 6\n",
      "hit: 6\n",
      "jam: 6\n",
      "janitor: 6\n",
      "jealous: 6\n",
      "lake: 6\n",
      "lead: 6\n",
      "ago: 6\n",
      "mouth: 6\n",
      "negative: 6\n",
      "nuts: 6\n",
      "personality: 6\n",
      "cardss: 6\n",
      "poor: 6\n",
      "pow: 6\n",
      "research: 6\n",
      "save: 6\n",
      "send: 6\n",
      "serious: 6\n",
      "skiing: 6\n",
      "sophomore: 6\n",
      "surfing: 6\n",
      "off: 6\n",
      "transfer: 6\n",
      "vice: 6\n",
      "president: 6\n",
      "wish: 6\n",
      "argentina: 5\n",
      "camp: 5\n",
      "cochlear: 5\n",
      "implant: 5\n",
      "curious: 5\n",
      "disappear: 5\n",
      "during: 5\n",
      "emotional: 5\n",
      "gasoline: 5\n",
      "guilty: 5\n",
      "gum: 5\n",
      "heart: 5\n",
      "hill: 5\n",
      "inform: 5\n",
      "introduce: 5\n",
      "judge: 5\n",
      "lamp: 5\n",
      "lemon: 5\n",
      "lonely: 5\n",
      "mix: 5\n",
      "pancake: 5\n",
      "plus: 5\n",
      "pumpkin: 5\n",
      "push: 5\n",
      "question: 5\n",
      "rich: 5\n",
      "shelves: 5\n",
      "snowboard: 5\n",
      "step: 5\n",
      "still: 5\n",
      "#asl: 4\n",
      "#ok: 4\n",
      "100: 4\n",
      "50: 4\n",
      "brave: 4\n",
      "bright: 4\n",
      "crash: 4\n",
      "crazy: 4\n",
      "disappointed: 4\n",
      "drawer: 4\n",
      "example: 4\n",
      "minus: 4\n",
      "must: 4\n",
      "officer: 4\n",
      "relationship: 4\n",
      "ring: 4\n",
      "surf: 4\n",
      "true: 4\n",
      "accept: 3\n",
      "awkward: 3\n",
      "check: 3\n",
      "dryer: 3\n",
      "gas: 3\n",
      "only: 3\n",
      "pick: 3\n",
      "quarter: 3\n",
      "skateboard: 3\n",
      "appearance: 2\n",
      "build: 2\n",
      "call: 2\n",
      "follow: 2\n",
      "steady: 2\n",
      "inside: 2\n",
      "make: 2\n",
      "psychology: 2\n",
      "seem: 2\n",
      "shelf: 2\n",
      "ﬁshing: 2\n",
      "#apt: 1\n",
      "acquire: 1\n",
      "dish: 1\n",
      "hashtag: 1\n",
      "purchase: 1\n",
      "sell: 1\n",
      "spell: 1\n",
      "steak: 1\n",
      "thanks: 1\n",
      "ﬁnish: 1\n",
      "ﬁre: 1\n",
      "\n",
      "      \n",
      "We can see that there is a total number of 1018 different words in this dataset\n"
     ]
    }
   ],
   "source": [
    "\n",
    "# Initialize defaultdict for word counts\n",
    "word_counts = defaultdict(int)\n",
    "\n",
    "# Iterate over each row in the DataFrame\n",
    "for text in filtered_train_df_sorted['clean_text']:\n",
    "    # Split text into words\n",
    "    words = text.split()\n",
    "    # Increment count for each word\n",
    "    for word in words:\n",
    "        word_counts[word] += 1\n",
    "\n",
    "# Sort word counts by count value in descending order\n",
    "sorted_word_counts = sorted(word_counts.items(), key=lambda x: x[1], reverse=True)\n",
    "\n",
    "# Print word counts\n",
    "total_words = 0\n",
    "for word, count in sorted_word_counts:\n",
    "    print(f'{word}: {count}')\n",
    "    total_words +=1\n",
    "\n",
    "print(f'''\n",
    "      \n",
    "We can see that there is a total number of {total_words} different words in this dataset''')\n"
   ]
  },
  {
   "cell_type": "markdown",
   "metadata": {},
   "source": [
    "From the count of each words there are imbalances if we were to choose any word to start with. The most number of video links available on the MS-ASL train dataset is `not` at 117 video links to the least number of word `fire` with only a single video link. \n",
    "\n",
    "Considering that we did initially choose 10 words from the list from the webpage Handspeak. We will obtain the number of video links listed in the dataframe."
   ]
  },
  {
   "cell_type": "code",
   "execution_count": 25,
   "metadata": {},
   "outputs": [
    {
     "name": "stdout",
     "output_type": "stream",
     "text": [
      "Occurrences of 'eat': 108\n",
      "Occurrences of 'hello': 30\n",
      "Occurrences of 'name': 38\n",
      "Occurrences of 'no': 435\n",
      "Occurrences of 'please': 39\n",
      "Occurrences of 'sorry': 25\n",
      "Occurrences of 'thank you': 34\n",
      "Occurrences of 'want': 70\n",
      "Occurrences of 'what': 64\n",
      "Occurrences of 'where': 46\n"
     ]
    }
   ],
   "source": [
    "# Initialize a dictionary to store counts\n",
    "word_counts = {}\n",
    "\n",
    "# Iterate over the list of words\n",
    "for word in chosen_words:\n",
    "    # Filter the dataframe based on the word in the 'clean_text' column\n",
    "    train3_df = filtered_train_df_sorted[filtered_train_df_sorted['clean_text'].str.contains(word, case=False)]\n",
    "    \n",
    "    # Count the number of rows in the filtered dataframe and store the count\n",
    "    word_counts[word] = len(train3_df)\n",
    "\n",
    "# Print the counts\n",
    "for word, count in word_counts.items():\n",
    "    print(f\"Occurrences of '{word}': {count}\")\n",
    "\n"
   ]
  },
  {
   "cell_type": "markdown",
   "metadata": {},
   "source": [
    "The word that has the most videos are the word *'eat'* at 108 video links while *'sorry'* has 25 links for training.\n",
    "\n",
    "We will keep this initial list simple, with just 3 words to start preprocessing and model. The words *please*, *sorry*, and *hello* are shortlisted as they are words that could be use right from the beginning, and also, they have a similar number of videos.\n",
    "\n",
    "\n",
    "So the following will be the new list of words:"
   ]
  },
  {
   "cell_type": "code",
   "execution_count": 26,
   "metadata": {},
   "outputs": [
    {
     "name": "stdout",
     "output_type": "stream",
     "text": [
      "['please', 'sorry', 'hello']\n"
     ]
    }
   ],
   "source": [
    "first_three = ['please', 'sorry', 'hello']\n",
    "\n",
    "print(first_three)"
   ]
  },
  {
   "cell_type": "code",
   "execution_count": 27,
   "metadata": {},
   "outputs": [
    {
     "name": "stdout",
     "output_type": "stream",
     "text": [
      "      clean_text                                            file  label  height  width    fps  start   end                                  cleaned_url\n",
      "14003      hello  American Sign Language Learning the basics.mp4      0     360    640  29.97   1874  1903  https://www.youtube.com/watch?v=yG09SQB0Hds\n",
      "653        hello                        Unit 1 Vocabulary(2).mp4      0     360    640  29.97    280   362  https://www.youtube.com/watch?v=7YYB3BEoksc\n",
      "652        hello                        Unit 1 Vocabulary(2).mp4      0     360    640  29.97    250   277  https://www.youtube.com/watch?v=7YYB3BEoksc\n",
      "3434       hello                        ASL Vocabulary hello.mp4      0     360    640  29.97    110   150  https://www.youtube.com/watch?v=9jUuFHB2m4M\n",
      "3433       hello                        ASL Vocabulary hello.mp4      0     360    640  29.97     30    80  https://www.youtube.com/watch?v=9jUuFHB2m4M\n",
      "(94, 9)\n"
     ]
    }
   ],
   "source": [
    "train_df = filtered_train_df_sorted[filtered_train_df_sorted['clean_text'].isin(first_three)]\n",
    "\n",
    "print(train_df.head())\n",
    "print(train_df.shape) # 103 video links for the 3 sign actions"
   ]
  },
  {
   "cell_type": "code",
   "execution_count": 28,
   "metadata": {},
   "outputs": [],
   "source": [
    "# Export as csv file \n",
    "\n",
    "train_df.to_csv('../data/msasl_train.csv', index = False)"
   ]
  },
  {
   "cell_type": "markdown",
   "metadata": {},
   "source": [
    "---\n",
    "###  1.4.3 Testing and Validation Datasets\n",
    "\n",
    "\n",
    "Microsoft ASL separates their files into train, test, and validation json files. We will do the exact same process for the training dataset earlier into the testing and validation files for modeling. "
   ]
  },
  {
   "cell_type": "markdown",
   "metadata": {},
   "source": [
    "---\n",
    "### 1.4.3.1 Microsoft-ASL *Test* dataset\n",
    "---"
   ]
  },
  {
   "cell_type": "code",
   "execution_count": 29,
   "metadata": {},
   "outputs": [
    {
     "name": "stdout",
     "output_type": "stream",
     "text": [
      "    org_text clean_text  start_time  signer_id  signer  start  end                      file  label  height     fps  end_time                                  url       text                                                                                 box  width  review                                  cleaned_url\n",
      "0       beer       beer         0.0         20      40      0   59   SignSchool Beer var.mp4    805     360  29.970     1.969  www.youtube.com/watch?v=wX78EPtSuzU       beer                     [0.046787232160568, 0.290409207344055, 1.0, 0.8233144283294671]    640     NaN  https://www.youtube.com/watch?v=wX78EPtSuzU\n",
      "1      enjoy      enjoy         0.0         11      39      0   54              enjoy(1).mp4    192     360  29.970     1.802  www.youtube.com/watch?v=OL02Odh2dRg      enjoy                     [0.071450918912887, 0.136024981737136, 1.0, 0.9055149555206291]    480     NaN  https://www.youtube.com/watch?v=OL02Odh2dRg\n",
      "2  emotional  emotional         0.0         20      40      0   30  SignSchool Emotional.mp4    907     360  23.976     1.251  www.youtube.com/watch?v=C59jcSo4fEI  emotional                  [0.059554219245910006, 0.281019657850265, 1.0, 0.8543376922607421]    640     NaN  https://www.youtube.com/watch?v=C59jcSo4fEI\n",
      "3        key        key         0.0         92      -1      0   37        SignSchool Key.mp4    456     360  23.976     1.543  www.youtube.com/watch?v=Qs2ua1S6tg0        key                    [0.11462894082069301, 0.308987438678741, 1.0, 0.827522039413452]    640     NaN  https://www.youtube.com/watch?v=Qs2ua1S6tg0\n",
      "4        bad        bad         0.0         11      39      0   36                   BAD.mp4     81     360  29.970     1.201  www.youtube.com/watch?v=-kgTBeOw95A        bad  [0.040453493595123007, 0.22047379612922602, 0.9983196258544921, 0.761262774467468]    480     NaN  https://www.youtube.com/watch?v=-kgTBeOw95A\n"
     ]
    }
   ],
   "source": [
    "# import testing dataframe from MSASL\n",
    "test_df = pd.read_json('../data/MS-ASL/MSASL_test.json')\n",
    "\n",
    "\n",
    "#### Start Exact cleaning steps as Training Data ####\n",
    "\n",
    "# some files do not have https so we will check and include 'https://' into the url\n",
    "urls = test_df['url'] # create a list of all urls from the dataframe\n",
    "\n",
    "# use a for loop to add a prefix 'https://' to the front of the urls if\n",
    "# the url starts with 'www.'\n",
    "for i, url in enumerate(urls):\n",
    "    if not url.startswith('https://'):\n",
    "        url = 'https://' + url\n",
    "        test_df.at[i,'cleaned_url'] = url # create a new column header and append the url there\n",
    "    else:\n",
    "        test_df.at[i,'cleaned_url'] = url # append the current url to the new header\n",
    "\n",
    "# as the file names inside the dataframe do not have '.mp4' and have trailing whitespaces,\n",
    "# we will clean the values in the 'file' column \n",
    "\n",
    "test_df = test_df.copy()\n",
    "test_df['file'] = [file.strip() + '.mp4' for file in test_df['file']]    \n",
    "\n",
    "#### COMPLETED ####   \n",
    "\n",
    "print(test_df.head()) # inspect first 5 rows of the test_df before subsetting"
   ]
  },
  {
   "cell_type": "code",
   "execution_count": 30,
   "metadata": {},
   "outputs": [
    {
     "name": "stdout",
     "output_type": "stream",
     "text": [
      "     clean_text                          file  label  height  width    fps  start   end                                  cleaned_url\n",
      "2354       #asl                       ASL.mp4    309     720   1280  30.00      0    49  https://www.youtube.com/watch?v=DFcoHE0WC5c\n",
      "530         #ok  ASL2 Class 45 Food SIGNS.mp4    714     720   1280  29.97   3395  3445  https://www.youtube.com/watch?v=qATuIbBufYQ\n",
      "3616        #ok  ASL3 Class 21 Vocabulary.mp4    714     720   1280  29.97    957  1011  https://www.youtube.com/watch?v=5LuS-TTg7rA\n",
      "4089        100            SignSchool 100.mp4    849     360    640  29.97      0    28  https://www.youtube.com/watch?v=I87rZdO7SPY\n",
      "2915        100          SignSchool 100 2.mp4    849     360    640  29.97      0    27  https://www.youtube.com/watch?v=vBssGGCcpfE\n"
     ]
    }
   ],
   "source": [
    "# create a cleaner dataframe with the headers that will be needed\n",
    "\n",
    "filtered_test_df = test_df[['clean_text',  'file', 'label', 'height', 'width', 'fps', 'start', 'end',  'cleaned_url']]\n",
    "\n",
    "# Sort the DataFrame based on the 'clean_text' column\n",
    "filtered_test_df_sorted = filtered_test_df.sort_values(by='clean_text')\n",
    "print(filtered_test_df_sorted.head())"
   ]
  },
  {
   "cell_type": "code",
   "execution_count": 31,
   "metadata": {},
   "outputs": [
    {
     "name": "stdout",
     "output_type": "stream",
     "text": [
      "     clean_text                               file  label  height  width    fps  start  end                                  cleaned_url\n",
      "1946      hello        ASL1 Class 48 New SIGNS.mp4      0     720   1280  29.97     84  150  https://www.youtube.com/watch?v=kVIt-qr5P2s\n",
      "3393      hello  ASL Top ASL Signs for Servers.mp4      0     360    360  29.97     11   51  https://www.youtube.com/watch?v=FBimL8-ND3E\n",
      "3238      hello       ASL3 Class 23 Vocabulary.mp4      0     720   1280  29.97     92  124  https://www.youtube.com/watch?v=eLpHf9bfdsI\n",
      "1275      hello        ASL1 Class 29 New SIGNS.mp4      0     720   1280  29.97    106  136  https://www.youtube.com/watch?v=H3eHAKpTF70\n",
      "3394      hello  ASL Top ASL Signs for Servers.mp4      0     360    360  29.97    101  161  https://www.youtube.com/watch?v=FBimL8-ND3E\n",
      "(33, 9)\n"
     ]
    }
   ],
   "source": [
    "test_df = filtered_test_df_sorted[filtered_test_df_sorted['clean_text'].isin(first_three)]\n",
    "\n",
    "print(test_df.head()) # inspect dataframe\n",
    "print(test_df.shape) # 33 video links for the 3 words"
   ]
  },
  {
   "cell_type": "code",
   "execution_count": 32,
   "metadata": {},
   "outputs": [],
   "source": [
    "# Export as csv file \n",
    "\n",
    "test_df.to_csv('../data/msasl_test.csv', index = False)"
   ]
  },
  {
   "cell_type": "markdown",
   "metadata": {},
   "source": [
    "---\n",
    "### 1.4.3.2 Microsoft-ASL *Validation* Dataset\n",
    "---"
   ]
  },
  {
   "cell_type": "markdown",
   "metadata": {},
   "source": [
    "We will inspect both dataframes and if we can observe that the columns organizations are identical to the MS-ASL train datase, we will  clean the `urls` and add a '.mp4' as a suffix to the `file` name. This will be the exact step as the train dataset for MS-ASL. Lastly, we will subset the dataframe for better redeability and have it exported out."
   ]
  },
  {
   "cell_type": "code",
   "execution_count": 33,
   "metadata": {},
   "outputs": [
    {
     "name": "stdout",
     "output_type": "stream",
     "text": [
      "   org_text clean_text  start_time  signer_id  signer  start  end              file  label  height     fps  end_time                                          url      text                                                                                 box  width  review                                  cleaned_url\n",
      "0    absent     absent         0.0        114      -1      0   37    ASL ABSENT.mp4    837     360  28.971     1.277  https://www.youtube.com/watch?v=ri3NrdgfAtE    absent                   [0.21896389126777602, 0.008568197488784, 0.9978311061859131, 1.0]    202     NaN  https://www.youtube.com/watch?v=ri3NrdgfAtE\n",
      "1      help       help         0.0         76      42      0  110        help 2.mp4     50     360  29.970     3.670          www.youtube.com/watch?v=l31UXgChCS4      help                   [0.050372719764709, 0.29941257834434504, 1.0, 0.6968145966529841]    640     NaN  https://www.youtube.com/watch?v=l31UXgChCS4\n",
      "2   come on    come on         0.0        114      -1      0   41   asl come on.mp4    889     360  25.000     1.640  https://www.youtube.com/watch?v=pt9bV_EvcaU   come on  [0.08946925401687601, 0.17948511242866502, 0.9989901781082151, 0.9873275160789491]    480     NaN  https://www.youtube.com/watch?v=pt9bV_EvcaU\n",
      "3  LANGUAGE   language         0.0          3      -1      0   56   LANGUAGE(3).mp4    513     360  15.000     3.733  https://www.youtube.com/watch?v=-j1wozf6o9w  language                     [0.177085787057876, 0.003668457269668, 1.0, 0.9955700635910031]    480     NaN  https://www.youtube.com/watch?v=-j1wozf6o9w\n",
      "4  confused   confused         0.0         53      -1      0   95  ASL Confused.mp4    272     360  29.969     3.170  https://www.youtube.com/watch?v=y8tHmOQcCwU  confused                   [0.06262531876564001, 0.209987848997116, 1.0, 0.7668771743774411]    640     NaN  https://www.youtube.com/watch?v=y8tHmOQcCwU\n"
     ]
    }
   ],
   "source": [
    "# import validation dataframe from MSASL\n",
    "val_df = pd.read_json('../data/MS-ASL/MSASL_val.json') \n",
    "\n",
    "#### Start Exact cleaning steps as Training Data ####\n",
    "\n",
    "# some files do not have https so we will check and include 'https://' into the url\n",
    "urls = val_df['url'] # create a list of all urls from the dataframe\n",
    "\n",
    "# use a for loop to add a prefix 'https://' to the front of the urls if\n",
    "# the url starts with 'www.'\n",
    "for i, url in enumerate(urls):\n",
    "    if not url.startswith('https://'):\n",
    "        url = 'https://' + url\n",
    "        val_df.at[i,'cleaned_url'] = url # create a new column header and append the url there\n",
    "    else:\n",
    "        val_df.at[i,'cleaned_url'] = url # append the current url to the new header\n",
    "\n",
    "# as the file names inside the dataframe do not have '.mp4' and have trailing whitespaces,\n",
    "# we will clean the values in the 'file' column \n",
    "\n",
    "val_df = val_df.copy()\n",
    "val_df['file'] = [file.strip() + '.mp4' for file in val_df['file']]    \n",
    "\n",
    "#### COMPLETED ####   \n",
    "\n",
    "print(val_df.head()) # inspect first 5 rows of the df"
   ]
  },
  {
   "cell_type": "code",
   "execution_count": 34,
   "metadata": {},
   "outputs": [
    {
     "name": "stdout",
     "output_type": "stream",
     "text": [
      "     clean_text                                            file  label  height  width     fps  start   end                                  cleaned_url\n",
      "3361       #asl                                      ASL(9).mp4    309     360    640  25.079      0    99  https://www.youtube.com/watch?v=72Iq9Cc0rcU\n",
      "5135        #ok                                       OK(2).mp4    714     360    640  30.000      0   123  https://www.youtube.com/watch?v=eXNd79kbUIg\n",
      "3358        100  Numbers 1 to 100 in American Sign Language.mp4    849     360    640  29.970   6108  6155  https://www.youtube.com/watch?v=6r8HDsBMk1E\n",
      "1476        100  Counting 1-100 in ASL with Base Ten Blocks.mp4    849     360    640  29.970   5973  6021  https://www.youtube.com/watch?v=iJwNP8oNphY\n",
      "3261        100                              ASL I - Unit 8.mp4    849     720   1280  24.000   8111  8197  https://www.youtube.com/watch?v=VcRx3U-HpTE\n"
     ]
    }
   ],
   "source": [
    "# create a cleaner dataframe with the headers that will be needed\n",
    "\n",
    "filtered_val_df = val_df[['clean_text',  'file', 'label', 'height', 'width', 'fps', 'start', 'end',  'cleaned_url']]\n",
    "\n",
    "# Sort the DataFrame based on the 'clean_text' column\n",
    "filtered_val_df_sorted = filtered_val_df.sort_values(by='clean_text')\n",
    "print(filtered_val_df_sorted.head())"
   ]
  },
  {
   "cell_type": "code",
   "execution_count": 35,
   "metadata": {},
   "outputs": [
    {
     "name": "stdout",
     "output_type": "stream",
     "text": [
      "     clean_text                                              file  label  height  width    fps  start    end                                  cleaned_url\n",
      "2048      hello                                        Unit 1.mp4      0     360    640  29.97  12647  12830  https://www.youtube.com/watch?v=BEKUHzwnVO8\n",
      "848       hello         Mr Miseners ASL lesson 1 vocab review.mp4      0     720   1280  30.00   2149   2263  https://www.youtube.com/watch?v=kZuJalsv_z0\n",
      "1478      hello                               Social Work Voc.mp4      0     720   1280  30.00      6     39  https://www.youtube.com/watch?v=V8DTIPK4QlU\n",
      "3590      hello                     ASL I - Unit 1 Vocabulary.mp4      0     720   1280  24.00   2240   2316  https://www.youtube.com/watch?v=2VB3WN8adyM\n",
      "867       hello  Greetings  Answers in American Sign Language.mp4      0     360    640  29.97     14     73  https://www.youtube.com/watch?v=pD4QabDQr6M\n",
      "(43, 9)\n"
     ]
    }
   ],
   "source": [
    "val_df = filtered_val_df_sorted[filtered_val_df_sorted['clean_text'].isin(first_three)]\n",
    "\n",
    "print(val_df.head()) # inspect dataframe\n",
    "print(val_df.shape) # 34 video files for the 3 words"
   ]
  },
  {
   "cell_type": "code",
   "execution_count": 36,
   "metadata": {},
   "outputs": [],
   "source": [
    "# Export as csv file \n",
    "\n",
    "val_df.to_csv('../data/msasl_val.csv', index = False)"
   ]
  },
  {
   "cell_type": "markdown",
   "metadata": {},
   "source": [
    "## 1.5 Video Downloads\n",
    "\n",
    "\n",
    "The links provided are from YouTube which we are able to download videos via the pytube API. We can create a function to automate the downloads for each word in the respective datasets. There is an API cap request which we of about 700 videos which we will not be hitting the limit. \n"
   ]
  },
  {
   "cell_type": "code",
   "execution_count": 67,
   "metadata": {},
   "outputs": [],
   "source": [
    "# create a function to help us automate the video downloading process\n",
    "\n",
    "def download_videos(some_dataframe: pd.DataFrame, word_label: str, save_folder: str):\n",
    "    '''\n",
    "    Downloads videos from a DataFrame based on a specific label and saves them to a directory.\n",
    "\n",
    "    Args:\n",
    "    some_dataframe: A pandas DataFrame containing video URLs in a 'cleaned_url' column.\n",
    "    word_label: The label of the video category to download.\n",
    "    save_folder: Training, Testing, or Validation Data\n",
    "\n",
    "    Returns:\n",
    "    A string indicating the number of videos downloaded successfully.\n",
    "    '''\n",
    "    # Create a filtered dataframe from the input dataframe to only extract videos from the given word_label\n",
    "    temp_df = some_dataframe[some_dataframe['clean_text'] == word_label]\n",
    "\n",
    "    # Save path of where the videos will be downloaded\n",
    "    SAVE_PATH = os.path.join('../videos/', save_folder + '/' + word_label + '/')\n",
    "    os.makedirs(SAVE_PATH, exist_ok=True)  # Ensure the output directory exists\n",
    "\n",
    "    # Create local variables\n",
    "    downloaded_vids = 0\n",
    "    count = 0\n",
    "    total = len(temp_df)\n",
    "\n",
    "    for index, row in temp_df.iterrows():\n",
    "        # Isolate the URL from the row\n",
    "        url = row['cleaned_url']\n",
    "\n",
    "        # Use a try-except block\n",
    "        try:\n",
    "            yt = YouTube(url)\n",
    "            mp4_streams = yt.streams.filter(file_extension='mp4')\n",
    "\n",
    "            # If video is not found\n",
    "            if not mp4_streams:\n",
    "                raise ValueError('No MP4 streams found')\n",
    "\n",
    "            # Choose the first item in the list\n",
    "            d_video = mp4_streams[0]\n",
    "\n",
    "            d_video.download(output_path=SAVE_PATH)\n",
    "            #print('File Downloaded Successfully')\n",
    "            logging.info('File Downloaded Successfully: %s', url)\n",
    "\n",
    "            downloaded_vids += 1\n",
    "            count += 1\n",
    "\n",
    "        except Exception as e:\n",
    "            #print(f'Error downloading video: {url}, {e}')\n",
    "            logging.error('Error downloading video from %s: %s', url, str(e))\n",
    "            \n",
    "            count += 1\n",
    "\n",
    "        print(f'{count}/{total}')\n",
    "\n",
    "    total_downloaded = f'{downloaded_vids}/{total} downloaded'\n",
    "    return total_downloaded\n"
   ]
  },
  {
   "cell_type": "code",
   "execution_count": 68,
   "metadata": {},
   "outputs": [
    {
     "name": "stderr",
     "output_type": "stream",
     "text": [
      "INFO - File Downloaded Successfully: https://www.youtube.com/watch?v=6UrcyZ-QeiU\n"
     ]
    },
    {
     "name": "stdout",
     "output_type": "stream",
     "text": [
      "1/39\n"
     ]
    },
    {
     "name": "stderr",
     "output_type": "stream",
     "text": [
      "INFO - File Downloaded Successfully: https://www.youtube.com/watch?v=6UrcyZ-QeiU\n"
     ]
    },
    {
     "name": "stdout",
     "output_type": "stream",
     "text": [
      "2/39\n"
     ]
    },
    {
     "name": "stderr",
     "output_type": "stream",
     "text": [
      "INFO - File Downloaded Successfully: https://www.youtube.com/watch?v=TDoqoJDX280\n"
     ]
    },
    {
     "name": "stdout",
     "output_type": "stream",
     "text": [
      "3/39\n"
     ]
    },
    {
     "name": "stderr",
     "output_type": "stream",
     "text": [
      "INFO - File Downloaded Successfully: https://www.youtube.com/watch?v=rkQZQhloXuE\n"
     ]
    },
    {
     "name": "stdout",
     "output_type": "stream",
     "text": [
      "4/39\n"
     ]
    },
    {
     "name": "stderr",
     "output_type": "stream",
     "text": [
      "ERROR - Error downloading video from https://www.youtube.com/watch?v=p36hZJQpLoQ: <urlopen error [WinError 10060] A connection attempt failed because the connected party did not properly respond after a period of time, or established connection failed because connected host has failed to respond>\n"
     ]
    },
    {
     "name": "stdout",
     "output_type": "stream",
     "text": [
      "5/39\n"
     ]
    },
    {
     "name": "stderr",
     "output_type": "stream",
     "text": [
      "ERROR - Error downloading video from https://www.youtube.com/watch?v=SI_7UivPW_I: SI_7UivPW_I is unavailable\n"
     ]
    },
    {
     "name": "stdout",
     "output_type": "stream",
     "text": [
      "6/39\n"
     ]
    },
    {
     "name": "stderr",
     "output_type": "stream",
     "text": [
      "INFO - File Downloaded Successfully: https://www.youtube.com/watch?v=rkQZQhloXuE\n"
     ]
    },
    {
     "name": "stdout",
     "output_type": "stream",
     "text": [
      "7/39\n"
     ]
    },
    {
     "name": "stderr",
     "output_type": "stream",
     "text": [
      "INFO - File Downloaded Successfully: https://www.youtube.com/watch?v=FKp2hBhdj9k\n"
     ]
    },
    {
     "name": "stdout",
     "output_type": "stream",
     "text": [
      "8/39\n"
     ]
    },
    {
     "name": "stderr",
     "output_type": "stream",
     "text": [
      "ERROR - Error downloading video from https://www.youtube.com/watch?v=wNS3kifA8-Y: wNS3kifA8-Y is unavailable\n"
     ]
    },
    {
     "name": "stdout",
     "output_type": "stream",
     "text": [
      "9/39\n"
     ]
    },
    {
     "name": "stderr",
     "output_type": "stream",
     "text": [
      "INFO - File Downloaded Successfully: https://www.youtube.com/watch?v=Fz1I_Ssr3AE\n"
     ]
    },
    {
     "name": "stdout",
     "output_type": "stream",
     "text": [
      "10/39\n"
     ]
    },
    {
     "name": "stderr",
     "output_type": "stream",
     "text": [
      "INFO - File Downloaded Successfully: https://www.youtube.com/watch?v=XtkDeYBnR8o\n"
     ]
    },
    {
     "name": "stdout",
     "output_type": "stream",
     "text": [
      "11/39\n"
     ]
    },
    {
     "name": "stderr",
     "output_type": "stream",
     "text": [
      "ERROR - Error downloading video from https://www.youtube.com/watch?v=eXpXg4q-qEQ&t=170s: eXpXg4q-qEQ is a private video\n"
     ]
    },
    {
     "name": "stdout",
     "output_type": "stream",
     "text": [
      "12/39\n"
     ]
    },
    {
     "name": "stderr",
     "output_type": "stream",
     "text": [
      "INFO - File Downloaded Successfully: https://www.youtube.com/watch?v=-LB4ENHxcIs\n"
     ]
    },
    {
     "name": "stdout",
     "output_type": "stream",
     "text": [
      "13/39\n"
     ]
    },
    {
     "name": "stderr",
     "output_type": "stream",
     "text": [
      "INFO - File Downloaded Successfully: https://www.youtube.com/watch?v=nvaS2J5mcEk\n"
     ]
    },
    {
     "name": "stdout",
     "output_type": "stream",
     "text": [
      "14/39\n"
     ]
    },
    {
     "name": "stderr",
     "output_type": "stream",
     "text": [
      "ERROR - Error downloading video from https://www.youtube.com/watch?v=7YYB3BEoksc: 7YYB3BEoksc is a private video\n"
     ]
    },
    {
     "name": "stdout",
     "output_type": "stream",
     "text": [
      "15/39\n"
     ]
    },
    {
     "name": "stderr",
     "output_type": "stream",
     "text": [
      "ERROR - Error downloading video from https://www.youtube.com/watch?v=eyu0V3s1-XA: eyu0V3s1-XA is a private video\n"
     ]
    },
    {
     "name": "stdout",
     "output_type": "stream",
     "text": [
      "16/39\n"
     ]
    },
    {
     "name": "stderr",
     "output_type": "stream",
     "text": [
      "INFO - File Downloaded Successfully: https://www.youtube.com/watch?v=UoITyyziLOw\n"
     ]
    },
    {
     "name": "stdout",
     "output_type": "stream",
     "text": [
      "17/39\n"
     ]
    },
    {
     "name": "stderr",
     "output_type": "stream",
     "text": [
      "INFO - File Downloaded Successfully: https://www.youtube.com/watch?v=Doxjf4SCY4k\n"
     ]
    },
    {
     "name": "stdout",
     "output_type": "stream",
     "text": [
      "18/39\n"
     ]
    },
    {
     "name": "stderr",
     "output_type": "stream",
     "text": [
      "INFO - File Downloaded Successfully: https://www.youtube.com/watch?v=hjS0dQDgbjo\n"
     ]
    },
    {
     "name": "stdout",
     "output_type": "stream",
     "text": [
      "19/39\n"
     ]
    },
    {
     "name": "stderr",
     "output_type": "stream",
     "text": [
      "INFO - File Downloaded Successfully: https://www.youtube.com/watch?v=yG09SQB0Hds\n"
     ]
    },
    {
     "name": "stdout",
     "output_type": "stream",
     "text": [
      "20/39\n"
     ]
    },
    {
     "name": "stderr",
     "output_type": "stream",
     "text": [
      "INFO - File Downloaded Successfully: https://www.youtube.com/watch?v=_rviR_jhCmg\n"
     ]
    },
    {
     "name": "stdout",
     "output_type": "stream",
     "text": [
      "21/39\n"
     ]
    },
    {
     "name": "stderr",
     "output_type": "stream",
     "text": [
      "ERROR - Error downloading video from https://www.youtube.com/watch?v=lSxAVvE9sPc: lSxAVvE9sPc is a private video\n"
     ]
    },
    {
     "name": "stdout",
     "output_type": "stream",
     "text": [
      "22/39\n"
     ]
    },
    {
     "name": "stderr",
     "output_type": "stream",
     "text": [
      "INFO - File Downloaded Successfully: https://www.youtube.com/watch?v=Q6CfqYwp1ag\n"
     ]
    },
    {
     "name": "stdout",
     "output_type": "stream",
     "text": [
      "23/39\n"
     ]
    },
    {
     "name": "stderr",
     "output_type": "stream",
     "text": [
      "INFO - File Downloaded Successfully: https://www.youtube.com/watch?v=Q6CfqYwp1ag\n"
     ]
    },
    {
     "name": "stdout",
     "output_type": "stream",
     "text": [
      "24/39\n"
     ]
    },
    {
     "name": "stderr",
     "output_type": "stream",
     "text": [
      "INFO - File Downloaded Successfully: https://www.youtube.com/watch?v=6XcxbPfP5YQ\n"
     ]
    },
    {
     "name": "stdout",
     "output_type": "stream",
     "text": [
      "25/39\n"
     ]
    },
    {
     "name": "stderr",
     "output_type": "stream",
     "text": [
      "INFO - File Downloaded Successfully: https://www.youtube.com/watch?v=XtkDeYBnR8o\n"
     ]
    },
    {
     "name": "stdout",
     "output_type": "stream",
     "text": [
      "26/39\n"
     ]
    },
    {
     "name": "stderr",
     "output_type": "stream",
     "text": [
      "ERROR - Error downloading video from https://www.youtube.com/watch?v=SI_7UivPW_I: SI_7UivPW_I is unavailable\n"
     ]
    },
    {
     "name": "stdout",
     "output_type": "stream",
     "text": [
      "27/39\n"
     ]
    },
    {
     "name": "stderr",
     "output_type": "stream",
     "text": [
      "ERROR - Error downloading video from https://www.youtube.com/watch?v=ygpjKBrb91s: ygpjKBrb91s is unavailable\n"
     ]
    },
    {
     "name": "stdout",
     "output_type": "stream",
     "text": [
      "28/39\n"
     ]
    },
    {
     "name": "stderr",
     "output_type": "stream",
     "text": [
      "INFO - File Downloaded Successfully: https://www.youtube.com/watch?v=Eq6SnaimpzQ\n"
     ]
    },
    {
     "name": "stdout",
     "output_type": "stream",
     "text": [
      "29/39\n"
     ]
    },
    {
     "name": "stderr",
     "output_type": "stream",
     "text": [
      "INFO - File Downloaded Successfully: https://www.youtube.com/watch?v=Fz1I_Ssr3AE\n"
     ]
    },
    {
     "name": "stdout",
     "output_type": "stream",
     "text": [
      "30/39\n"
     ]
    },
    {
     "name": "stderr",
     "output_type": "stream",
     "text": [
      "ERROR - Error downloading video from https://www.youtube.com/watch?v=7YYB3BEoksc: 7YYB3BEoksc is a private video\n"
     ]
    },
    {
     "name": "stdout",
     "output_type": "stream",
     "text": [
      "31/39\n"
     ]
    },
    {
     "name": "stderr",
     "output_type": "stream",
     "text": [
      "INFO - File Downloaded Successfully: https://www.youtube.com/watch?v=EKHye1RrCy0\n"
     ]
    },
    {
     "name": "stdout",
     "output_type": "stream",
     "text": [
      "32/39\n"
     ]
    },
    {
     "name": "stderr",
     "output_type": "stream",
     "text": [
      "ERROR - Error downloading video from https://www.youtube.com/watch?v=p8OYydc3WQM: p8OYydc3WQM is age restricted, and can't be accessed without logging in.\n"
     ]
    },
    {
     "name": "stdout",
     "output_type": "stream",
     "text": [
      "33/39\n"
     ]
    },
    {
     "name": "stderr",
     "output_type": "stream",
     "text": [
      "INFO - File Downloaded Successfully: https://www.youtube.com/watch?v=Q6CfqYwp1ag\n"
     ]
    },
    {
     "name": "stdout",
     "output_type": "stream",
     "text": [
      "34/39\n"
     ]
    },
    {
     "name": "stderr",
     "output_type": "stream",
     "text": [
      "INFO - File Downloaded Successfully: https://www.youtube.com/watch?v=TDoqoJDX280\n"
     ]
    },
    {
     "name": "stdout",
     "output_type": "stream",
     "text": [
      "35/39\n"
     ]
    },
    {
     "name": "stderr",
     "output_type": "stream",
     "text": [
      "INFO - File Downloaded Successfully: https://www.youtube.com/watch?v=MDQQ9WZNwcc\n"
     ]
    },
    {
     "name": "stdout",
     "output_type": "stream",
     "text": [
      "36/39\n"
     ]
    },
    {
     "name": "stderr",
     "output_type": "stream",
     "text": [
      "ERROR - Error downloading video from https://www.youtube.com/watch?v=7YYB3BEoksc: 7YYB3BEoksc is a private video\n"
     ]
    },
    {
     "name": "stdout",
     "output_type": "stream",
     "text": [
      "37/39\n"
     ]
    },
    {
     "name": "stderr",
     "output_type": "stream",
     "text": [
      "ERROR - Error downloading video from https://www.youtube.com/watch?v=ygpjKBrb91s: ygpjKBrb91s is unavailable\n"
     ]
    },
    {
     "name": "stdout",
     "output_type": "stream",
     "text": [
      "38/39\n"
     ]
    },
    {
     "name": "stderr",
     "output_type": "stream",
     "text": [
      "ERROR - Error downloading video from https://www.youtube.com/watch?v=7YYB3BEoksc: 7YYB3BEoksc is a private video\n"
     ]
    },
    {
     "name": "stdout",
     "output_type": "stream",
     "text": [
      "39/39\n"
     ]
    },
    {
     "name": "stderr",
     "output_type": "stream",
     "text": [
      "INFO - File Downloaded Successfully: https://www.youtube.com/watch?v=bXyG4iebEBo\n"
     ]
    },
    {
     "name": "stdout",
     "output_type": "stream",
     "text": [
      "1/8\n"
     ]
    },
    {
     "name": "stderr",
     "output_type": "stream",
     "text": [
      "INFO - File Downloaded Successfully: https://www.youtube.com/watch?v=FwGL9FjFpYI&t=1s\n"
     ]
    },
    {
     "name": "stdout",
     "output_type": "stream",
     "text": [
      "2/8\n"
     ]
    },
    {
     "name": "stderr",
     "output_type": "stream",
     "text": [
      "INFO - File Downloaded Successfully: https://www.youtube.com/watch?v=xbVVThaez2g\n"
     ]
    },
    {
     "name": "stdout",
     "output_type": "stream",
     "text": [
      "3/8\n"
     ]
    },
    {
     "name": "stderr",
     "output_type": "stream",
     "text": [
      "INFO - File Downloaded Successfully: https://www.youtube.com/watch?v=RMUydgQr9TE\n"
     ]
    },
    {
     "name": "stdout",
     "output_type": "stream",
     "text": [
      "4/8\n"
     ]
    },
    {
     "name": "stderr",
     "output_type": "stream",
     "text": [
      "ERROR - Error downloading video from https://www.youtube.com/watch?v=RHeFBNVYii4: RHeFBNVYii4 is a private video\n"
     ]
    },
    {
     "name": "stdout",
     "output_type": "stream",
     "text": [
      "5/8\n"
     ]
    },
    {
     "name": "stderr",
     "output_type": "stream",
     "text": [
      "ERROR - Error downloading video from https://www.youtube.com/watch?v=LTVv46_N764: LTVv46_N764 is unavailable\n"
     ]
    },
    {
     "name": "stdout",
     "output_type": "stream",
     "text": [
      "6/8\n"
     ]
    },
    {
     "name": "stderr",
     "output_type": "stream",
     "text": [
      "INFO - File Downloaded Successfully: https://www.youtube.com/watch?v=FBimL8-ND3E\n"
     ]
    },
    {
     "name": "stdout",
     "output_type": "stream",
     "text": [
      "7/8\n"
     ]
    },
    {
     "name": "stderr",
     "output_type": "stream",
     "text": [
      "INFO - File Downloaded Successfully: https://www.youtube.com/watch?v=FBimL8-ND3E\n"
     ]
    },
    {
     "name": "stdout",
     "output_type": "stream",
     "text": [
      "8/8\n"
     ]
    },
    {
     "name": "stderr",
     "output_type": "stream",
     "text": [
      "INFO - File Downloaded Successfully: https://www.youtube.com/watch?v=HUMEcnkvhJU&t=862s\n"
     ]
    },
    {
     "name": "stdout",
     "output_type": "stream",
     "text": [
      "1/10\n"
     ]
    },
    {
     "name": "stderr",
     "output_type": "stream",
     "text": [
      "ERROR - Error downloading video from https://www.youtube.com/watch?v=S_LEeTt2McM: S_LEeTt2McM is unavailable\n"
     ]
    },
    {
     "name": "stdout",
     "output_type": "stream",
     "text": [
      "2/10\n"
     ]
    },
    {
     "name": "stderr",
     "output_type": "stream",
     "text": [
      "ERROR - Error downloading video from https://www.youtube.com/watch?v=9g-hioQapYE: 9g-hioQapYE is age restricted, and can't be accessed without logging in.\n"
     ]
    },
    {
     "name": "stdout",
     "output_type": "stream",
     "text": [
      "3/10\n"
     ]
    },
    {
     "name": "stderr",
     "output_type": "stream",
     "text": [
      "INFO - File Downloaded Successfully: https://www.youtube.com/watch?v=cxXEULq9Jpc\n"
     ]
    },
    {
     "name": "stdout",
     "output_type": "stream",
     "text": [
      "4/10\n"
     ]
    },
    {
     "name": "stderr",
     "output_type": "stream",
     "text": [
      "ERROR - Error downloading video from https://www.youtube.com/watch?v=gQKqDXE-LJ8: gQKqDXE-LJ8 is a private video\n"
     ]
    },
    {
     "name": "stdout",
     "output_type": "stream",
     "text": [
      "5/10\n"
     ]
    },
    {
     "name": "stderr",
     "output_type": "stream",
     "text": [
      "INFO - File Downloaded Successfully: https://www.youtube.com/watch?v=HUMEcnkvhJU&t=862s\n"
     ]
    },
    {
     "name": "stdout",
     "output_type": "stream",
     "text": [
      "6/10\n"
     ]
    },
    {
     "name": "stderr",
     "output_type": "stream",
     "text": [
      "INFO - File Downloaded Successfully: https://www.youtube.com/watch?v=sQELZPmche8\n"
     ]
    },
    {
     "name": "stdout",
     "output_type": "stream",
     "text": [
      "7/10\n"
     ]
    },
    {
     "name": "stderr",
     "output_type": "stream",
     "text": [
      "ERROR - Error downloading video from https://www.youtube.com/watch?v=iDWntsY_rZM: iDWntsY_rZM is unavailable\n"
     ]
    },
    {
     "name": "stdout",
     "output_type": "stream",
     "text": [
      "8/10\n"
     ]
    },
    {
     "name": "stderr",
     "output_type": "stream",
     "text": [
      "ERROR - Error downloading video from https://www.youtube.com/watch?v=iDWntsY_rZM: iDWntsY_rZM is unavailable\n"
     ]
    },
    {
     "name": "stdout",
     "output_type": "stream",
     "text": [
      "9/10\n"
     ]
    },
    {
     "name": "stderr",
     "output_type": "stream",
     "text": [
      "INFO - File Downloaded Successfully: https://www.youtube.com/watch?v=2VB3WN8adyM\n"
     ]
    },
    {
     "name": "stdout",
     "output_type": "stream",
     "text": [
      "10/10\n"
     ]
    },
    {
     "name": "stderr",
     "output_type": "stream",
     "text": [
      "INFO - File Downloaded Successfully: https://www.youtube.com/watch?v=siQnKSRRg_c\n"
     ]
    },
    {
     "name": "stdout",
     "output_type": "stream",
     "text": [
      "1/25\n"
     ]
    },
    {
     "name": "stderr",
     "output_type": "stream",
     "text": [
      "INFO - File Downloaded Successfully: https://www.youtube.com/watch?v=lTLlauTBuVQ\n"
     ]
    },
    {
     "name": "stdout",
     "output_type": "stream",
     "text": [
      "2/25\n"
     ]
    },
    {
     "name": "stderr",
     "output_type": "stream",
     "text": [
      "INFO - File Downloaded Successfully: https://www.youtube.com/watch?v=KRrKqGEGdMg\n"
     ]
    },
    {
     "name": "stdout",
     "output_type": "stream",
     "text": [
      "3/25\n"
     ]
    },
    {
     "name": "stderr",
     "output_type": "stream",
     "text": [
      "INFO - File Downloaded Successfully: https://www.youtube.com/watch?v=0nTuxPL7RGg\n"
     ]
    },
    {
     "name": "stdout",
     "output_type": "stream",
     "text": [
      "4/25\n"
     ]
    },
    {
     "name": "stderr",
     "output_type": "stream",
     "text": [
      "INFO - File Downloaded Successfully: https://www.youtube.com/watch?v=rkQZQhloXuE\n"
     ]
    },
    {
     "name": "stdout",
     "output_type": "stream",
     "text": [
      "5/25\n"
     ]
    },
    {
     "name": "stderr",
     "output_type": "stream",
     "text": [
      "ERROR - Error downloading video from https://www.youtube.com/watch?v=yhBt5YS_2L4&t=261s: yhBt5YS_2L4 is a private video\n"
     ]
    },
    {
     "name": "stdout",
     "output_type": "stream",
     "text": [
      "6/25\n"
     ]
    },
    {
     "name": "stderr",
     "output_type": "stream",
     "text": [
      "ERROR - Error downloading video from https://www.youtube.com/watch?v=eXpXg4q-qEQ&t=170s: eXpXg4q-qEQ is a private video\n"
     ]
    },
    {
     "name": "stdout",
     "output_type": "stream",
     "text": [
      "7/25\n"
     ]
    },
    {
     "name": "stderr",
     "output_type": "stream",
     "text": [
      "ERROR - Error downloading video from https://www.youtube.com/watch?v=zCUZOnKoKWQ: zCUZOnKoKWQ is unavailable\n"
     ]
    },
    {
     "name": "stdout",
     "output_type": "stream",
     "text": [
      "8/25\n"
     ]
    },
    {
     "name": "stderr",
     "output_type": "stream",
     "text": [
      "ERROR - Error downloading video from https://www.youtube.com/watch?v=lSxAVvE9sPc: lSxAVvE9sPc is a private video\n"
     ]
    },
    {
     "name": "stdout",
     "output_type": "stream",
     "text": [
      "9/25\n"
     ]
    },
    {
     "name": "stderr",
     "output_type": "stream",
     "text": [
      "ERROR - Error downloading video from https://www.youtube.com/watch?v=lSxAVvE9sPc: lSxAVvE9sPc is a private video\n"
     ]
    },
    {
     "name": "stdout",
     "output_type": "stream",
     "text": [
      "10/25\n"
     ]
    },
    {
     "name": "stderr",
     "output_type": "stream",
     "text": [
      "INFO - File Downloaded Successfully: https://www.youtube.com/watch?v=siQnKSRRg_c\n"
     ]
    },
    {
     "name": "stdout",
     "output_type": "stream",
     "text": [
      "11/25\n"
     ]
    },
    {
     "name": "stderr",
     "output_type": "stream",
     "text": [
      "INFO - File Downloaded Successfully: https://www.youtube.com/watch?v=MDQQ9WZNwcc\n"
     ]
    },
    {
     "name": "stdout",
     "output_type": "stream",
     "text": [
      "12/25\n"
     ]
    },
    {
     "name": "stderr",
     "output_type": "stream",
     "text": [
      "ERROR - Error downloading video from https://www.youtube.com/watch?v=Cgh1DXAQBuI: Cgh1DXAQBuI is unavailable\n"
     ]
    },
    {
     "name": "stdout",
     "output_type": "stream",
     "text": [
      "13/25\n"
     ]
    },
    {
     "name": "stderr",
     "output_type": "stream",
     "text": [
      "ERROR - Error downloading video from https://www.youtube.com/watch?v=p8OYydc3WQM: p8OYydc3WQM is age restricted, and can't be accessed without logging in.\n"
     ]
    },
    {
     "name": "stdout",
     "output_type": "stream",
     "text": [
      "14/25\n"
     ]
    },
    {
     "name": "stderr",
     "output_type": "stream",
     "text": [
      "INFO - File Downloaded Successfully: https://www.youtube.com/watch?v=UoITyyziLOw\n"
     ]
    },
    {
     "name": "stdout",
     "output_type": "stream",
     "text": [
      "15/25\n"
     ]
    },
    {
     "name": "stderr",
     "output_type": "stream",
     "text": [
      "INFO - File Downloaded Successfully: https://www.youtube.com/watch?v=siQnKSRRg_c\n"
     ]
    },
    {
     "name": "stdout",
     "output_type": "stream",
     "text": [
      "16/25\n"
     ]
    },
    {
     "name": "stderr",
     "output_type": "stream",
     "text": [
      "ERROR - Error downloading video from https://www.youtube.com/watch?v=yJePAnyVcqg: yJePAnyVcqg is unavailable\n"
     ]
    },
    {
     "name": "stdout",
     "output_type": "stream",
     "text": [
      "17/25\n"
     ]
    },
    {
     "name": "stderr",
     "output_type": "stream",
     "text": [
      "ERROR - Error downloading video from https://www.youtube.com/watch?v=yJePAnyVcqg: yJePAnyVcqg is unavailable\n"
     ]
    },
    {
     "name": "stdout",
     "output_type": "stream",
     "text": [
      "18/25\n"
     ]
    },
    {
     "name": "stderr",
     "output_type": "stream",
     "text": [
      "INFO - File Downloaded Successfully: https://www.youtube.com/watch?v=FKp2hBhdj9k\n"
     ]
    },
    {
     "name": "stdout",
     "output_type": "stream",
     "text": [
      "19/25\n"
     ]
    },
    {
     "name": "stderr",
     "output_type": "stream",
     "text": [
      "INFO - File Downloaded Successfully: https://www.youtube.com/watch?v=shPBfkIYYpU\n"
     ]
    },
    {
     "name": "stdout",
     "output_type": "stream",
     "text": [
      "20/25\n"
     ]
    },
    {
     "name": "stderr",
     "output_type": "stream",
     "text": [
      "INFO - File Downloaded Successfully: https://www.youtube.com/watch?v=cIjUDNEYWTE\n"
     ]
    },
    {
     "name": "stdout",
     "output_type": "stream",
     "text": [
      "21/25\n"
     ]
    },
    {
     "name": "stderr",
     "output_type": "stream",
     "text": [
      "ERROR - Error downloading video from https://www.youtube.com/watch?v=W1gUtNUjWdI: W1gUtNUjWdI is a private video\n"
     ]
    },
    {
     "name": "stdout",
     "output_type": "stream",
     "text": [
      "22/25\n"
     ]
    },
    {
     "name": "stderr",
     "output_type": "stream",
     "text": [
      "INFO - File Downloaded Successfully: https://www.youtube.com/watch?v=4Nh1iFv2BMc\n"
     ]
    },
    {
     "name": "stdout",
     "output_type": "stream",
     "text": [
      "23/25\n"
     ]
    },
    {
     "name": "stderr",
     "output_type": "stream",
     "text": [
      "ERROR - Error downloading video from https://www.youtube.com/watch?v=SI_7UivPW_I: SI_7UivPW_I is unavailable\n"
     ]
    },
    {
     "name": "stdout",
     "output_type": "stream",
     "text": [
      "24/25\n"
     ]
    },
    {
     "name": "stderr",
     "output_type": "stream",
     "text": [
      "ERROR - Error downloading video from https://www.youtube.com/watch?v=SI_7UivPW_I: SI_7UivPW_I is unavailable\n"
     ]
    },
    {
     "name": "stdout",
     "output_type": "stream",
     "text": [
      "25/25\n"
     ]
    },
    {
     "name": "stderr",
     "output_type": "stream",
     "text": [
      "ERROR - Error downloading video from https://www.youtube.com/watch?v=BL90-ejIQ9Y: BL90-ejIQ9Y is a private video\n"
     ]
    },
    {
     "name": "stdout",
     "output_type": "stream",
     "text": [
      "1/5\n"
     ]
    },
    {
     "name": "stderr",
     "output_type": "stream",
     "text": [
      "INFO - File Downloaded Successfully: https://www.youtube.com/watch?v=SJAhRxI7i9c\n"
     ]
    },
    {
     "name": "stdout",
     "output_type": "stream",
     "text": [
      "2/5\n"
     ]
    },
    {
     "name": "stderr",
     "output_type": "stream",
     "text": [
      "INFO - File Downloaded Successfully: https://www.youtube.com/watch?v=FBimL8-ND3E\n"
     ]
    },
    {
     "name": "stdout",
     "output_type": "stream",
     "text": [
      "3/5\n"
     ]
    },
    {
     "name": "stderr",
     "output_type": "stream",
     "text": [
      "INFO - File Downloaded Successfully: https://www.youtube.com/watch?v=FBimL8-ND3E\n"
     ]
    },
    {
     "name": "stdout",
     "output_type": "stream",
     "text": [
      "4/5\n"
     ]
    },
    {
     "name": "stderr",
     "output_type": "stream",
     "text": [
      "ERROR - Error downloading video from https://www.youtube.com/watch?v=-hzoIOWYJac: <urlopen error [WinError 10060] A connection attempt failed because the connected party did not properly respond after a period of time, or established connection failed because connected host has failed to respond>\n"
     ]
    },
    {
     "name": "stdout",
     "output_type": "stream",
     "text": [
      "5/5\n"
     ]
    },
    {
     "name": "stderr",
     "output_type": "stream",
     "text": [
      "INFO - File Downloaded Successfully: https://www.youtube.com/watch?v=sQELZPmche8\n"
     ]
    },
    {
     "name": "stdout",
     "output_type": "stream",
     "text": [
      "1/19\n"
     ]
    },
    {
     "name": "stderr",
     "output_type": "stream",
     "text": [
      "ERROR - Error downloading video from https://www.youtube.com/watch?v=iDWntsY_rZM: iDWntsY_rZM is unavailable\n"
     ]
    },
    {
     "name": "stdout",
     "output_type": "stream",
     "text": [
      "2/19\n"
     ]
    },
    {
     "name": "stderr",
     "output_type": "stream",
     "text": [
      "INFO - File Downloaded Successfully: https://www.youtube.com/watch?v=DGWErPoCHqw\n"
     ]
    },
    {
     "name": "stdout",
     "output_type": "stream",
     "text": [
      "3/19\n"
     ]
    },
    {
     "name": "stderr",
     "output_type": "stream",
     "text": [
      "INFO - File Downloaded Successfully: https://www.youtube.com/watch?v=HUMEcnkvhJU&t=862s\n"
     ]
    },
    {
     "name": "stdout",
     "output_type": "stream",
     "text": [
      "4/19\n"
     ]
    },
    {
     "name": "stderr",
     "output_type": "stream",
     "text": [
      "ERROR - Error downloading video from https://www.youtube.com/watch?v=3A0iSc2umlg: 3A0iSc2umlg is unavailable\n"
     ]
    },
    {
     "name": "stdout",
     "output_type": "stream",
     "text": [
      "5/19\n"
     ]
    },
    {
     "name": "stderr",
     "output_type": "stream",
     "text": [
      "ERROR - Error downloading video from https://www.youtube.com/watch?v=9g-hioQapYE: 9g-hioQapYE is age restricted, and can't be accessed without logging in.\n"
     ]
    },
    {
     "name": "stdout",
     "output_type": "stream",
     "text": [
      "6/19\n"
     ]
    },
    {
     "name": "stderr",
     "output_type": "stream",
     "text": [
      "INFO - File Downloaded Successfully: https://www.youtube.com/watch?v=cxXEULq9Jpc\n"
     ]
    },
    {
     "name": "stdout",
     "output_type": "stream",
     "text": [
      "7/19\n"
     ]
    },
    {
     "name": "stderr",
     "output_type": "stream",
     "text": [
      "ERROR - Error downloading video from https://www.youtube.com/watch?v=3A0iSc2umlg: 3A0iSc2umlg is unavailable\n"
     ]
    },
    {
     "name": "stdout",
     "output_type": "stream",
     "text": [
      "8/19\n"
     ]
    },
    {
     "name": "stderr",
     "output_type": "stream",
     "text": [
      "INFO - File Downloaded Successfully: https://www.youtube.com/watch?v=g59_3vr_NT0\n"
     ]
    },
    {
     "name": "stdout",
     "output_type": "stream",
     "text": [
      "9/19\n"
     ]
    },
    {
     "name": "stderr",
     "output_type": "stream",
     "text": [
      "INFO - File Downloaded Successfully: https://www.youtube.com/watch?v=HUMEcnkvhJU&t=862s\n"
     ]
    },
    {
     "name": "stdout",
     "output_type": "stream",
     "text": [
      "10/19\n"
     ]
    },
    {
     "name": "stderr",
     "output_type": "stream",
     "text": [
      "INFO - File Downloaded Successfully: https://www.youtube.com/watch?v=2VB3WN8adyM\n"
     ]
    },
    {
     "name": "stdout",
     "output_type": "stream",
     "text": [
      "11/19\n"
     ]
    },
    {
     "name": "stderr",
     "output_type": "stream",
     "text": [
      "ERROR - Error downloading video from https://www.youtube.com/watch?v=BJadr-8uX5U: BJadr-8uX5U is age restricted, and can't be accessed without logging in.\n"
     ]
    },
    {
     "name": "stdout",
     "output_type": "stream",
     "text": [
      "12/19\n"
     ]
    },
    {
     "name": "stderr",
     "output_type": "stream",
     "text": [
      "ERROR - Error downloading video from https://www.youtube.com/watch?v=BJadr-8uX5U: BJadr-8uX5U is age restricted, and can't be accessed without logging in.\n"
     ]
    },
    {
     "name": "stdout",
     "output_type": "stream",
     "text": [
      "13/19\n"
     ]
    },
    {
     "name": "stderr",
     "output_type": "stream",
     "text": [
      "INFO - File Downloaded Successfully: https://www.youtube.com/watch?v=M1CrNP2izNg\n"
     ]
    },
    {
     "name": "stdout",
     "output_type": "stream",
     "text": [
      "14/19\n"
     ]
    },
    {
     "name": "stderr",
     "output_type": "stream",
     "text": [
      "INFO - File Downloaded Successfully: https://www.youtube.com/watch?v=_LGqHR3FhL8\n"
     ]
    },
    {
     "name": "stdout",
     "output_type": "stream",
     "text": [
      "15/19\n"
     ]
    },
    {
     "name": "stderr",
     "output_type": "stream",
     "text": [
      "INFO - File Downloaded Successfully: https://www.youtube.com/watch?v=cxXEULq9Jpc\n"
     ]
    },
    {
     "name": "stdout",
     "output_type": "stream",
     "text": [
      "16/19\n"
     ]
    },
    {
     "name": "stderr",
     "output_type": "stream",
     "text": [
      "INFO - File Downloaded Successfully: https://www.youtube.com/watch?v=Xq3QAqQXpTM\n"
     ]
    },
    {
     "name": "stdout",
     "output_type": "stream",
     "text": [
      "17/19\n"
     ]
    },
    {
     "name": "stderr",
     "output_type": "stream",
     "text": [
      "INFO - File Downloaded Successfully: https://www.youtube.com/watch?v=_LGqHR3FhL8\n"
     ]
    },
    {
     "name": "stdout",
     "output_type": "stream",
     "text": [
      "18/19\n"
     ]
    },
    {
     "name": "stderr",
     "output_type": "stream",
     "text": [
      "INFO - File Downloaded Successfully: https://www.youtube.com/watch?v=cxXEULq9Jpc\n"
     ]
    },
    {
     "name": "stdout",
     "output_type": "stream",
     "text": [
      "19/19\n"
     ]
    },
    {
     "name": "stderr",
     "output_type": "stream",
     "text": [
      "INFO - File Downloaded Successfully: https://www.youtube.com/watch?v=yG09SQB0Hds\n"
     ]
    },
    {
     "name": "stdout",
     "output_type": "stream",
     "text": [
      "1/30\n"
     ]
    },
    {
     "name": "stderr",
     "output_type": "stream",
     "text": [
      "ERROR - Error downloading video from https://www.youtube.com/watch?v=7YYB3BEoksc: 7YYB3BEoksc is a private video\n"
     ]
    },
    {
     "name": "stdout",
     "output_type": "stream",
     "text": [
      "2/30\n"
     ]
    },
    {
     "name": "stderr",
     "output_type": "stream",
     "text": [
      "ERROR - Error downloading video from https://www.youtube.com/watch?v=7YYB3BEoksc: 7YYB3BEoksc is a private video\n"
     ]
    },
    {
     "name": "stdout",
     "output_type": "stream",
     "text": [
      "3/30\n"
     ]
    },
    {
     "name": "stderr",
     "output_type": "stream",
     "text": [
      "ERROR - Error downloading video from https://www.youtube.com/watch?v=9jUuFHB2m4M: 9jUuFHB2m4M is unavailable\n"
     ]
    },
    {
     "name": "stdout",
     "output_type": "stream",
     "text": [
      "4/30\n"
     ]
    },
    {
     "name": "stderr",
     "output_type": "stream",
     "text": [
      "ERROR - Error downloading video from https://www.youtube.com/watch?v=9jUuFHB2m4M: 9jUuFHB2m4M is unavailable\n"
     ]
    },
    {
     "name": "stdout",
     "output_type": "stream",
     "text": [
      "5/30\n"
     ]
    },
    {
     "name": "stderr",
     "output_type": "stream",
     "text": [
      "INFO - File Downloaded Successfully: https://www.youtube.com/watch?v=gU5EI_ZTzxw\n"
     ]
    },
    {
     "name": "stdout",
     "output_type": "stream",
     "text": [
      "6/30\n"
     ]
    },
    {
     "name": "stderr",
     "output_type": "stream",
     "text": [
      "INFO - File Downloaded Successfully: https://www.youtube.com/watch?v=yG09SQB0Hds\n"
     ]
    },
    {
     "name": "stdout",
     "output_type": "stream",
     "text": [
      "7/30\n"
     ]
    },
    {
     "name": "stderr",
     "output_type": "stream",
     "text": [
      "INFO - File Downloaded Successfully: https://www.youtube.com/watch?v=JHFExZgYdwk&t=4s\n"
     ]
    },
    {
     "name": "stdout",
     "output_type": "stream",
     "text": [
      "8/30\n"
     ]
    },
    {
     "name": "stderr",
     "output_type": "stream",
     "text": [
      "INFO - File Downloaded Successfully: https://www.youtube.com/watch?v=75BkNdtDsoQ\n"
     ]
    },
    {
     "name": "stdout",
     "output_type": "stream",
     "text": [
      "9/30\n"
     ]
    },
    {
     "name": "stderr",
     "output_type": "stream",
     "text": [
      "ERROR - Error downloading video from https://www.youtube.com/watch?v=WbkSmhKTltU: WbkSmhKTltU is unavailable\n"
     ]
    },
    {
     "name": "stdout",
     "output_type": "stream",
     "text": [
      "10/30\n"
     ]
    },
    {
     "name": "stderr",
     "output_type": "stream",
     "text": [
      "INFO - File Downloaded Successfully: https://www.youtube.com/watch?v=p36hZJQpLoQ\n"
     ]
    },
    {
     "name": "stdout",
     "output_type": "stream",
     "text": [
      "11/30\n"
     ]
    },
    {
     "name": "stderr",
     "output_type": "stream",
     "text": [
      "ERROR - Error downloading video from https://www.youtube.com/watch?v=wRoGQu75wzw: wRoGQu75wzw is unavailable\n"
     ]
    },
    {
     "name": "stdout",
     "output_type": "stream",
     "text": [
      "12/30\n"
     ]
    },
    {
     "name": "stderr",
     "output_type": "stream",
     "text": [
      "ERROR - Error downloading video from https://www.youtube.com/watch?v=wRoGQu75wzw: wRoGQu75wzw is unavailable\n"
     ]
    },
    {
     "name": "stdout",
     "output_type": "stream",
     "text": [
      "13/30\n"
     ]
    },
    {
     "name": "stderr",
     "output_type": "stream",
     "text": [
      "INFO - File Downloaded Successfully: https://www.youtube.com/watch?v=WxY7E9P46DM\n"
     ]
    },
    {
     "name": "stdout",
     "output_type": "stream",
     "text": [
      "14/30\n"
     ]
    },
    {
     "name": "stderr",
     "output_type": "stream",
     "text": [
      "INFO - File Downloaded Successfully: https://www.youtube.com/watch?v=3zoqSvF0Z2A\n"
     ]
    },
    {
     "name": "stdout",
     "output_type": "stream",
     "text": [
      "15/30\n"
     ]
    },
    {
     "name": "stderr",
     "output_type": "stream",
     "text": [
      "ERROR - Error downloading video from https://www.youtube.com/watch?v=dbzKXsyAcvY: dbzKXsyAcvY is unavailable\n"
     ]
    },
    {
     "name": "stdout",
     "output_type": "stream",
     "text": [
      "16/30\n"
     ]
    },
    {
     "name": "stderr",
     "output_type": "stream",
     "text": [
      "ERROR - Error downloading video from https://www.youtube.com/watch?v=Cgh1DXAQBuI: Cgh1DXAQBuI is unavailable\n"
     ]
    },
    {
     "name": "stdout",
     "output_type": "stream",
     "text": [
      "17/30\n"
     ]
    },
    {
     "name": "stderr",
     "output_type": "stream",
     "text": [
      "INFO - File Downloaded Successfully: https://www.youtube.com/watch?v=FVjpLa8GqeM\n"
     ]
    },
    {
     "name": "stdout",
     "output_type": "stream",
     "text": [
      "18/30\n"
     ]
    },
    {
     "name": "stderr",
     "output_type": "stream",
     "text": [
      "INFO - File Downloaded Successfully: https://www.youtube.com/watch?v=QB44Vddoi-w\n"
     ]
    },
    {
     "name": "stdout",
     "output_type": "stream",
     "text": [
      "19/30\n"
     ]
    },
    {
     "name": "stderr",
     "output_type": "stream",
     "text": [
      "INFO - File Downloaded Successfully: https://www.youtube.com/watch?v=sEjaTTIdHhk\n"
     ]
    },
    {
     "name": "stdout",
     "output_type": "stream",
     "text": [
      "20/30\n"
     ]
    },
    {
     "name": "stderr",
     "output_type": "stream",
     "text": [
      "INFO - File Downloaded Successfully: https://www.youtube.com/watch?v=25ymRY7hbjs\n"
     ]
    },
    {
     "name": "stdout",
     "output_type": "stream",
     "text": [
      "21/30\n"
     ]
    },
    {
     "name": "stderr",
     "output_type": "stream",
     "text": [
      "INFO - File Downloaded Successfully: https://www.youtube.com/watch?v=Eq6SnaimpzQ\n"
     ]
    },
    {
     "name": "stdout",
     "output_type": "stream",
     "text": [
      "22/30\n"
     ]
    },
    {
     "name": "stderr",
     "output_type": "stream",
     "text": [
      "INFO - File Downloaded Successfully: https://www.youtube.com/watch?v=97WDRBCtj0o\n"
     ]
    },
    {
     "name": "stdout",
     "output_type": "stream",
     "text": [
      "23/30\n"
     ]
    },
    {
     "name": "stderr",
     "output_type": "stream",
     "text": [
      "ERROR - Error downloading video from https://www.youtube.com/watch?v=7YYB3BEoksc: 7YYB3BEoksc is a private video\n"
     ]
    },
    {
     "name": "stdout",
     "output_type": "stream",
     "text": [
      "24/30\n"
     ]
    },
    {
     "name": "stderr",
     "output_type": "stream",
     "text": [
      "ERROR - Error downloading video from https://www.youtube.com/watch?v=p8OYydc3WQM: p8OYydc3WQM is age restricted, and can't be accessed without logging in.\n"
     ]
    },
    {
     "name": "stdout",
     "output_type": "stream",
     "text": [
      "25/30\n"
     ]
    },
    {
     "name": "stderr",
     "output_type": "stream",
     "text": [
      "INFO - File Downloaded Successfully: https://www.youtube.com/watch?v=uPKOwziViaw\n"
     ]
    },
    {
     "name": "stdout",
     "output_type": "stream",
     "text": [
      "26/30\n"
     ]
    },
    {
     "name": "stderr",
     "output_type": "stream",
     "text": [
      "INFO - File Downloaded Successfully: https://www.youtube.com/watch?v=7iuyJ84wvds\n"
     ]
    },
    {
     "name": "stdout",
     "output_type": "stream",
     "text": [
      "27/30\n"
     ]
    },
    {
     "name": "stderr",
     "output_type": "stream",
     "text": [
      "ERROR - Error downloading video from https://www.youtube.com/watch?v=D7UYn37qTkU: D7UYn37qTkU is unavailable\n"
     ]
    },
    {
     "name": "stdout",
     "output_type": "stream",
     "text": [
      "28/30\n"
     ]
    },
    {
     "name": "stderr",
     "output_type": "stream",
     "text": [
      "INFO - File Downloaded Successfully: https://www.youtube.com/watch?v=FbBdHdmt5oI\n"
     ]
    },
    {
     "name": "stdout",
     "output_type": "stream",
     "text": [
      "29/30\n"
     ]
    },
    {
     "name": "stderr",
     "output_type": "stream",
     "text": [
      "INFO - File Downloaded Successfully: https://www.youtube.com/watch?v=RRzbB2rg4VM\n"
     ]
    },
    {
     "name": "stdout",
     "output_type": "stream",
     "text": [
      "30/30\n"
     ]
    },
    {
     "name": "stderr",
     "output_type": "stream",
     "text": [
      "INFO - File Downloaded Successfully: https://www.youtube.com/watch?v=kVIt-qr5P2s\n"
     ]
    },
    {
     "name": "stdout",
     "output_type": "stream",
     "text": [
      "1/20\n"
     ]
    },
    {
     "name": "stderr",
     "output_type": "stream",
     "text": [
      "INFO - File Downloaded Successfully: https://www.youtube.com/watch?v=FBimL8-ND3E\n"
     ]
    },
    {
     "name": "stdout",
     "output_type": "stream",
     "text": [
      "2/20\n"
     ]
    },
    {
     "name": "stderr",
     "output_type": "stream",
     "text": [
      "INFO - File Downloaded Successfully: https://www.youtube.com/watch?v=eLpHf9bfdsI\n"
     ]
    },
    {
     "name": "stdout",
     "output_type": "stream",
     "text": [
      "3/20\n"
     ]
    },
    {
     "name": "stderr",
     "output_type": "stream",
     "text": [
      "INFO - File Downloaded Successfully: https://www.youtube.com/watch?v=H3eHAKpTF70\n"
     ]
    },
    {
     "name": "stdout",
     "output_type": "stream",
     "text": [
      "4/20\n"
     ]
    },
    {
     "name": "stderr",
     "output_type": "stream",
     "text": [
      "INFO - File Downloaded Successfully: https://www.youtube.com/watch?v=FBimL8-ND3E\n"
     ]
    },
    {
     "name": "stdout",
     "output_type": "stream",
     "text": [
      "5/20\n"
     ]
    },
    {
     "name": "stderr",
     "output_type": "stream",
     "text": [
      "INFO - File Downloaded Successfully: https://www.youtube.com/watch?v=2qLS_mXdrh8\n"
     ]
    },
    {
     "name": "stdout",
     "output_type": "stream",
     "text": [
      "6/20\n"
     ]
    },
    {
     "name": "stderr",
     "output_type": "stream",
     "text": [
      "INFO - File Downloaded Successfully: https://www.youtube.com/watch?v=4bVux9Ni2_0\n"
     ]
    },
    {
     "name": "stdout",
     "output_type": "stream",
     "text": [
      "7/20\n"
     ]
    },
    {
     "name": "stderr",
     "output_type": "stream",
     "text": [
      "INFO - File Downloaded Successfully: https://www.youtube.com/watch?v=bhSbk9eQPu4\n"
     ]
    },
    {
     "name": "stdout",
     "output_type": "stream",
     "text": [
      "8/20\n"
     ]
    },
    {
     "name": "stderr",
     "output_type": "stream",
     "text": [
      "INFO - File Downloaded Successfully: https://www.youtube.com/watch?v=FwGL9FjFpYI&t=1s\n"
     ]
    },
    {
     "name": "stdout",
     "output_type": "stream",
     "text": [
      "9/20\n"
     ]
    },
    {
     "name": "stderr",
     "output_type": "stream",
     "text": [
      "ERROR - Error downloading video from https://www.youtube.com/watch?v=3qKcPONtNXQ: 3qKcPONtNXQ is unavailable\n"
     ]
    },
    {
     "name": "stdout",
     "output_type": "stream",
     "text": [
      "10/20\n"
     ]
    },
    {
     "name": "stderr",
     "output_type": "stream",
     "text": [
      "INFO - File Downloaded Successfully: https://www.youtube.com/watch?v=HBQaI1ZG-LU\n"
     ]
    },
    {
     "name": "stdout",
     "output_type": "stream",
     "text": [
      "11/20\n"
     ]
    },
    {
     "name": "stderr",
     "output_type": "stream",
     "text": [
      "INFO - File Downloaded Successfully: https://www.youtube.com/watch?v=exk-qIRNw7Y\n"
     ]
    },
    {
     "name": "stdout",
     "output_type": "stream",
     "text": [
      "12/20\n"
     ]
    },
    {
     "name": "stderr",
     "output_type": "stream",
     "text": [
      "INFO - File Downloaded Successfully: https://www.youtube.com/watch?v=2TQMVwOkHWw\n"
     ]
    },
    {
     "name": "stdout",
     "output_type": "stream",
     "text": [
      "13/20\n"
     ]
    },
    {
     "name": "stderr",
     "output_type": "stream",
     "text": [
      "INFO - File Downloaded Successfully: https://www.youtube.com/watch?v=-DMFu-nAsok\n"
     ]
    },
    {
     "name": "stdout",
     "output_type": "stream",
     "text": [
      "14/20\n"
     ]
    },
    {
     "name": "stderr",
     "output_type": "stream",
     "text": [
      "INFO - File Downloaded Successfully: https://www.youtube.com/watch?v=K8T0-zeB3jc\n"
     ]
    },
    {
     "name": "stdout",
     "output_type": "stream",
     "text": [
      "15/20\n"
     ]
    },
    {
     "name": "stderr",
     "output_type": "stream",
     "text": [
      "ERROR - Error downloading video from https://www.youtube.com/watch?v=6kvCOzxP9_A: 6kvCOzxP9_A is a private video\n"
     ]
    },
    {
     "name": "stdout",
     "output_type": "stream",
     "text": [
      "16/20\n"
     ]
    },
    {
     "name": "stderr",
     "output_type": "stream",
     "text": [
      "ERROR - Error downloading video from https://www.youtube.com/watch?v=oRsVMK7sxMQ: oRsVMK7sxMQ is a private video\n"
     ]
    },
    {
     "name": "stdout",
     "output_type": "stream",
     "text": [
      "17/20\n"
     ]
    },
    {
     "name": "stderr",
     "output_type": "stream",
     "text": [
      "ERROR - Error downloading video from https://www.youtube.com/watch?v=RMUydgQr9TE: <urlopen error [WinError 10060] A connection attempt failed because the connected party did not properly respond after a period of time, or established connection failed because connected host has failed to respond>\n"
     ]
    },
    {
     "name": "stdout",
     "output_type": "stream",
     "text": [
      "18/20\n"
     ]
    },
    {
     "name": "stderr",
     "output_type": "stream",
     "text": [
      "INFO - File Downloaded Successfully: https://www.youtube.com/watch?v=xQR5y_xUtpA\n"
     ]
    },
    {
     "name": "stdout",
     "output_type": "stream",
     "text": [
      "19/20\n"
     ]
    },
    {
     "name": "stderr",
     "output_type": "stream",
     "text": [
      "ERROR - Error downloading video from https://www.youtube.com/watch?v=ZgUBU0NNEDU: <urlopen error [WinError 10060] A connection attempt failed because the connected party did not properly respond after a period of time, or established connection failed because connected host has failed to respond>\n"
     ]
    },
    {
     "name": "stdout",
     "output_type": "stream",
     "text": [
      "20/20\n"
     ]
    },
    {
     "name": "stderr",
     "output_type": "stream",
     "text": [
      "INFO - File Downloaded Successfully: https://www.youtube.com/watch?v=BEKUHzwnVO8\n"
     ]
    },
    {
     "name": "stdout",
     "output_type": "stream",
     "text": [
      "1/14\n"
     ]
    },
    {
     "name": "stderr",
     "output_type": "stream",
     "text": [
      "INFO - File Downloaded Successfully: https://www.youtube.com/watch?v=kZuJalsv_z0\n"
     ]
    },
    {
     "name": "stdout",
     "output_type": "stream",
     "text": [
      "2/14\n"
     ]
    },
    {
     "name": "stderr",
     "output_type": "stream",
     "text": [
      "ERROR - Error downloading video from https://www.youtube.com/watch?v=V8DTIPK4QlU: V8DTIPK4QlU is age restricted, and can't be accessed without logging in.\n"
     ]
    },
    {
     "name": "stdout",
     "output_type": "stream",
     "text": [
      "3/14\n"
     ]
    },
    {
     "name": "stderr",
     "output_type": "stream",
     "text": [
      "INFO - File Downloaded Successfully: https://www.youtube.com/watch?v=2VB3WN8adyM\n"
     ]
    },
    {
     "name": "stdout",
     "output_type": "stream",
     "text": [
      "4/14\n"
     ]
    },
    {
     "name": "stderr",
     "output_type": "stream",
     "text": [
      "ERROR - Error downloading video from https://www.youtube.com/watch?v=pD4QabDQr6M: pD4QabDQr6M is unavailable\n"
     ]
    },
    {
     "name": "stdout",
     "output_type": "stream",
     "text": [
      "5/14\n"
     ]
    },
    {
     "name": "stderr",
     "output_type": "stream",
     "text": [
      "INFO - File Downloaded Successfully: https://www.youtube.com/watch?v=xmM5-XsE8Ac\n"
     ]
    },
    {
     "name": "stdout",
     "output_type": "stream",
     "text": [
      "6/14\n"
     ]
    },
    {
     "name": "stderr",
     "output_type": "stream",
     "text": [
      "INFO - File Downloaded Successfully: https://www.youtube.com/watch?v=0v4Y9WGhES8\n"
     ]
    },
    {
     "name": "stdout",
     "output_type": "stream",
     "text": [
      "7/14\n"
     ]
    },
    {
     "name": "stderr",
     "output_type": "stream",
     "text": [
      "INFO - File Downloaded Successfully: https://www.youtube.com/watch?v=HUMEcnkvhJU&t=862s\n"
     ]
    },
    {
     "name": "stdout",
     "output_type": "stream",
     "text": [
      "8/14\n"
     ]
    },
    {
     "name": "stderr",
     "output_type": "stream",
     "text": [
      "INFO - File Downloaded Successfully: https://www.youtube.com/watch?v=HUMEcnkvhJU&t=862s\n"
     ]
    },
    {
     "name": "stdout",
     "output_type": "stream",
     "text": [
      "9/14\n"
     ]
    },
    {
     "name": "stderr",
     "output_type": "stream",
     "text": [
      "INFO - File Downloaded Successfully: https://www.youtube.com/watch?v=0v4Y9WGhES8\n"
     ]
    },
    {
     "name": "stdout",
     "output_type": "stream",
     "text": [
      "10/14\n"
     ]
    },
    {
     "name": "stderr",
     "output_type": "stream",
     "text": [
      "ERROR - Error downloading video from https://www.youtube.com/watch?v=iDWntsY_rZM: iDWntsY_rZM is unavailable\n"
     ]
    },
    {
     "name": "stdout",
     "output_type": "stream",
     "text": [
      "11/14\n"
     ]
    },
    {
     "name": "stderr",
     "output_type": "stream",
     "text": [
      "ERROR - Error downloading video from https://www.youtube.com/watch?v=iDWntsY_rZM: iDWntsY_rZM is unavailable\n"
     ]
    },
    {
     "name": "stdout",
     "output_type": "stream",
     "text": [
      "12/14\n"
     ]
    },
    {
     "name": "stderr",
     "output_type": "stream",
     "text": [
      "ERROR - Error downloading video from https://www.youtube.com/watch?v=S_LEeTt2McM: S_LEeTt2McM is unavailable\n"
     ]
    },
    {
     "name": "stdout",
     "output_type": "stream",
     "text": [
      "13/14\n"
     ]
    },
    {
     "name": "stderr",
     "output_type": "stream",
     "text": [
      "ERROR - Error downloading video from https://www.youtube.com/watch?v=9g-hioQapYE: 9g-hioQapYE is age restricted, and can't be accessed without logging in.\n"
     ]
    },
    {
     "name": "stdout",
     "output_type": "stream",
     "text": [
      "14/14\n"
     ]
    }
   ],
   "source": [
    "# Use a for-loop to download all the videos\n",
    "for word in first_three:\n",
    "    \n",
    "    download_videos(train_df, word, 'train_data') # download videos from train dataset\n",
    "    download_videos(test_df, word, 'test_data')   # download videos from test dataset\n",
    "    download_videos(val_df, word, 'val_data')     # download videos from validation dataset"
   ]
  },
  {
   "cell_type": "markdown",
   "metadata": {},
   "source": [
    "---\n",
    "## 1.6 World American Sign Language Dataset\n",
    "---\n",
    "\n",
    "\n",
    "\n",
    "Given that there are not many video files in the Microsoft-ASL dataset, we will be combining it with another dataset from [Kaggle](https://www.kaggle.com/datasets/risangbaskoro/wlasl-processed) which has 12,000 processed videos of different signs."
   ]
  },
  {
   "cell_type": "code",
   "execution_count": 69,
   "metadata": {},
   "outputs": [
    {
     "name": "stdout",
     "output_type": "stream",
     "text": [
      "      gloss                                                                                                                                                                                                                                                                                                                                                                                                                                                                                                                                                                                                                                                                                                                                                                                                                                                                                                                                                                                                                                                                                                                                                                                                                                                                                                                                                                                                                                                                                                                                                                                                                                                                                                                                                                                                                                                                                                                                                                                                                                                                                                                                                                                                                                                                                                                                                                                                                                                                                                                                                                                                                                                                                                                                                                                                                                                                                                                                                                                                                                                                                                                                                                                                                                                                                                                                                                                                                                                                                                                                                                                                                                                                                                                                                                                                                                                                                                                                                                                                                                                                                                                                                                                                                                                                                                                                                                                                                                                                                                                                                                                                                                                                                                                                                                                                                                                                                                                                                                                                                                                                                                                                                                                                                                                                                                                                                                                                                                                                                                                                                                                                                                                                                                                                                                                                                                                                                                                                                                                                                                                                                                                                                                                                                                                                                                                                                                                                                                                                                                                                                                                                                                                                                                                                                                                                                                                                                                                                                                                                                                                                                                                                                                                                                                                                                                                                                                                                                                                                                                                                                                                                                                                                                                                                                                                                                                                                                                                                                                                                                                                                                                                                                                                                                                                                                                                                                                                                                                                                                                                                                                                                                                                                                                                                                                                                                                                                                                                                                                                                                                                                                                                                                                                                                                                                                                                                                                                                                                                                                                                                                                                                                                                                                                                                                                                                                                                                                                                                                                                                                                                                                                                                                                                                                                                                                                                                                                                       instances\n",
      "0      book  [{'bbox': [385, 37, 885, 720], 'fps': 25, 'frame_end': -1, 'frame_start': 1, 'instance_id': 0, 'signer_id': 118, 'source': 'aslbrick', 'split': 'train', 'url': 'http://aslbricks.org/New/ASL-Videos/book.mp4', 'variation_id': 0, 'video_id': '69241'}, {'bbox': [190, 25, 489, 370], 'fps': 25, 'frame_end': -1, 'frame_start': 1, 'instance_id': 1, 'signer_id': 90, 'source': 'aslsignbank', 'split': 'train', 'url': 'https://aslsignbank.haskins.yale.edu/dictionary/protected_media/glossvideo/ASL/BO/BOOK-418.mp4', 'variation_id': 0, 'video_id': '65225'}, {'bbox': [262, 1, 652, 480], 'fps': 25, 'frame_end': -1, 'frame_start': 1, 'instance_id': 2, 'signer_id': 110, 'source': 'valencia-asl', 'split': 'train', 'url': 'https://www.youtube.com/watch?v=0UsjUE-TXns', 'variation_id': 0, 'video_id': '68011'}, {'bbox': [123, 19, 516, 358], 'fps': 25, 'frame_end': 60, 'frame_start': 1, 'instance_id': 3, 'signer_id': 113, 'source': 'lillybauer', 'split': 'train', 'url': 'https://www.youtube.com/watch?v=1QOYOZ3g-aY', 'variation_id': 0, 'video_id': '68208'}, {'bbox': [95, 0, 1180, 720], 'fps': 25, 'frame_end': -1, 'frame_start': 1, 'instance_id': 4, 'signer_id': 109, 'source': 'valencia-asl', 'split': 'train', 'url': 'https://www.youtube.com/watch?v=aGtIHKEdCds', 'variation_id': 0, 'video_id': '68012'}, {'bbox': [110, 25, 274, 240], 'fps': 25, 'frame_end': 2249, 'frame_start': 2150, 'instance_id': 5, 'signer_id': 121, 'source': 'northtexas', 'split': 'val', 'url': 'https://www.youtube.com/watch?v=hjS0dQDgbjo', 'variation_id': 0, 'video_id': '70212'}, {'bbox': [153, 38, 395, 360], 'fps': 25, 'frame_end': 3852, 'frame_start': 3732, 'instance_id': 6, 'signer_id': 121, 'source': 'northtexas', 'split': 'train', 'url': 'https://www.youtube.com/watch?v=WGfiiDgrq1I', 'variation_id': 0, 'video_id': '70266'}, {'bbox': [16, 2, 235, 240], 'fps': 25, 'frame_end': -1, 'frame_start': 1, 'instance_id': 7, 'signer_id': 49, 'source': 'aslpro', 'split': 'train', 'url': 'http://www.aslpro.com/main/b/book_english_grammar.swf', 'variation_id': 0, 'video_id': '07085'}, {'bbox': [16, 4, 239, 240], 'fps': 25, 'frame_end': -1, 'frame_start': 1, 'instance_id': 8, 'signer_id': 49, 'source': 'aslpro', 'split': 'train', 'url': 'http://www.aslpro.com/main/b/book_geography.swf', 'variation_id': 0, 'video_id': '07086'}, {'bbox': [8, 1, 253, 240], 'fps': 25, 'frame_end': -1, 'frame_start': 1, 'instance_id': 9, 'signer_id': 18, 'source': 'aslpro', 'split': 'train', 'url': 'http://www.aslpro.com/main/b/book_geometry.swf', 'variation_id': 0, 'video_id': '07087'}, {'bbox': [462, 44, 949, 720], 'fps': 25, 'frame_end': -1, 'frame_start': 1, 'instance_id': 10, 'signer_id': 31, 'source': 'signschool', 'split': 'train', 'url': 'https://signstock.blob.core.windows.net/signschool/videos/SignSchool%20Book.mp4', 'variation_id': 0, 'video_id': '07069'}, {'bbox': [29, 4, 227, 240], 'fps': 25, 'frame_end': -1, 'frame_start': 1, 'instance_id': 11, 'signer_id': 18, 'source': 'aslpro', 'split': 'train', 'url': 'http://www.aslpro.com/main/b/book_history.swf', 'variation_id': 0, 'video_id': '07088'}, {'bbox': [22, 0, 226, 240], 'fps': 25, 'frame_end': -1, 'frame_start': 1, 'instance_id': 12, 'signer_id': 18, 'source': 'aslpro', 'split': 'train', 'url': 'http://www.aslpro.com/main/b/book_law.swf', 'variation_id': 0, 'video_id': '07089'}, {'bbox': [34, 2, 229, 240], 'fps': 25, 'frame_end': -1, 'frame_start': 1, 'instance_id': 13, 'signer_id': 18, 'source': 'aslpro', 'split': 'train', 'url': 'http://www.aslpro.com/main/b/book_literature.swf', 'variation_id': 0, 'video_id': '07090'}, {'bbox': [23, 1, 226, 240], 'fps': 25, 'frame_end': -1, 'frame_start': 1, 'instance_id': 14, 'signer_id': 18, 'source': 'aslpro', 'split': 'train', 'url': 'http://www.aslpro.com/main/b/book_math.swf', 'variation_id': 0, 'video_id': '07091'}, {'bbox': [31, 4, 220, 240], 'fps': 25, 'frame_end': -1, 'frame_start': 1, 'instance_id': 15, 'signer_id': 49, 'source': 'aslpro', 'split': 'test', 'url': 'http://www.aslpro.com/main/b/book_medicine.swf', 'variation_id': 0, 'video_id': '07092'}, {'bbox': [25, 0, 220, 240], 'fps': 25, 'frame_end': -1, 'frame_start': 1, 'instance_id': 16, 'signer_id': 18, 'source': 'aslpro', 'split': 'test', 'url': 'http://www.aslpro.com/main/b/book_music.swf', 'variation_id': 0, 'video_id': '07093'}, {'bbox': [234, 17, 524, 414], 'fps': 25, 'frame_end': -1, 'frame_start': 1, 'instance_id': 17, 'signer_id': 36, 'source': 'startasl', 'split': 'train', 'url': 'https://s3-us-west-1.amazonaws.com/files.startasl.com/asldictionary/book.mp4', 'variation_id': 0, 'video_id': '07068'}, {'bbox': [22, 2, 231, 240], 'fps': 25, 'frame_end': -1, 'frame_start': 1, 'instance_id': 18, 'signer_id': 18, 'source': 'aslpro', 'split': 'val', 'url': 'http://www.aslpro.com/main/b/book_photography.swf', 'variation_id': 0, 'video_id': '07094'}, {'bbox': [3, 2, 260, 240], 'fps': 25, 'frame_end': -1, 'frame_start': 1, 'instance_id': 19, 'signer_id': 18, 'source': 'aslpro', 'split': 'test', 'url': 'http://www.aslpro.com/main/b/book_science.swf', 'variation_id': 0, 'video_id': '07095'}, {'bbox': [21, 2, 228, 240], 'fps': 25, 'frame_end': -1, 'frame_start': 1, 'instance_id': 20, 'signer_id': 18, 'source': 'aslpro', 'split': 'val', 'url': 'http://www.aslpro.com/main/b/book_spelling.swf', 'variation_id': 0, 'video_id': '07096'}, {'bbox': [26, 3, 226, 240], 'fps': 25, 'frame_end': -1, 'frame_start': 1, 'instance_id': 21, 'signer_id': 49, 'source': 'aslpro', 'split': 'train', 'url': 'http://www.aslpro.com/main/b/book.swf', 'variation_id': 0, 'video_id': '07097'}, {'bbox': [131, 26, 526, 480], 'fps': 25, 'frame_end': -1, 'frame_start': 1, 'instance_id': 22, 'signer_id': 59, 'source': 'asldeafined', 'split': 'train', 'url': 'https://media.asldeafined.com/vocabulary/1466684225.687.mp4', 'variation_id': 0, 'video_id': '07070'}, {'bbox': [21, 3, 231, 240], 'fps': 25, 'frame_end': -1, 'frame_start': 1, 'instance_id': 23, 'signer_id': 18, 'source': 'aslpro', 'split': 'val', 'url': 'http://www.aslpro.com/main/b/book_trigonometry.swf', 'variation_id': 0, 'video_id': '07098'}, {'bbox': [162, 54, 528, 400], 'fps': 25, 'frame_end': -1, 'frame_start': 1, 'instance_id': 24, 'signer_id': 12, 'source': 'aslsearch', 'split': 'val', 'url': 'http://www.aslsearch.com/signs/videos/book.mp4', 'variation_id': 0, 'video_id': '07099'}, {'bbox': [70, 0, 268, 240], 'fps': 25, 'frame_end': -1, 'frame_start': 1, 'instance_id': 25, 'signer_id': 14, 'source': 'handspeak', 'split': 'train', 'url': 'https://www.handspeak.com/word/b/book2.mp4', 'variation_id': 0, 'video_id': '07071'}, {'bbox': [75, 0, 270, 240], 'fps': 25, 'frame_end': -1, 'frame_start': 1, 'instance_id': 26, 'signer_id': 14, 'source': 'handspeak', 'split': 'test', 'url': 'https://www.handspeak.com/word/b/book.mp4', 'variation_id': 0, 'video_id': '07072'}, {'bbox': [64, 0, 273, 240], 'fps': 25, 'frame_end': -1, 'frame_start': 1, 'instance_id': 27, 'signer_id': 14, 'source': 'handspeak', 'split': 'train', 'url': 'https://www.handspeak.com/word/b/books-pile.mp4', 'variation_id': 0, 'video_id': '07073'}, {'bbox': [128, 20, 383, 360], 'fps': 25, 'frame_end': -1, 'frame_start': 1, 'instance_id': 28, 'signer_id': 109, 'source': 'asllex', 'split': 'train', 'url': 'https://youtu.be/3-GrhsVs830', 'variation_id': 0, 'video_id': '67424'}, {'bbox': [82, 11, 212, 192], 'fps': 25, 'frame_end': -1, 'frame_start': 1, 'instance_id': 29, 'signer_id': 11, 'source': 'signingsavvy', 'split': 'train', 'url': 'https://www.signingsavvy.com/signs/mp4/14/14326.mp4', 'variation_id': 0, 'video_id': '07074'}, {'bbox': [386, 48, 942, 720], 'fps': 25, 'frame_end': -1, 'frame_start': 1, 'instance_id': 30, 'signer_id': 5, 'source': 'aslu', 'split': 'train', 'url': 'https://www.youtube.com/watch?v=Kwvw-K6GYW8', 'variation_id': 0, 'video_id': '07075'}, {'bbox': [362, 43, 945, 720], 'fps': 25, 'frame_end': -1, 'frame_start': 1, 'instance_id': 31, 'signer_id': 5, 'source': 'aslu', 'split': 'train', 'url': 'https://www.youtube.com/watch?v=XjWSfh50kAU', 'variation_id': 0, 'video_id': '07076'}, {'bbox': [25, 4, 223, 240], 'fps': 25, 'frame_end': -1, 'frame_start': 1, 'instance_id': 32, 'signer_id': 49, 'source': 'aslpro', 'split': 'train', 'url': 'http://www.aslpro.com/main/b/book_accounting.swf', 'variation_id': 0, 'video_id': '07077'}, {'bbox': [28, 4, 226, 240], 'fps': 25, 'frame_end': -1, 'frame_start': 1, 'instance_id': 33, 'signer_id': 18, 'source': 'aslpro', 'split': 'train', 'url': 'http://www.aslpro.com/main/b/book_algebra.swf', 'variation_id': 0, 'video_id': '07078'}, {'bbox': [15, 2, 238, 240], 'fps': 25, 'frame_end': -1, 'frame_start': 1, 'instance_id': 34, 'signer_id': 49, 'source': 'aslpro', 'split': 'train', 'url': 'http://www.aslpro.com/main/b/book_anatomy.swf', 'variation_id': 0, 'video_id': '07079'}, {'bbox': [28, 2, 226, 240], 'fps': 25, 'frame_end': -1, 'frame_start': 1, 'instance_id': 35, 'signer_id': 18, 'source': 'aslpro', 'split': 'train', 'url': 'http://www.aslpro.com/main/b/book_art_history.swf', 'variation_id': 0, 'video_id': '07080'}, {'bbox': [23, 2, 226, 240], 'fps': 25, 'frame_end': -1, 'frame_start': 1, 'instance_id': 36, 'signer_id': 18, 'source': 'aslpro', 'split': 'train', 'url': 'http://www.aslpro.com/main/b/book_art.swf', 'variation_id': 0, 'video_id': '07081'}, {'bbox': [30, 3, 228, 240], 'fps': 25, 'frame_end': -1, 'frame_start': 1, 'instance_id': 37, 'signer_id': 18, 'source': 'aslpro', 'split': 'train', 'url': 'http://www.aslpro.com/main/b/book_business.swf', 'variation_id': 0, 'video_id': '07082'}, {'bbox': [0, 3, 260, 240], 'fps': 25, 'frame_end': -1, 'frame_start': 1, 'instance_id': 38, 'signer_id': 18, 'source': 'aslpro', 'split': 'val', 'url': 'http://www.aslpro.com/main/b/book_chemistry.swf', 'variation_id': 0, 'video_id': '07083'}, {'bbox': [29, 4, 225, 240], 'fps': 25, 'frame_end': -1, 'frame_start': 1, 'instance_id': 39, 'signer_id': 18, 'source': 'aslpro', 'split': 'train', 'url': 'http://www.aslpro.com/main/b/book_coloring.swf', 'variation_id': 0, 'video_id': '07084'}]\n",
      "1     drink                                                                                                                                                                                                                                                                                                                                                                                                                                                                                                                                                                                                                                                                                                                                                                                                                                                                                                                                                                                                                                       [{'bbox': [551, 68, 1350, 1080], 'fps': 25, 'frame_end': -1, 'frame_start': 1, 'instance_id': 0, 'signer_id': 115, 'source': 'aslbrick', 'split': 'val', 'url': 'http://aslbricks.org/New/ASL-Videos/drink.mp4', 'variation_id': 0, 'video_id': '69302'}, {'bbox': [153, 11, 488, 370], 'fps': 25, 'frame_end': -1, 'frame_start': 1, 'instance_id': 1, 'signer_id': 94, 'source': 'aslsignbank', 'split': 'train', 'url': 'https://aslsignbank.haskins.yale.edu/dictionary/protected_media/glossvideo/ASL/DR/DRINK-119.mp4', 'variation_id': 0, 'video_id': '65539'}, {'bbox': [142, 20, 501, 480], 'fps': 25, 'frame_end': 5831, 'frame_start': 5710, 'instance_id': 2, 'signer_id': 121, 'source': 'northtexas', 'split': 'val', 'url': 'https://www.youtube.com/watch?v=F5Wef1_PtLk', 'variation_id': 0, 'video_id': '70173'}, {'bbox': [112, 13, 529, 356], 'fps': 25, 'frame_end': 71, 'frame_start': 1, 'instance_id': 3, 'signer_id': 113, 'source': 'lillybauer', 'split': 'val', 'url': 'https://www.youtube.com/watch?v=HZMTQJdBZ9g', 'variation_id': 0, 'video_id': '68538'}, {'bbox': [110, 0, 1160, 720], 'fps': 25, 'frame_end': -1, 'frame_start': 1, 'instance_id': 4, 'signer_id': 109, 'source': 'valencia-asl', 'split': 'val', 'url': 'https://www.youtube.com/watch?v=KRc_WYI1DgA', 'variation_id': 0, 'video_id': '68042'}, {'bbox': [312, 19, 908, 720], 'fps': 25, 'frame_end': 54, 'frame_start': 1, 'instance_id': 5, 'signer_id': 115, 'source': 'lillybauer', 'split': 'train', 'url': 'https://www.youtube.com/watch?v=Lk2Vws8homw', 'variation_id': 0, 'video_id': '68660'}, {'bbox': [116, 0, 1166, 720], 'fps': 25, 'frame_end': -1, 'frame_start': 1, 'instance_id': 6, 'signer_id': 109, 'source': 'valencia-asl', 'split': 'train', 'url': 'https://www.youtube.com/watch?v=Nc7rSopCpI8', 'variation_id': 0, 'video_id': '68041'}, {'bbox': [300, 63, 882, 720], 'fps': 25, 'frame_end': -1, 'frame_start': 1, 'instance_id': 7, 'signer_id': 5, 'source': 'aslu', 'split': 'train', 'url': 'https://www.youtube.com/watch?v=537MWOtCl78', 'variation_id': 0, 'video_id': '17725'}, {'bbox': [318, 29, 951, 720], 'fps': 25, 'frame_end': -1, 'frame_start': 1, 'instance_id': 8, 'signer_id': 5, 'source': 'aslu', 'split': 'train', 'url': 'https://www.youtube.com/watch?v=6gU3Ln98sWA', 'variation_id': 0, 'video_id': '17726'}, {'bbox': [232, 55, 838, 720], 'fps': 25, 'frame_end': -1, 'frame_start': 1, 'instance_id': 9, 'signer_id': 65, 'source': 'nabboud', 'split': 'train', 'url': 'https://www.youtube.com/watch?v=Ddd2ZZNFhVI', 'variation_id': 0, 'video_id': '17727'}, {'bbox': [337, 0, 994, 720], 'fps': 25, 'frame_end': -1, 'frame_start': 1, 'instance_id': 10, 'signer_id': 5, 'source': 'aslu', 'split': 'train', 'url': 'https://www.youtube.com/watch?v=g3rl9_LYqzI', 'variation_id': 0, 'video_id': '17728'}, {'bbox': [196, 15, 521, 414], 'fps': 25, 'frame_end': -1, 'frame_start': 1, 'instance_id': 11, 'signer_id': 36, 'source': 'startasl', 'split': 'train', 'url': 'https://s3-us-west-1.amazonaws.com/files.startasl.com/asldictionary/drink.mp4', 'variation_id': 0, 'video_id': '17710'}, {'bbox': [350, 0, 999, 720], 'fps': 25, 'frame_end': -1, 'frame_start': 1, 'instance_id': 12, 'signer_id': 5, 'source': 'aslu', 'split': 'train', 'url': 'https://www.youtube.com/watch?v=i0opsQ2zB1Q', 'variation_id': 0, 'video_id': '17729'}, {'bbox': [334, 0, 997, 720], 'fps': 25, 'frame_end': -1, 'frame_start': 1, 'instance_id': 13, 'signer_id': 5, 'source': 'aslu', 'split': 'test', 'url': 'https://www.youtube.com/watch?v=k6cNmM9WgUs', 'variation_id': 0, 'video_id': '17730'}, {'bbox': [348, 43, 933, 720], 'fps': 25, 'frame_end': -1, 'frame_start': 1, 'instance_id': 14, 'signer_id': 5, 'source': 'aslu', 'split': 'train', 'url': 'https://www.youtube.com/watch?v=LqJM7wcUixQ', 'variation_id': 0, 'video_id': '17731'}, {'bbox': [0, 4, 206, 240], 'fps': 25, 'frame_end': -1, 'frame_start': 1, 'instance_id': 15, 'signer_id': 44, 'source': 'aslpro', 'split': 'train', 'url': 'http://www.aslpro.com/main/d/drink.swf', 'variation_id': 0, 'video_id': '17732'}, {'bbox': [186, 63, 551, 400], 'fps': 25, 'frame_end': -1, 'frame_start': 1, 'instance_id': 16, 'signer_id': 12, 'source': 'aslsearch', 'split': 'train', 'url': 'http://www.aslsearch.com/signs/videos/drink-alcohol.mp4', 'variation_id': 0, 'video_id': '17733'}, {'bbox': [167, 19, 480, 370], 'fps': 25, 'frame_end': -1, 'frame_start': 1, 'instance_id': 17, 'signer_id': 94, 'source': 'aslsignbank', 'split': 'train', 'url': 'https://aslsignbank.haskins.yale.edu/dictionary/protected_media/glossvideo/ASL/DR/DRINK-120.mp4', 'variation_id': 0, 'video_id': '65540'}, {'bbox': [183, 55, 552, 400], 'fps': 25, 'frame_end': -1, 'frame_start': 1, 'instance_id': 18, 'signer_id': 12, 'source': 'aslsearch', 'split': 'val', 'url': 'http://www.aslsearch.com/signs/videos/drink.mp4', 'variation_id': 0, 'video_id': '17734'}, {'bbox': [289, 9, 783, 480], 'fps': 25, 'frame_end': -1, 'frame_start': 1, 'instance_id': 19, 'signer_id': 52, 'source': 'signschool', 'split': 'train', 'url': 'https://signstock.blob.core.windows.net/signschool/videos/db_uploads/SignSchool%20Drink%20(correct)-0UzEF7ru0sQ.mp4', 'variation_id': 0, 'video_id': '17711'}, {'bbox': [673, 90, 1571, 1072], 'fps': 25, 'frame_end': -1, 'frame_start': 1, 'instance_id': 20, 'signer_id': 6, 'source': 'signschool', 'split': 'train', 'url': 'https://signstock.blob.core.windows.net/signschool/videos/db_uploads/SignSchool%20Drink-L6hHRIQzWBo.mp4', 'variation_id': 0, 'video_id': '17712'}, {'bbox': [28, 0, 542, 480], 'fps': 25, 'frame_end': -1, 'frame_start': 1, 'instance_id': 21, 'signer_id': 21, 'source': 'asldeafined', 'split': 'test', 'url': 'https://media.asldeafined.com/vocabulary/1467773819.9825.mp4', 'variation_id': 0, 'video_id': '17713'}, {'bbox': [53, 9, 579, 480], 'fps': 25, 'frame_end': -1, 'frame_start': 1, 'instance_id': 22, 'signer_id': 20, 'source': 'handspeak', 'split': 'train', 'url': 'https://www.handspeak.com/word/d/drink2.mp4', 'variation_id': 0, 'video_id': '17714'}, {'bbox': [57, 0, 586, 480], 'fps': 25, 'frame_end': -1, 'frame_start': 1, 'instance_id': 23, 'signer_id': 14, 'source': 'handspeak', 'split': 'train', 'url': 'https://www.handspeak.com/word/d/drink-alcohol.mp4', 'variation_id': 0, 'video_id': '17715'}, {'bbox': [113, 0, 493, 360], 'fps': 25, 'frame_end': -1, 'frame_start': 1, 'instance_id': 24, 'signer_id': 20, 'source': 'handspeak', 'split': 'test', 'url': 'https://www.handspeak.com/word/d/drink-british.mp4', 'variation_id': 0, 'video_id': '17716'}, {'bbox': [112, 0, 509, 360], 'fps': 25, 'frame_end': -1, 'frame_start': 1, 'instance_id': 25, 'signer_id': 14, 'source': 'handspeak', 'split': 'train', 'url': 'https://www.handspeak.com/word/d/drink.mp4', 'variation_id': 0, 'video_id': '17717'}, {'bbox': [84, 0, 506, 360], 'fps': 25, 'frame_end': -1, 'frame_start': 1, 'instance_id': 26, 'signer_id': 20, 'source': 'handspeak', 'split': 'test', 'url': 'https://www.handspeak.com/word/d/drink-mug.mp4', 'variation_id': 0, 'video_id': '17718'}, {'bbox': [41, 9, 257, 240], 'fps': 25, 'frame_end': -1, 'frame_start': 1, 'instance_id': 27, 'signer_id': 2, 'source': 'spreadthesign', 'split': 'train', 'url': 'https://media.spreadthesign.com/video/mp4/13/153289.mp4', 'variation_id': 0, 'video_id': '17709'}, {'bbox': [98, 13, 372, 360], 'fps': 25, 'frame_end': -1, 'frame_start': 1, 'instance_id': 28, 'signer_id': 109, 'source': 'asllex', 'split': 'train', 'url': 'https://youtu.be/yawcLQIhQiE', 'variation_id': 0, 'video_id': '67594'}, {'bbox': [124, 0, 542, 360], 'fps': 25, 'frame_end': -1, 'frame_start': 1, 'instance_id': 29, 'signer_id': 14, 'source': 'handspeak', 'split': 'train', 'url': 'https://www.handspeak.com/word/d/drink-plu.mp4', 'variation_id': 0, 'video_id': '17719'}, {'bbox': [49, 3, 220, 192], 'fps': 25, 'frame_end': -1, 'frame_start': 1, 'instance_id': 30, 'signer_id': 11, 'source': 'signingsavvy', 'split': 'train', 'url': 'https://www.signingsavvy.com/signs/mp4/14/14885.mp4', 'variation_id': 0, 'video_id': '17720'}, {'bbox': [66, 19, 209, 192], 'fps': 25, 'frame_end': -1, 'frame_start': 1, 'instance_id': 31, 'signer_id': 10, 'source': 'signingsavvy', 'split': 'train', 'url': 'https://www.signingsavvy.com/signs/mp4/23/23388.mp4', 'variation_id': 0, 'video_id': '17721'}, {'bbox': [66, 19, 209, 192], 'fps': 25, 'frame_end': -1, 'frame_start': 1, 'instance_id': 32, 'signer_id': 10, 'source': 'signingsavvy', 'split': 'train', 'url': 'https://www.signingsavvy.com/signs/mp4/23/23388.mp4', 'variation_id': 0, 'video_id': '17722'}, {'bbox': [65, 20, 208, 192], 'fps': 25, 'frame_end': -1, 'frame_start': 1, 'instance_id': 33, 'signer_id': 10, 'source': 'signingsavvy', 'split': 'train', 'url': 'https://www.signingsavvy.com/signs/mp4/23/23389.mp4', 'variation_id': 0, 'video_id': '17723'}, {'bbox': [68, 18, 220, 192], 'fps': 25, 'frame_end': -1, 'frame_start': 1, 'instance_id': 34, 'signer_id': 11, 'source': 'signingsavvy', 'split': 'val', 'url': 'https://www.signingsavvy.com/signs/mp4/7/7796.mp4', 'variation_id': 0, 'video_id': '17724'}]\n",
      "2  computer                                                                                                                                                                                                                                                                                                                                                                                                                                                                                                                                                                                                                                                                                                                                                                                                                                                                                                                                                                                                                                                                                                                                                                                                                                                                                                                                                                                                                                                                                                                                                                                                                                                                                                                                                                                                                                                                                                                                                                                                                                                                                                                                                    [{'bbox': [0, 0, 360, 240], 'fps': 25, 'frame_end': 5181, 'frame_start': 5122, 'instance_id': 0, 'signer_id': 9, 'source': 'asl5200', 'split': 'test', 'url': 'https://www.youtube.com/watch?v=PPmQd2zWdP0', 'variation_id': 0, 'video_id': '12306'}, {'bbox': [111, 0, 1198, 720], 'fps': 25, 'frame_end': -1, 'frame_start': 1, 'instance_id': 1, 'signer_id': 109, 'source': 'valencia-asl', 'split': 'train', 'url': 'https://www.youtube.com/watch?v=H-tAzh-nuV8', 'variation_id': 0, 'video_id': '68028'}, {'bbox': [110, 16, 549, 360], 'fps': 25, 'frame_end': 72, 'frame_start': 1, 'instance_id': 2, 'signer_id': 113, 'source': 'lillybauer', 'split': 'train', 'url': 'https://www.youtube.com/watch?v=YEFd7zsUNXU', 'variation_id': 0, 'video_id': '69054'}, {'bbox': [56, 11, 240, 192], 'fps': 25, 'frame_end': -1, 'frame_start': 1, 'instance_id': 3, 'signer_id': 11, 'source': 'signingsavvy', 'split': 'train', 'url': 'https://www.signingsavvy.com/signs/mp4/6/6326.mp4', 'variation_id': 1, 'video_id': '12328'}, {'bbox': [317, 42, 1077, 720], 'fps': 25, 'frame_end': -1, 'frame_start': 1, 'instance_id': 4, 'signer_id': 5, 'source': 'aslu', 'split': 'train', 'url': 'https://www.youtube.com/watch?v=97IwdVSOQho', 'variation_id': 1, 'video_id': '12329'}, {'bbox': [299, 34, 1066, 720], 'fps': 25, 'frame_end': -1, 'frame_start': 1, 'instance_id': 5, 'signer_id': 5, 'source': 'aslu', 'split': 'train', 'url': 'https://www.youtube.com/watch?v=cujhpwWi1yY', 'variation_id': 1, 'video_id': '12330'}, {'bbox': [422, 50, 824, 720], 'fps': 25, 'frame_end': -1, 'frame_start': 1, 'instance_id': 6, 'signer_id': 38, 'source': 'startasl', 'split': 'val', 'url': 'https://s3-us-west-1.amazonaws.com/files.startasl.com/asldictionary/computer-2.mp4', 'variation_id': 0, 'video_id': '12312'}, {'bbox': [320, 47, 961, 720], 'fps': 25, 'frame_end': -1, 'frame_start': 1, 'instance_id': 7, 'signer_id': 5, 'source': 'aslu', 'split': 'train', 'url': 'https://www.youtube.com/watch?v=fY11M3Dxxx0', 'variation_id': 0, 'video_id': '12331'}, {'bbox': [331, 67, 869, 720], 'fps': 25, 'frame_end': -1, 'frame_start': 1, 'instance_id': 8, 'signer_id': 65, 'source': 'nabboud', 'split': 'test', 'url': 'https://www.youtube.com/watch?v=lVo6MByRMHY', 'variation_id': 2, 'video_id': '12332'}, {'bbox': [256, 28, 1084, 720], 'fps': 25, 'frame_end': -1, 'frame_start': 1, 'instance_id': 9, 'signer_id': 5, 'source': 'aslu', 'split': 'val', 'url': 'https://www.youtube.com/watch?v=-_RSZM-lLXE', 'variation_id': 1, 'video_id': '12333'}, {'bbox': [321, 1, 953, 720], 'fps': 25, 'frame_end': -1, 'frame_start': 1, 'instance_id': 11, 'signer_id': 5, 'source': 'aslu', 'split': 'val', 'url': 'https://www.youtube.com/watch?v=vK4GwJaDcWU', 'variation_id': 2, 'video_id': '12335'}, {'bbox': [386, 67, 872, 720], 'fps': 25, 'frame_end': -1, 'frame_start': 1, 'instance_id': 12, 'signer_id': 65, 'source': 'nabboud', 'split': 'test', 'url': 'https://www.youtube.com/watch?v=-wmqgdmwySo', 'variation_id': 0, 'video_id': '12336'}, {'bbox': [27, 0, 313, 240], 'fps': 25, 'frame_end': -1, 'frame_start': 1, 'instance_id': 13, 'signer_id': 56, 'source': 'spreadthesign', 'split': 'train', 'url': 'https://media.spreadthesign.com/video/mp4/13/51378.mp4', 'variation_id': 1, 'video_id': '12311'}, {'bbox': [8, 1, 251, 240], 'fps': 25, 'frame_end': -1, 'frame_start': 1, 'instance_id': 14, 'signer_id': 72, 'source': 'aslpro', 'split': 'train', 'url': 'http://www.aslpro.com/main/c/computer.swf', 'variation_id': 1, 'video_id': '12337'}, {'bbox': [221, 42, 501, 400], 'fps': 25, 'frame_end': -1, 'frame_start': 1, 'instance_id': 15, 'signer_id': 41, 'source': 'aslsearch', 'split': 'train', 'url': 'http://www.aslsearch.com/signs/videos/computer.mp4', 'variation_id': 1, 'video_id': '12338'}, {'bbox': [409, 51, 833, 720], 'fps': 25, 'frame_end': -1, 'frame_start': 1, 'instance_id': 16, 'signer_id': 38, 'source': 'startasl', 'split': 'train', 'url': 'https://s3-us-west-1.amazonaws.com/files.startasl.com/asldictionary/computer.mp4', 'variation_id': 1, 'video_id': '12313'}, {'bbox': [257, 38, 1684, 1080], 'fps': 25, 'frame_end': -1, 'frame_start': 1, 'instance_id': 17, 'signer_id': 4, 'source': 'signschool', 'split': 'train', 'url': 'https://signstock.blob.core.windows.net/signschool/videos/db_uploads/Computer%203-ZIm7kG5ie_M.mp4', 'variation_id': 0, 'video_id': '12314'}, {'bbox': [436, 35, 1765, 1080], 'fps': 25, 'frame_end': -1, 'frame_start': 1, 'instance_id': 18, 'signer_id': 4, 'source': 'signschool', 'split': 'val', 'url': 'https://signstock.blob.core.windows.net/signschool/videos/db_uploads/Computer%205-wOn7bu44o4s.mp4', 'variation_id': 1, 'video_id': '12315'}, {'bbox': [412, 18, 1698, 1080], 'fps': 25, 'frame_end': -1, 'frame_start': 1, 'instance_id': 19, 'signer_id': 4, 'source': 'signschool', 'split': 'train', 'url': 'https://signstock.blob.core.windows.net/signschool/videos/db_uploads/SignSchool%20Computer%201-_2YnCKHJy6U.mp4', 'variation_id': 2, 'video_id': '12316'}, {'bbox': [473, 44, 1708, 1080], 'fps': 25, 'frame_end': -1, 'frame_start': 1, 'instance_id': 20, 'signer_id': 4, 'source': 'signschool', 'split': 'train', 'url': 'https://signstock.blob.core.windows.net/signschool/videos/db_uploads/SignSchool%20Computer%202-_HHzYqXw-xU.mp4', 'variation_id': 2, 'video_id': '12317'}, {'bbox': [365, 45, 1673, 1080], 'fps': 25, 'frame_end': -1, 'frame_start': 1, 'instance_id': 21, 'signer_id': 4, 'source': 'signschool', 'split': 'train', 'url': 'https://signstock.blob.core.windows.net/signschool/videos/db_uploads/SignSchool%20Computer%204-1f6Cc5NXBgw.mp4', 'variation_id': 0, 'video_id': '12318'}, {'bbox': [494, 99, 1414, 1077], 'fps': 25, 'frame_end': -1, 'frame_start': 1, 'instance_id': 22, 'signer_id': 45, 'source': 'signschool', 'split': 'train', 'url': 'https://signstock.blob.core.windows.net/signschool/videos/db_uploads/SignSchool%20Republic%20of%20Congo-b6U1CIWIPIw.mp4', 'variation_id': 2, 'video_id': '12319'}, {'bbox': [74, 19, 565, 480], 'fps': 25, 'frame_end': -1, 'frame_start': 1, 'instance_id': 23, 'signer_id': 59, 'source': 'asldeafined', 'split': 'test', 'url': 'https://media.asldeafined.com/vocabulary/1466901185.5915.mp4', 'variation_id': 1, 'video_id': '12320'}, {'bbox': [96, 17, 417, 360], 'fps': 25, 'frame_end': -1, 'frame_start': 1, 'instance_id': 24, 'signer_id': 109, 'source': 'asllex', 'split': 'test', 'url': 'https://youtu.be/u1xoXux2NaE', 'variation_id': 1, 'video_id': '67519'}, {'bbox': [115, 0, 561, 480], 'fps': 25, 'frame_end': -1, 'frame_start': 1, 'instance_id': 25, 'signer_id': 20, 'source': 'handspeak', 'split': 'train', 'url': 'https://www.handspeak.com/word/c/computer-arm2.mp4', 'variation_id': 0, 'video_id': '12321'}, {'bbox': [107, 0, 534, 480], 'fps': 25, 'frame_end': -1, 'frame_start': 1, 'instance_id': 26, 'signer_id': 20, 'source': 'handspeak', 'split': 'train', 'url': 'https://www.handspeak.com/word/c/computer-arm.mp4', 'variation_id': 0, 'video_id': '12322'}, {'bbox': [14, 0, 521, 480], 'fps': 25, 'frame_end': -1, 'frame_start': 1, 'instance_id': 27, 'signer_id': 20, 'source': 'handspeak', 'split': 'train', 'url': 'https://www.handspeak.com/word/c/computer-head.mp4', 'variation_id': 2, 'video_id': '12323'}, {'bbox': [120, 9, 522, 360], 'fps': 25, 'frame_end': -1, 'frame_start': 1, 'instance_id': 28, 'signer_id': 14, 'source': 'handspeak', 'split': 'train', 'url': 'https://www.handspeak.com/word/c/computer-old2.mp4', 'variation_id': 1, 'video_id': '12324'}, {'bbox': [69, 9, 214, 192], 'fps': 25, 'frame_end': -1, 'frame_start': 1, 'instance_id': 30, 'signer_id': 11, 'source': 'signingsavvy', 'split': 'val', 'url': 'https://www.signingsavvy.com/signs/mp4/6/6011.mp4', 'variation_id': 0, 'video_id': '12326'}, {'bbox': [63, 0, 218, 192], 'fps': 25, 'frame_end': -1, 'frame_start': 1, 'instance_id': 31, 'signer_id': 11, 'source': 'signingsavvy', 'split': 'train', 'url': 'https://www.signingsavvy.com/signs/mp4/6/6012.mp4', 'variation_id': 2, 'video_id': '12327'}]\n",
      "3    before                                                                                                                                                                                                                                                                                                                                                                                                                                                                                                                                                                                                                                                                                                                                                                                                                                                                                                                                                                                                                                                                                                                                                                                                                                                                                                                                                                                                                                                                                                                                                                                                                                                                                                                                                                                                                                                                                                                                                                                                                                                                                                                                                                                                                                                                                                                                                                                                                                                                                                                                                                                                                                                                                                                                                                                                                                                                                                                                                                                                                                                                                                                                                                                                                                          [{'bbox': [0, 0, 360, 240], 'fps': 25, 'frame_end': 1779, 'frame_start': 1733, 'instance_id': 0, 'signer_id': 9, 'source': 'asl5200', 'split': 'train', 'url': 'https://www.youtube.com/watch?v=pDqITge_TGs', 'variation_id': 0, 'video_id': '05724'}, {'bbox': [185, 50, 419, 360], 'fps': 25, 'frame_end': 4873, 'frame_start': 4778, 'instance_id': 1, 'signer_id': 121, 'source': 'northtexas', 'split': 'train', 'url': 'https://www.youtube.com/watch?v=bq-HmgjGzmw', 'variation_id': 0, 'video_id': '70348'}, {'bbox': [121, 26, 1003, 720], 'fps': 25, 'frame_end': -1, 'frame_start': 1, 'instance_id': 2, 'signer_id': 109, 'source': 'valencia-asl', 'split': 'train', 'url': 'https://www.youtube.com/watch?v=IYH-gBXXl8I', 'variation_id': 0, 'video_id': '68007'}, {'bbox': [156, 14, 493, 360], 'fps': 25, 'frame_end': -1, 'frame_start': 1, 'instance_id': 3, 'signer_id': 5, 'source': 'aslu', 'split': 'train', 'url': 'https://www.youtube.com/watch?v=MvtVsr3P098', 'variation_id': 1, 'video_id': '05744'}, {'bbox': [142, 12, 493, 360], 'fps': 25, 'frame_end': -1, 'frame_start': 1, 'instance_id': 5, 'signer_id': 5, 'source': 'aslu', 'split': 'val', 'url': 'https://www.youtube.com/watch?v=PeO4kaKvoVM', 'variation_id': 0, 'video_id': '05746'}, {'bbox': [624, 70, 1587, 1070], 'fps': 25, 'frame_end': -1, 'frame_start': 1, 'instance_id': 6, 'signer_id': 32, 'source': 'signschool', 'split': 'train', 'url': 'https://signstock.blob.core.windows.net/signschool/videos/db_uploads/SignSchool%20Before%202-02xxXtC3G8c.mp4', 'variation_id': 0, 'video_id': '05728'}, {'bbox': [327, 2, 1071, 720], 'fps': 25, 'frame_end': -1, 'frame_start': 1, 'instance_id': 7, 'signer_id': 5, 'source': 'aslu', 'split': 'train', 'url': 'https://www.youtube.com/watch?v=TQMe2WDz9QE', 'variation_id': 1, 'video_id': '05747'}, {'bbox': [15, 12, 206, 240], 'fps': 25, 'frame_end': -1, 'frame_start': 1, 'instance_id': 8, 'signer_id': 24, 'source': 'aslpro', 'split': 'train', 'url': 'http://www.aslpro.com/main/b/before.swf', 'variation_id': 1, 'video_id': '05748'}, {'bbox': [167, 52, 512, 400], 'fps': 25, 'frame_end': -1, 'frame_start': 1, 'instance_id': 9, 'signer_id': 12, 'source': 'aslsearch', 'split': 'train', 'url': 'http://www.aslsearch.com/signs/videos/before3.mp4', 'variation_id': 0, 'video_id': '05749'}, {'bbox': [171, 52, 513, 400], 'fps': 25, 'frame_end': -1, 'frame_start': 1, 'instance_id': 10, 'signer_id': 12, 'source': 'aslsearch', 'split': 'val', 'url': 'http://www.aslsearch.com/signs/videos/before.mp4', 'variation_id': 1, 'video_id': '05750'}, {'bbox': [300, 12, 1202, 1080], 'fps': 25, 'frame_end': -1, 'frame_start': 1, 'instance_id': 11, 'signer_id': 46, 'source': 'signschool', 'split': 'train', 'url': 'https://signstock.blob.core.windows.net/signschool/videos/db_uploads/SignSchool%20Before-kM8O_piLegw.mp4', 'variation_id': 1, 'video_id': '05729'}, {'bbox': [712, 64, 1652, 1080], 'fps': 25, 'frame_end': -1, 'frame_start': 1, 'instance_id': 12, 'signer_id': 32, 'source': 'signschool', 'split': 'train', 'url': 'https://signstock.blob.core.windows.net/signschool/videos/db_uploads/SignSchool%20Before-Se78WI3j-mI.mp4', 'variation_id': 1, 'video_id': '05730'}, {'bbox': [190, 0, 504, 370], 'fps': 25, 'frame_end': -1, 'frame_start': 1, 'instance_id': 13, 'signer_id': 88, 'source': 'aslsignbank', 'split': 'train', 'url': 'https://aslsignbank.haskins.yale.edu/dictionary/protected_media/glossvideo/ASL/BE/BEFORE-37.mp4', 'variation_id': 1, 'video_id': '65167'}, {'bbox': [570, 98, 1535, 1080], 'fps': 25, 'frame_end': -1, 'frame_start': 1, 'instance_id': 14, 'signer_id': 4, 'source': 'signschool', 'split': 'train', 'url': 'https://signstock.blob.core.windows.net/signschool/videos/db_uploads/SignSchool%20Last-0SLfkAHELAs.mp4', 'variation_id': 0, 'video_id': '05731'}, {'bbox': [103, 25, 528, 480], 'fps': 25, 'frame_end': -1, 'frame_start': 1, 'instance_id': 15, 'signer_id': 13, 'source': 'asldeafined', 'split': 'train', 'url': 'https://media.asldeafined.com/vocabulary/1466681314.2550.mp4', 'variation_id': 0, 'video_id': '05732'}, {'bbox': [95, 23, 533, 480], 'fps': 25, 'frame_end': -1, 'frame_start': 1, 'instance_id': 16, 'signer_id': 13, 'source': 'asldeafined', 'split': 'train', 'url': 'https://media.asldeafined.com/vocabulary/1466681379.1244.mp4', 'variation_id': 1, 'video_id': '05733'}, {'bbox': [129, 0, 555, 480], 'fps': 25, 'frame_end': -1, 'frame_start': 1, 'instance_id': 17, 'signer_id': 13, 'source': 'asldeafined', 'split': 'train', 'url': 'https://media.asldeafined.com/vocabulary/1468755772.9751.mp4', 'variation_id': 0, 'video_id': '05734'}, {'bbox': [30, 4, 550, 480], 'fps': 25, 'frame_end': -1, 'frame_start': 1, 'instance_id': 18, 'signer_id': 20, 'source': 'handspeak', 'split': 'test', 'url': 'https://www.handspeak.com/word/b/before-long.mp4', 'variation_id': 0, 'video_id': '05735'}, {'bbox': [59, 0, 303, 240], 'fps': 25, 'frame_end': -1, 'frame_start': 1, 'instance_id': 19, 'signer_id': 14, 'source': 'handspeak', 'split': 'val', 'url': 'https://www.handspeak.com/word/b/before.mp4', 'variation_id': 1, 'video_id': '05736'}, {'bbox': [386, 45, 810, 720], 'fps': 25, 'frame_end': -1, 'frame_start': 1, 'instance_id': 20, 'signer_id': 38, 'source': 'startasl', 'split': 'test', 'url': 'https://s3-us-west-1.amazonaws.com/files.startasl.com/asldictionary/before.mp4', 'variation_id': 1, 'video_id': '05727'}, {'bbox': [102, 11, 532, 480], 'fps': 25, 'frame_end': -1, 'frame_start': 1, 'instance_id': 21, 'signer_id': 20, 'source': 'handspeak', 'split': 'val', 'url': 'https://www.handspeak.com/word/b/before-past.mp4', 'variation_id': 0, 'video_id': '05737'}, {'bbox': [74, 23, 209, 192], 'fps': 25, 'frame_end': -1, 'frame_start': 1, 'instance_id': 23, 'signer_id': 10, 'source': 'signingsavvy', 'split': 'test', 'url': 'https://www.signingsavvy.com/signs/mp4/22/22829.mp4', 'variation_id': 1, 'video_id': '05739'}, {'bbox': [90, 22, 203, 192], 'fps': 25, 'frame_end': -1, 'frame_start': 1, 'instance_id': 24, 'signer_id': 10, 'source': 'signingsavvy', 'split': 'train', 'url': 'https://www.signingsavvy.com/signs/mp4/22/22831.mp4', 'variation_id': 1, 'video_id': '05740'}, {'bbox': [65, 9, 219, 192], 'fps': 25, 'frame_end': -1, 'frame_start': 1, 'instance_id': 25, 'signer_id': 11, 'source': 'signingsavvy', 'split': 'test', 'url': 'https://www.signingsavvy.com/signs/mp4/5/5971.mp4', 'variation_id': 0, 'video_id': '05741'}, {'bbox': [67, 14, 216, 192], 'fps': 25, 'frame_end': -1, 'frame_start': 1, 'instance_id': 26, 'signer_id': 11, 'source': 'signingsavvy', 'split': 'train', 'url': 'https://www.signingsavvy.com/signs/mp4/6/6164.mp4', 'variation_id': 0, 'video_id': '05742'}, {'bbox': [43, 3, 212, 192], 'fps': 25, 'frame_end': -1, 'frame_start': 1, 'instance_id': 27, 'signer_id': 11, 'source': 'signingsavvy', 'split': 'train', 'url': 'https://www.signingsavvy.com/signs/mp4/9/9194.mp4', 'variation_id': 0, 'video_id': '05743'}]\n",
      "4     chair                                                                                                                                                                                                                                                                                                                                                                                                                                                                                                                                                                                                                                                                                                                                                                                                                                                                                                                                                                                                                                                                                                                                                                                                                                                                                                                                                                                                                                                                                                                                                                                                                                                                                                                                                                                                                                                                                                                                                                                                                                                                                                                                                                                                                                                                                                                                                                                                                                                                                                                                                                                                                                                                                                                                                                                                                                                                                                                                                                                                                                                                                                                                                                                                                                                                                                                                                                                                                                                                                                                               [{'bbox': [0, 0, 360, 240], 'fps': 25, 'frame_end': 1889, 'frame_start': 1830, 'instance_id': 0, 'signer_id': 9, 'source': 'asl5200', 'split': 'test', 'url': 'https://www.youtube.com/watch?v=PPmQd2zWdP0', 'variation_id': 0, 'video_id': '09847'}, {'bbox': [127, 41, 449, 360], 'fps': 25, 'frame_end': 2231, 'frame_start': 2101, 'instance_id': 1, 'signer_id': 121, 'source': 'northtexas', 'split': 'train', 'url': 'https://www.youtube.com/watch?v=4Nh1iFv2BMc', 'variation_id': 0, 'video_id': '70230'}, {'bbox': [340, 12, 944, 720], 'fps': 25, 'frame_end': 51, 'frame_start': 1, 'instance_id': 2, 'signer_id': 115, 'source': 'lillybauer', 'split': 'train', 'url': 'https://www.youtube.com/watch?v=j2hvnGiBrRI', 'variation_id': 0, 'video_id': '68580'}, {'bbox': [112, 39, 426, 360], 'fps': 25, 'frame_end': 3209, 'frame_start': 3092, 'instance_id': 3, 'signer_id': 121, 'source': 'northtexas', 'split': 'train', 'url': 'https://www.youtube.com/watch?v=WGfiiDgrq1I', 'variation_id': 0, 'video_id': '70263'}, {'bbox': [229, 3, 672, 480], 'fps': 25, 'frame_end': -1, 'frame_start': 1, 'instance_id': 4, 'signer_id': 110, 'source': 'valencia-asl', 'split': 'train', 'url': 'https://www.youtube.com/watch?v=zICB0wesqvY', 'variation_id': 0, 'video_id': '68019'}, {'bbox': [0, 10, 245, 240], 'fps': 25, 'frame_end': -1, 'frame_start': 1, 'instance_id': 6, 'signer_id': 72, 'source': 'aslpro', 'split': 'train', 'url': 'http://www.aslpro.com//main/c/chair_stacking.swf', 'variation_id': 0, 'video_id': '09865'}, {'bbox': [18, 6, 247, 240], 'fps': 25, 'frame_end': -1, 'frame_start': 1, 'instance_id': 7, 'signer_id': 72, 'source': 'aslpro', 'split': 'train', 'url': 'http://www.aslpro.com/main/c/chair.swf', 'variation_id': 0, 'video_id': '09866'}, {'bbox': [40, 6, 266, 240], 'fps': 25, 'frame_end': -1, 'frame_start': 1, 'instance_id': 8, 'signer_id': 0, 'source': 'spreadthesign', 'split': 'train', 'url': 'https://media.spreadthesign.com/video/mp4/13/74909.mp4', 'variation_id': 0, 'video_id': '09848'}, {'bbox': [5, 9, 250, 240], 'fps': 25, 'frame_end': -1, 'frame_start': 1, 'instance_id': 9, 'signer_id': 72, 'source': 'aslpro', 'split': 'test', 'url': 'http://www.aslpro.com//main/c/chair_wood.swf', 'variation_id': 0, 'video_id': '09867'}, {'bbox': [183, 55, 560, 400], 'fps': 25, 'frame_end': -1, 'frame_start': 1, 'instance_id': 11, 'signer_id': 12, 'source': 'aslsearch', 'split': 'train', 'url': 'http://www.aslsearch.com/signs/videos/chair.mp4', 'variation_id': 0, 'video_id': '09869'}, {'bbox': [388, 56, 806, 720], 'fps': 25, 'frame_end': -1, 'frame_start': 1, 'instance_id': 12, 'signer_id': 38, 'source': 'startasl', 'split': 'train', 'url': 'https://s3-us-west-1.amazonaws.com/files.startasl.com/asldictionary/chair.mp4', 'variation_id': 0, 'video_id': '09849'}, {'bbox': [667, 144, 1472, 1061], 'fps': 25, 'frame_end': -1, 'frame_start': 1, 'instance_id': 13, 'signer_id': 31, 'source': 'signschool', 'split': 'train', 'url': 'https://signstock.blob.core.windows.net/signschool/videos/db_uploads/SignSchool%20Chair-mVdtJjs-_20.mp4', 'variation_id': 0, 'video_id': '09850'}, {'bbox': [102, 22, 563, 480], 'fps': 25, 'frame_end': -1, 'frame_start': 1, 'instance_id': 14, 'signer_id': 59, 'source': 'asldeafined', 'split': 'val', 'url': 'https://media.asldeafined.com/vocabulary/1466729509.9229.mp4', 'variation_id': 0, 'video_id': '09851'}, {'bbox': [169, 15, 476, 370], 'fps': 25, 'frame_end': -1, 'frame_start': 1, 'instance_id': 15, 'signer_id': 90, 'source': 'aslsignbank', 'split': 'train', 'url': 'https://aslsignbank.haskins.yale.edu/dictionary/protected_media/glossvideo/ASL/CH/CHAIR-378.mp4', 'variation_id': 0, 'video_id': '65328'}, {'bbox': [60, 0, 306, 240], 'fps': 25, 'frame_end': -1, 'frame_start': 1, 'instance_id': 17, 'signer_id': 14, 'source': 'handspeak', 'split': 'train', 'url': 'https://www.handspeak.com/word/c/chair.mp4', 'variation_id': 0, 'video_id': '09853'}, {'bbox': [81, 15, 233, 192], 'fps': 25, 'frame_end': -1, 'frame_start': 1, 'instance_id': 18, 'signer_id': 11, 'source': 'signingsavvy', 'split': 'val', 'url': 'https://www.signingsavvy.com/signs/mp4/7/7821.mp4', 'variation_id': 0, 'video_id': '09854'}, {'bbox': [288, 29, 1001, 720], 'fps': 25, 'frame_end': -1, 'frame_start': 1, 'instance_id': 19, 'signer_id': 5, 'source': 'aslu', 'split': 'test', 'url': 'https://www.youtube.com/watch?v=8vc2vD9N4tk', 'variation_id': 0, 'video_id': '09855'}, {'bbox': [273, 88, 902, 720], 'fps': 25, 'frame_end': -1, 'frame_start': 1, 'instance_id': 20, 'signer_id': 65, 'source': 'nabboud', 'split': 'train', 'url': 'https://www.youtube.com/watch?v=dXz1i9gTR4w', 'variation_id': 0, 'video_id': '09856'}, {'bbox': [92, 19, 395, 360], 'fps': 25, 'frame_end': -1, 'frame_start': 1, 'instance_id': 21, 'signer_id': 109, 'source': 'asllex', 'split': 'val', 'url': 'https://youtu.be/K47c4lIJQvI', 'variation_id': 0, 'video_id': '67483'}, {'bbox': [15, 8, 245, 240], 'fps': 25, 'frame_end': -1, 'frame_start': 1, 'instance_id': 22, 'signer_id': 72, 'source': 'aslpro', 'split': 'train', 'url': 'http://www.aslpro.com//main/c/chair_director.swf', 'variation_id': 0, 'video_id': '09857'}, {'bbox': [0, 8, 249, 240], 'fps': 25, 'frame_end': -1, 'frame_start': 1, 'instance_id': 23, 'signer_id': 72, 'source': 'aslpro', 'split': 'train', 'url': 'http://www.aslpro.com//main/c/chair_folding.swf', 'variation_id': 0, 'video_id': '09858'}, {'bbox': [0, 8, 247, 240], 'fps': 25, 'frame_end': -1, 'frame_start': 1, 'instance_id': 24, 'signer_id': 72, 'source': 'aslpro', 'split': 'train', 'url': 'http://www.aslpro.com//main/c/chair_lawn_folding.swf', 'variation_id': 0, 'video_id': '09859'}, {'bbox': [1, 8, 252, 240], 'fps': 25, 'frame_end': -1, 'frame_start': 1, 'instance_id': 25, 'signer_id': 72, 'source': 'aslpro', 'split': 'train', 'url': 'http://www.aslpro.com//main/c/chair_lawn.swf', 'variation_id': 0, 'video_id': '09860'}, {'bbox': [18, 5, 242, 240], 'fps': 25, 'frame_end': -1, 'frame_start': 1, 'instance_id': 26, 'signer_id': 72, 'source': 'aslpro', 'split': 'train', 'url': 'http://www.aslpro.com//main/c/chair_loveseat.swf', 'variation_id': 0, 'video_id': '09861'}, {'bbox': [10, 9, 248, 240], 'fps': 25, 'frame_end': -1, 'frame_start': 1, 'instance_id': 27, 'signer_id': 72, 'source': 'aslpro', 'split': 'val', 'url': 'http://www.aslpro.com//main/c/chair_recliner.swf', 'variation_id': 0, 'video_id': '09862'}, {'bbox': [5, 8, 239, 240], 'fps': 25, 'frame_end': -1, 'frame_start': 1, 'instance_id': 28, 'signer_id': 72, 'source': 'aslpro', 'split': 'train', 'url': 'http://www.aslpro.com//main/c/chair_rocking_1.swf', 'variation_id': 0, 'video_id': '09863'}]\n"
     ]
    }
   ],
   "source": [
    "# read in wlasl dataset\n",
    "wlasl = pd.read_json('../data/WLASL/WLASL_v0.3.json')\n",
    "\n",
    "\n",
    "print(wlasl.head())"
   ]
  },
  {
   "cell_type": "markdown",
   "metadata": {},
   "source": [
    "As the wlasl dataframe is deeply nested it will need to be extracted and assigned into the individual columns"
   ]
  },
  {
   "cell_type": "code",
   "execution_count": 70,
   "metadata": {},
   "outputs": [
    {
     "name": "stdout",
     "output_type": "stream",
     "text": [
      "  clean_text                                                                                             url                 bbox  fps  start  end  signer_id    file\n",
      "0       book                                                    http://aslbricks.org/New/ASL-Videos/book.mp4  [385, 37, 885, 720]   25      1   -1        118  69241_\n",
      "1       book  https://aslsignbank.haskins.yale.edu/dictionary/protected_media/glossvideo/ASL/BO/BOOK-418.mp4  [190, 25, 489, 370]   25      1   -1         90  65225_\n",
      "2       book                                                     https://www.youtube.com/watch?v=0UsjUE-TXns   [262, 1, 652, 480]   25      1   -1        110  68011_\n",
      "3       book                                                     https://www.youtube.com/watch?v=1QOYOZ3g-aY  [123, 19, 516, 358]   25      1   60        113  68208_\n",
      "4       book                                                     https://www.youtube.com/watch?v=aGtIHKEdCds   [95, 0, 1180, 720]   25      1   -1        109  68012_\n"
     ]
    }
   ],
   "source": [
    "# create a DataFrame for row details from all instances\n",
    "\n",
    "# intialize empty list to append\n",
    "video_details = []\n",
    "\n",
    "\n",
    "for index, row in wlasl.iterrows():\n",
    "\n",
    "    # rename each of the default labels\n",
    "    for instance in row['instances']:\n",
    "        video_details.append({\n",
    "            'clean_text': row['gloss'],         # the word or sign action\n",
    "            'url': instance['url'],              # URL of the video\n",
    "            'bbox': instance['bbox'],           # coordinates of the bounding box\n",
    "            'fps': instance['fps'],             # the frames per second\n",
    "            'start': instance['frame_start'],   # frame start\n",
    "            'end': instance['frame_end'],       # frame end\n",
    "            'signer_id': instance['signer_id'], # ID of the signer\n",
    "            'file': instance['video_id'] + '_'  # name of video file, which we will add an underscore to simplify file name extraction\n",
    "        })\n",
    "\n",
    "# convert to pandas dataframe\n",
    "wlasl_df = pd.DataFrame(video_details)\n",
    "\n",
    "# inspect dataframe\n",
    "print(wlasl_df.head())"
   ]
  },
  {
   "cell_type": "code",
   "execution_count": 71,
   "metadata": {},
   "outputs": [
    {
     "name": "stdout",
     "output_type": "stream",
     "text": [
      "      clean_text    file  fps  start  end\n",
      "15742          a  01615_   25      1   -1\n",
      "15735          a  00295_   25      1   23\n",
      "15736          a  66039_   25      1   -1\n",
      "15737          a  01610_   25      1   -1\n",
      "15738          a  01611_   25      1   -1\n"
     ]
    }
   ],
   "source": [
    "# create a cleaner dataframe with the headers that will be needed\n",
    "\n",
    "filtered_wlasl_df = wlasl_df[['clean_text', 'file', 'fps', 'start', 'end']]\n",
    "\n",
    "# Sort the DataFrame based on the 'clean_text' column\n",
    "filtered_wlasl_df_sorted = filtered_wlasl_df.sort_values(by='clean_text')\n",
    "\n",
    "print(filtered_wlasl_df_sorted.head())"
   ]
  },
  {
   "cell_type": "markdown",
   "metadata": {},
   "source": [
    "In this dataframe:\n",
    "- `clean_text`: the signed word and renamed to follow the MS-ASL naming \n",
    "- `file`: the name of the video file\n",
    "- `fps`: the number of frames per second in the video clip\n",
    "- `start`: that starting frame of the sign action\n",
    "- `end`: the end of the sign action. if the value is `-1` it means the entire length of the clip"
   ]
  },
  {
   "cell_type": "code",
   "execution_count": 72,
   "metadata": {},
   "outputs": [
    {
     "name": "stdout",
     "output_type": "stream",
     "text": [
      "up: 58\n",
      "book: 40\n",
      "last: 39\n",
      "hearing: 37\n",
      "drink: 35\n",
      "year: 35\n",
      "take: 33\n",
      "computer: 30\n",
      "you: 30\n",
      "all: 29\n",
      "language: 29\n",
      "hot: 28\n",
      "now: 28\n",
      "give: 28\n",
      "school: 28\n",
      "want: 28\n",
      "dog: 27\n",
      "before: 26\n",
      "chair: 26\n",
      "go: 26\n",
      "clothes: 25\n",
      "who: 25\n",
      "paper: 25\n",
      "every: 25\n",
      "candy: 24\n",
      "room: 24\n",
      "week: 24\n",
      "sign: 24\n",
      "cousin: 23\n",
      "deaf: 23\n",
      "day: 23\n",
      "here: 23\n",
      "south: 23\n",
      "fine: 22\n",
      "help: 22\n",
      "no: 22\n",
      "thin: 22\n",
      "walk: 22\n",
      "yes: 22\n",
      "new: 22\n",
      "president: 22\n",
      "hard: 22\n",
      "pay: 22\n",
      "black: 21\n",
      "cool: 21\n",
      "finish: 21\n",
      "like: 21\n",
      "many: 21\n",
      "mother: 21\n",
      "orange: 21\n",
      "table: 21\n",
      "thanksgiving: 21\n",
      "what: 21\n",
      "woman: 21\n",
      "heart: 21\n",
      "not: 21\n",
      "off: 21\n",
      "high: 21\n",
      "love: 21\n",
      "bed: 20\n",
      "blue: 20\n",
      "bowling: 20\n",
      "can: 20\n",
      "family: 20\n",
      "fish: 20\n",
      "graduate: 20\n",
      "hat: 20\n",
      "kiss: 20\n",
      "later: 20\n",
      "man: 20\n",
      "shirt: 20\n",
      "study: 20\n",
      "tall: 20\n",
      "white: 20\n",
      "wrong: 20\n",
      "bear: 20\n",
      "from: 20\n",
      "get: 20\n",
      "toilet: 20\n",
      "america: 20\n",
      "face: 20\n",
      "in: 20\n",
      "accident: 19\n",
      "apple: 19\n",
      "bird: 19\n",
      "change: 19\n",
      "color: 19\n",
      "corn: 19\n",
      "cow: 19\n",
      "dance: 19\n",
      "dark: 19\n",
      "doctor: 19\n",
      "eat: 19\n",
      "enjoy: 19\n",
      "forget: 19\n",
      "meet: 19\n",
      "pink: 19\n",
      "pizza: 19\n",
      "play: 19\n",
      "secretary: 19\n",
      "short: 19\n",
      "time: 19\n",
      "work: 19\n",
      "for: 19\n",
      "tuesday: 19\n",
      "butter: 19\n",
      "wash: 19\n",
      "africa: 18\n",
      "basketball: 18\n",
      "birthday: 18\n",
      "brown: 18\n",
      "but: 18\n",
      "cheat: 18\n",
      "city: 18\n",
      "cook: 18\n",
      "decide: 18\n",
      "full: 18\n",
      "how: 18\n",
      "jacket: 18\n",
      "letter: 18\n",
      "medicine: 18\n",
      "need: 18\n",
      "paint: 18\n",
      "pull: 18\n",
      "purple: 18\n",
      "right: 18\n",
      "same: 18\n",
      "son: 18\n",
      "tell: 18\n",
      "thursday: 18\n",
      "visit: 18\n",
      "wait: 18\n",
      "water: 18\n",
      "wife: 18\n",
      "yellow: 18\n",
      "put: 18\n",
      "attention: 18\n",
      "french: 18\n",
      "grow: 18\n",
      "backpack: 17\n",
      "bar: 17\n",
      "brother: 17\n",
      "cat: 17\n",
      "check: 17\n",
      "class: 17\n",
      "cry: 17\n",
      "different: 17\n",
      "door: 17\n",
      "green: 17\n",
      "hair: 17\n",
      "have: 17\n",
      "headache: 17\n",
      "inform: 17\n",
      "knife: 17\n",
      "laugh: 17\n",
      "learn: 17\n",
      "movie: 17\n",
      "rabbit: 17\n",
      "read: 17\n",
      "red: 17\n",
      "run: 17\n",
      "show: 17\n",
      "sick: 17\n",
      "snow: 17\n",
      "tea: 17\n",
      "teacher: 17\n",
      "why: 17\n",
      "with: 17\n",
      "write: 17\n",
      "yesterday: 17\n",
      "monday: 17\n",
      "control: 17\n",
      "again: 16\n",
      "bad: 16\n",
      "ball: 16\n",
      "bathroom: 16\n",
      "blanket: 16\n",
      "buy: 16\n",
      "call: 16\n",
      "coffee: 16\n",
      "cold: 16\n",
      "college: 16\n",
      "copy: 16\n",
      "cute: 16\n",
      "daughter: 16\n",
      "far: 16\n",
      "first: 16\n",
      "friend: 16\n",
      "good: 16\n",
      "happy: 16\n",
      "home: 16\n",
      "know: 16\n",
      "late: 16\n",
      "leave: 16\n",
      "list: 16\n",
      "lose: 16\n",
      "name: 16\n",
      "old: 16\n",
      "person: 16\n",
      "police: 16\n",
      "problem: 16\n",
      "remember: 16\n",
      "share: 16\n",
      "soon: 16\n",
      "stay: 16\n",
      "sunday: 16\n",
      "test: 16\n",
      "tired: 16\n",
      "trade: 16\n",
      "travel: 16\n",
      "window: 16\n",
      "common: 16\n",
      "aid: 16\n",
      "on: 16\n",
      "a: 16\n",
      "come: 16\n",
      "throat: 16\n",
      "example: 15\n",
      "about: 15\n",
      "approve: 15\n",
      "arrive: 15\n",
      "balance: 15\n",
      "banana: 15\n",
      "beard: 15\n",
      "because: 15\n",
      "boy: 15\n",
      "business: 15\n",
      "careful: 15\n",
      "center: 15\n",
      "chat: 15\n",
      "children: 15\n",
      "christmas: 15\n",
      "clock: 15\n",
      "close: 15\n",
      "convince: 15\n",
      "country: 15\n",
      "crash: 15\n",
      "discuss: 15\n",
      "dress: 15\n",
      "drive: 15\n",
      "drop: 15\n",
      "fat: 15\n",
      "feel: 15\n",
      "football: 15\n",
      "future: 15\n",
      "game: 15\n",
      "girl: 15\n",
      "government: 15\n",
      "hear: 15\n",
      "hope: 15\n",
      "house: 15\n",
      "husband: 15\n",
      "interest: 15\n",
      "join: 15\n",
      "light: 15\n",
      "live: 15\n",
      "make: 15\n",
      "mean: 15\n",
      "more: 15\n",
      "most: 15\n",
      "music: 15\n",
      "none: 15\n",
      "office: 15\n",
      "order: 15\n",
      "pants: 15\n",
      "party: 15\n",
      "past: 15\n",
      "pencil: 15\n",
      "plan: 15\n",
      "please: 15\n",
      "practice: 15\n",
      "restaurant: 15\n",
      "ride: 15\n",
      "russia: 15\n",
      "salt: 15\n",
      "sandwich: 15\n",
      "since: 15\n",
      "small: 15\n",
      "some: 15\n",
      "student: 15\n",
      "teach: 15\n",
      "theory: 15\n",
      "tomato: 15\n",
      "train: 15\n",
      "ugly: 15\n",
      "war: 15\n",
      "where: 15\n",
      "your: 15\n",
      "always: 14\n",
      "animal: 14\n",
      "argue: 14\n",
      "baby: 14\n",
      "back: 14\n",
      "bake: 14\n",
      "bath: 14\n",
      "behind: 14\n",
      "bring: 14\n",
      "catch: 14\n",
      "cereal: 14\n",
      "champion: 14\n",
      "cheese: 14\n",
      "cough: 14\n",
      "crazy: 14\n",
      "delay: 14\n",
      "delicious: 14\n",
      "disappear: 14\n",
      "divorce: 14\n",
      "draw: 14\n",
      "east: 14\n",
      "easy: 14\n",
      "egg: 14\n",
      "environment: 14\n",
      "father: 14\n",
      "fault: 14\n",
      "flower: 14\n",
      "friendly: 14\n",
      "glasses: 14\n",
      "halloween: 14\n",
      "hour: 14\n",
      "humble: 14\n",
      "hurry: 14\n",
      "improve: 14\n",
      "internet: 14\n",
      "jump: 14\n",
      "kill: 14\n",
      "law: 14\n",
      "match: 14\n",
      "meat: 14\n",
      "milk: 14\n",
      "money: 14\n",
      "month: 14\n",
      "moon: 14\n",
      "move: 14\n",
      "near: 14\n",
      "nephew: 14\n",
      "nice: 14\n",
      "niece: 14\n",
      "noon: 14\n",
      "north: 14\n",
      "nurse: 14\n",
      "ok: 14\n",
      "patient: 14\n",
      "perspective: 14\n",
      "potato: 14\n",
      "sad: 14\n",
      "saturday: 14\n",
      "save: 14\n",
      "scissors: 14\n",
      "secret: 14\n",
      "shoes: 14\n",
      "shop: 14\n",
      "silly: 14\n",
      "sister: 14\n",
      "sleep: 14\n",
      "sorry: 14\n",
      "straight: 14\n",
      "sweet: 14\n",
      "talk: 14\n",
      "temperature: 14\n",
      "tent: 14\n",
      "thank: 14\n",
      "think: 14\n",
      "throw: 14\n",
      "today: 14\n",
      "traffic: 14\n",
      "understand: 14\n",
      "use: 14\n",
      "voice: 14\n",
      "vomit: 14\n",
      "vote: 14\n",
      "wednesday: 14\n",
      "west: 14\n",
      "wet: 14\n",
      "when: 14\n",
      "which: 14\n",
      "win: 14\n",
      "word: 14\n",
      "look: 14\n",
      "afternoon: 13\n",
      "age: 13\n",
      "alone: 13\n",
      "appointment: 13\n",
      "australia: 13\n",
      "avoid: 13\n",
      "balloon: 13\n",
      "basement: 13\n",
      "believe: 13\n",
      "better: 13\n",
      "blind: 13\n",
      "bored: 13\n",
      "bowl: 13\n",
      "box: 13\n",
      "bracelet: 13\n",
      "bread: 13\n",
      "cafeteria: 13\n",
      "car: 13\n",
      "chicken: 13\n",
      "child: 13\n",
      "choose: 13\n",
      "church: 13\n",
      "cookie: 13\n",
      "cup: 13\n",
      "cut: 13\n",
      "decorate: 13\n",
      "deep: 13\n",
      "deer: 13\n",
      "dentist: 13\n",
      "dirty: 13\n",
      "dive: 13\n",
      "down: 13\n",
      "dry: 13\n",
      "ear: 13\n",
      "earn: 13\n",
      "earring: 13\n",
      "elephant: 13\n",
      "english: 13\n",
      "escape: 13\n",
      "expensive: 13\n",
      "explain: 13\n",
      "fast: 13\n",
      "fight: 13\n",
      "find: 13\n",
      "fishing: 13\n",
      "floor: 13\n",
      "fly: 13\n",
      "follow: 13\n",
      "happen: 13\n",
      "hello: 13\n",
      "hit: 13\n",
      "hospital: 13\n",
      "idea: 13\n",
      "important: 13\n",
      "investigate: 13\n",
      "japan: 13\n",
      "jealous: 13\n",
      "king: 13\n",
      "kitchen: 13\n",
      "large: 13\n",
      "lemon: 13\n",
      "lettuce: 13\n",
      "marry: 13\n",
      "meeting: 13\n",
      "minute: 13\n",
      "mirror: 13\n",
      "miss: 13\n",
      "monkey: 13\n",
      "morning: 13\n",
      "motorcycle: 13\n",
      "necklace: 13\n",
      "never: 13\n",
      "newspaper: 13\n",
      "night: 13\n",
      "onion: 13\n",
      "people: 13\n",
      "pepper: 13\n",
      "phone: 13\n",
      "picture: 13\n",
      "plus: 13\n",
      "point: 13\n",
      "poor: 13\n",
      "possible: 13\n",
      "quiet: 13\n",
      "rain: 13\n",
      "ready: 13\n",
      "research: 13\n",
      "scared: 13\n",
      "science: 13\n",
      "score: 13\n",
      "sentence: 13\n",
      "shape: 13\n",
      "sit: 13\n",
      "slow: 13\n",
      "snake: 13\n",
      "soap: 13\n",
      "soda: 13\n",
      "speech: 13\n",
      "star: 13\n",
      "stink: 13\n",
      "struggle: 13\n",
      "stubborn: 13\n",
      "sunset: 13\n",
      "surgery: 13\n",
      "there: 13\n",
      "tiger: 13\n",
      "toast: 13\n",
      "tomorrow: 13\n",
      "town: 13\n",
      "transfer: 13\n",
      "tree: 13\n",
      "truck: 13\n",
      "uncle: 13\n",
      "vacation: 13\n",
      "weather: 13\n",
      "weekend: 13\n",
      "accept: 12\n",
      "adult: 12\n",
      "after: 12\n",
      "ago: 12\n",
      "allow: 12\n",
      "angel: 12\n",
      "answer: 12\n",
      "any: 12\n",
      "area: 12\n",
      "art: 12\n",
      "asl: 12\n",
      "aunt: 12\n",
      "awful: 12\n",
      "awkward: 12\n",
      "bacon: 12\n",
      "bark: 12\n",
      "bedroom: 12\n",
      "beer: 12\n",
      "belt: 12\n",
      "big: 12\n",
      "bitter: 12\n",
      "both: 12\n",
      "cake: 12\n",
      "california: 12\n",
      "canada: 12\n",
      "carrot: 12\n",
      "cause: 12\n",
      "challenge: 12\n",
      "cheap: 12\n",
      "chocolate: 12\n",
      "clean: 12\n",
      "cloud: 12\n",
      "compare: 12\n",
      "complex: 12\n",
      "contact: 12\n",
      "continue: 12\n",
      "corner: 12\n",
      "correct: 12\n",
      "curse: 12\n",
      "dead: 12\n",
      "demand: 12\n",
      "depend: 12\n",
      "desert: 12\n",
      "desk: 12\n",
      "develop: 12\n",
      "dictionary: 12\n",
      "doll: 12\n",
      "duty: 12\n",
      "easter: 12\n",
      "egypt: 12\n",
      "elevator: 12\n",
      "email: 12\n",
      "end: 12\n",
      "enter: 12\n",
      "europe: 12\n",
      "event: 12\n",
      "experience: 12\n",
      "fail: 12\n",
      "feed: 12\n",
      "few: 12\n",
      "flag: 12\n",
      "food: 12\n",
      "form: 12\n",
      "freeze: 12\n",
      "friday: 12\n",
      "front: 12\n",
      "giraffe: 12\n",
      "god: 12\n",
      "grammar: 12\n",
      "grandfather: 12\n",
      "great: 12\n",
      "greece: 12\n",
      "guess: 12\n",
      "guitar: 12\n",
      "hammer: 12\n",
      "helicopter: 12\n",
      "history: 12\n",
      "hungry: 12\n",
      "hurt: 12\n",
      "introduce: 12\n",
      "invest: 12\n",
      "lazy: 12\n",
      "library: 12\n",
      "lie: 12\n",
      "lobster: 12\n",
      "lucky: 12\n",
      "magazine: 12\n",
      "measure: 12\n",
      "microwave: 12\n",
      "my: 12\n",
      "neighbor: 12\n",
      "number: 12\n",
      "one: 12\n",
      "outside: 12\n",
      "peach: 12\n",
      "pig: 12\n",
      "polite: 12\n",
      "postpone: 12\n",
      "power: 12\n",
      "present: 12\n",
      "price: 12\n",
      "prison: 12\n",
      "push: 12\n",
      "raccoon: 12\n",
      "really: 12\n",
      "reason: 12\n",
      "religion: 12\n",
      "respect: 12\n",
      "rule: 12\n",
      "salad: 12\n",
      "schedule: 12\n",
      "sell: 12\n",
      "serious: 12\n",
      "shower: 12\n",
      "single: 12\n",
      "smart: 12\n",
      "smile: 12\n",
      "soft: 12\n",
      "sound: 12\n",
      "soup: 12\n",
      "spain: 12\n",
      "spray: 12\n",
      "squirrel: 12\n",
      "stomach: 12\n",
      "story: 12\n",
      "strange: 12\n",
      "street: 12\n",
      "stress: 12\n",
      "strict: 12\n",
      "strong: 12\n",
      "sugar: 12\n",
      "summer: 12\n",
      "suspect: 12\n",
      "sweetheart: 12\n",
      "tease: 12\n",
      "that: 12\n",
      "themselves: 12\n",
      "therapy: 12\n",
      "thirsty: 12\n",
      "ticket: 12\n",
      "top: 12\n",
      "turkey: 12\n",
      "university: 12\n",
      "until: 12\n",
      "watch: 12\n",
      "weak: 12\n",
      "wedding: 12\n",
      "will: 12\n",
      "wind: 12\n",
      "world: 12\n",
      "worry: 12\n",
      "wow: 12\n",
      "young: 12\n",
      "exchange: 11\n",
      "add: 11\n",
      "airplane: 11\n",
      "already: 11\n",
      "also: 11\n",
      "analyze: 11\n",
      "and: 11\n",
      "angry: 11\n",
      "appear: 11\n",
      "arm: 11\n",
      "army: 11\n",
      "arrest: 11\n",
      "asia: 11\n",
      "ask: 11\n",
      "attitude: 11\n",
      "attract: 11\n",
      "bald: 11\n",
      "barely: 11\n",
      "baseball: 11\n",
      "beg: 11\n",
      "benefit: 11\n",
      "bite: 11\n",
      "blame: 11\n",
      "boat: 11\n",
      "body: 11\n",
      "borrow: 11\n",
      "boss: 11\n",
      "bother: 11\n",
      "bottle: 11\n",
      "bottom: 11\n",
      "brag: 11\n",
      "build: 11\n",
      "bus: 11\n",
      "calm: 11\n",
      "cancel: 11\n",
      "candle: 11\n",
      "cards: 11\n",
      "choice: 11\n",
      "comb: 11\n",
      "comfortable: 11\n",
      "conflict: 11\n",
      "cover: 11\n",
      "deodorant: 11\n",
      "dessert: 11\n",
      "destroy: 11\n",
      "diamond: 11\n",
      "dollar: 11\n",
      "drawer: 11\n",
      "dream: 11\n",
      "drunk: 11\n",
      "duck: 11\n",
      "during: 11\n",
      "eagle: 11\n",
      "early: 11\n",
      "equal: 11\n",
      "excited: 11\n",
      "exercise: 11\n",
      "experiment: 11\n",
      "expert: 11\n",
      "fact: 11\n",
      "fear: 11\n",
      "feedback: 11\n",
      "fold: 11\n",
      "forest: 11\n",
      "france: 11\n",
      "frog: 11\n",
      "funny: 11\n",
      "garage: 11\n",
      "goal: 11\n",
      "golf: 11\n",
      "gone: 11\n",
      "gossip: 11\n",
      "grandmother: 11\n",
      "grapes: 11\n",
      "group: 11\n",
      "guilty: 11\n",
      "hamburger: 11\n",
      "hate: 11\n",
      "head: 11\n",
      "her: 11\n",
      "horse: 11\n",
      "ignore: 11\n",
      "impossible: 11\n",
      "independent: 11\n",
      "inside: 11\n",
      "insurance: 11\n",
      "island: 11\n",
      "lecture: 11\n",
      "lesson: 11\n",
      "limit: 11\n",
      "lion: 11\n",
      "listen: 11\n",
      "march: 11\n",
      "math: 11\n",
      "maybe: 11\n",
      "mechanic: 11\n",
      "mom: 11\n",
      "mouse: 11\n",
      "much: 11\n",
      "muscle: 11\n",
      "museum: 11\n",
      "must: 11\n",
      "mustache: 11\n",
      "negative: 11\n",
      "nervous: 11\n",
      "neutral: 11\n",
      "nose: 11\n",
      "often: 11\n",
      "operate: 11\n",
      "opinion: 11\n",
      "other: 11\n",
      "pass: 11\n",
      "pillow: 11\n",
      "prepare: 11\n",
      "pretty: 11\n",
      "priest: 11\n",
      "program: 11\n",
      "promise: 11\n",
      "queen: 11\n",
      "quit: 11\n",
      "radio: 11\n",
      "rat: 11\n",
      "reject: 11\n",
      "require: 11\n",
      "rest: 11\n",
      "retire: 11\n",
      "rise: 11\n",
      "rough: 11\n",
      "see: 11\n",
      "seem: 11\n",
      "send: 11\n",
      "sew: 11\n",
      "sheep: 11\n",
      "shine: 11\n",
      "shock: 11\n",
      "should: 11\n",
      "silent: 11\n",
      "skinny: 11\n",
      "skirt: 11\n",
      "sky: 11\n",
      "sour: 11\n",
      "special: 11\n",
      "spirit: 11\n",
      "staff: 11\n",
      "stand: 11\n",
      "steal: 11\n",
      "stop: 11\n",
      "stupid: 11\n",
      "summon: 11\n",
      "sunrise: 11\n",
      "swallow: 11\n",
      "television: 11\n",
      "to: 11\n",
      "together: 11\n",
      "translate: 11\n",
      "triangle: 11\n",
      "turtle: 11\n",
      "underwear: 11\n",
      "upset: 11\n",
      "violin: 11\n",
      "volunteer: 11\n",
      "warm: 11\n",
      "warn: 11\n",
      "wine: 11\n",
      "witness: 11\n",
      "wood: 11\n",
      "zero: 11\n",
      "river: 10\n",
      "across: 10\n",
      "actor: 10\n",
      "agree: 10\n",
      "alarm: 10\n",
      "allergy: 10\n",
      "almost: 10\n",
      "announce: 10\n",
      "apartment: 10\n",
      "audience: 10\n",
      "august: 10\n",
      "autumn: 10\n",
      "away: 10\n",
      "beautiful: 10\n",
      "become: 10\n",
      "below: 10\n",
      "best: 10\n",
      "bet: 10\n",
      "bicycle: 10\n",
      "biology: 10\n",
      "boyfriend: 10\n",
      "break: 10\n",
      "bridge: 10\n",
      "brush: 10\n",
      "building: 10\n",
      "busy: 10\n",
      "camera: 10\n",
      "camp: 10\n",
      "caption: 10\n",
      "care: 10\n",
      "carry: 10\n",
      "celebrate: 10\n",
      "certificate: 10\n",
      "chain: 10\n",
      "chance: 10\n",
      "character: 10\n",
      "chase: 10\n",
      "classroom: 10\n",
      "clear: 10\n",
      "climb: 10\n",
      "command: 10\n",
      "community: 10\n",
      "complain: 10\n",
      "compromise: 10\n",
      "contribute: 10\n",
      "cop: 10\n",
      "couch: 10\n",
      "cracker: 10\n",
      "curious: 10\n",
      "curriculum: 10\n",
      "dad: 10\n",
      "deny: 10\n",
      "describe: 10\n",
      "diaper: 10\n",
      "disagree: 10\n",
      "dissolve: 10\n",
      "divide: 10\n",
      "dolphin: 10\n",
      "double: 10\n",
      "doubt: 10\n",
      "dumb: 10\n",
      "earth: 10\n",
      "earthquake: 10\n",
      "eight: 10\n",
      "embarrass: 10\n",
      "emotion: 10\n",
      "encourage: 10\n",
      "energy: 10\n",
      "enough: 10\n",
      "evaluate: 10\n",
      "evidence: 10\n",
      "exact: 10\n",
      "exaggerate: 10\n",
      "expect: 10\n",
      "fancy: 10\n",
      "favorite: 10\n",
      "finally: 10\n",
      "fox: 10\n",
      "fruit: 10\n",
      "function: 10\n",
      "gather: 10\n",
      "germany: 10\n",
      "gloves: 10\n",
      "goat: 10\n",
      "goodbye: 10\n",
      "gum: 10\n",
      "half: 10\n",
      "hawaii: 10\n",
      "herself: 10\n",
      "highway: 10\n",
      "homework: 10\n",
      "honor: 10\n",
      "ice: 10\n",
      "cream: 10\n",
      "if: 10\n",
      "increase: 10\n",
      "india: 10\n",
      "information: 10\n",
      "interpret: 10\n",
      "interview: 10\n",
      "invite: 10\n",
      "israel: 10\n",
      "jesus: 10\n",
      "keep: 10\n",
      "keyboard: 10\n",
      "land: 10\n",
      "lawyer: 10\n",
      "lead: 10\n",
      "lesbian: 10\n",
      "line: 10\n",
      "lock: 10\n",
      "loud: 10\n",
      "lousy: 10\n",
      "lunch: 10\n",
      "machine: 10\n",
      "mad: 10\n",
      "memorize: 10\n",
      "minus: 10\n",
      "mountain: 10\n",
      "mouth: 10\n",
      "mushroom: 10\n",
      "napkin: 10\n",
      "neck: 10\n",
      "next: 10\n",
      "open: 10\n",
      "overwhelm: 10\n",
      "owe: 10\n",
      "page: 10\n",
      "pain: 10\n",
      "parade: 10\n",
      "parents: 10\n",
      "perfect: 10\n",
      "period: 10\n",
      "philosophy: 10\n",
      "photographer: 10\n",
      "place: 10\n",
      "policy: 10\n",
      "popular: 10\n",
      "pray: 10\n",
      "predict: 10\n",
      "presentation: 10\n",
      "print: 10\n",
      "printer: 10\n",
      "private: 10\n",
      "procrastinate: 10\n",
      "project: 10\n",
      "protect: 10\n",
      "prove: 10\n",
      "provide: 10\n",
      "psychology: 10\n",
      "punish: 10\n",
      "puzzled: 10\n",
      "question: 10\n",
      "quick: 10\n",
      "rainbow: 10\n",
      "rake: 10\n",
      "rehearse: 10\n",
      "remove: 10\n",
      "revenge: 10\n",
      "review: 10\n",
      "rich: 10\n",
      "roof: 10\n",
      "rooster: 10\n",
      "rude: 10\n",
      "say: 10\n",
      "scientist: 10\n",
      "scotland: 10\n",
      "screwdriver: 10\n",
      "second: 10\n",
      "senate: 10\n",
      "separate: 10\n",
      "service: 10\n",
      "shrimp: 10\n",
      "shy: 10\n",
      "side: 10\n",
      "situation: 10\n",
      "slave: 10\n",
      "soccer: 10\n",
      "socks: 10\n",
      "solid: 10\n",
      "sometimes: 10\n",
      "spider: 10\n",
      "spin: 10\n",
      "square: 10\n",
      "stairs: 10\n",
      "stare: 10\n",
      "start: 10\n",
      "store: 10\n",
      "straw: 10\n",
      "structure: 10\n",
      "suggest: 10\n",
      "sun: 10\n",
      "support: 10\n",
      "suppose: 10\n",
      "sure: 10\n",
      "surprise: 10\n",
      "sweater: 10\n",
      "swim: 10\n",
      "symbol: 10\n",
      "taste: 10\n",
      "team: 10\n",
      "telephone: 10\n",
      "tennis: 10\n",
      "their: 10\n",
      "then: 10\n",
      "thing: 10\n",
      "third: 10\n",
      "thousand: 10\n",
      "three: 10\n",
      "tie: 10\n",
      "topic: 10\n",
      "touch: 10\n",
      "tournament: 10\n",
      "try: 10\n",
      "two: 10\n",
      "type: 10\n",
      "umbrella: 10\n",
      "vegetable: 10\n",
      "vocabulary: 10\n",
      "waste: 10\n",
      "we: 10\n",
      "wear: 10\n",
      "weekly: 10\n",
      "welcome: 10\n",
      "winter: 10\n",
      "without: 10\n",
      "wolf: 10\n",
      "worm: 10\n",
      "wristwatch: 10\n",
      "yourself: 10\n",
      "cost: 9\n",
      "diarrhea: 9\n",
      "ocean: 9\n",
      "thermometer: 9\n",
      "above: 9\n",
      "accomplish: 9\n",
      "adopt: 9\n",
      "advantage: 9\n",
      "alphabet: 9\n",
      "anniversary: 9\n",
      "another: 9\n",
      "appropriate: 9\n",
      "arrogant: 9\n",
      "artist: 9\n",
      "background: 9\n",
      "bee: 9\n",
      "behavior: 9\n",
      "bell: 9\n",
      "birth: 9\n",
      "bless: 9\n",
      "blood: 9\n",
      "boots: 9\n",
      "brave: 9\n",
      "breathe: 9\n",
      "bright: 9\n",
      "bull: 9\n",
      "butterfly: 9\n",
      "card: 9\n",
      "category: 9\n",
      "catholic: 9\n",
      "cent: 9\n",
      "chemistry: 9\n",
      "cherry: 9\n",
      "china: 9\n",
      "chop: 9\n",
      "christian: 9\n",
      "cigarette: 9\n",
      "clever: 9\n",
      "clown: 9\n",
      "coach: 9\n",
      "coat: 9\n",
      "cochlear: 9\n",
      "implant: 9\n",
      "coconut: 9\n",
      "commute: 9\n",
      "count: 9\n",
      "culture: 9\n",
      "daily: 9\n",
      "defend: 9\n",
      "degree: 9\n",
      "demonstrate: 9\n",
      "department: 9\n",
      "die: 9\n",
      "dig: 9\n",
      "dinner: 9\n",
      "dinosaur: 9\n",
      "diploma: 9\n",
      "director: 9\n",
      "disconnect: 9\n",
      "discover: 9\n",
      "don't: 9\n",
      "drum: 9\n",
      "each: 9\n",
      "educate: 9\n",
      "electrician: 9\n",
      "empty: 9\n",
      "england: 9\n",
      "establish: 9\n",
      "excuse: 9\n",
      "eyeglasses: 9\n",
      "faculty: 9\n",
      "fall: 9\n",
      "famous: 9\n",
      "farm: 9\n",
      "fence: 9\n",
      "fix: 9\n",
      "flexible: 9\n",
      "flirt: 9\n",
      "flood: 9\n",
      "fork: 9\n",
      "four: 9\n",
      "fun: 9\n",
      "funeral: 9\n",
      "furniture: 9\n",
      "gallaudet: 9\n",
      "general: 9\n",
      "ghost: 9\n",
      "glass: 9\n",
      "gorilla: 9\n",
      "gray: 9\n",
      "guide: 9\n",
      "habit: 9\n",
      "health: 9\n",
      "heaven: 9\n",
      "heavy: 9\n",
      "helmet: 9\n",
      "hide: 9\n",
      "hockey: 9\n",
      "hold: 9\n",
      "honest: 9\n",
      "hug: 9\n",
      "hunt: 9\n",
      "image: 9\n",
      "influence: 9\n",
      "interesting: 9\n",
      "interpreter: 9\n",
      "iran: 9\n",
      "italy: 9\n",
      "jewish: 9\n",
      "judge: 9\n",
      "key: 9\n",
      "label: 9\n",
      "leaf: 9\n",
      "left: 9\n",
      "lend: 9\n",
      "less: 9\n",
      "linguistics: 9\n",
      "lonely: 9\n",
      "long: 9\n",
      "magic: 9\n",
      "mainstream: 9\n",
      "major: 9\n",
      "manager: 9\n",
      "maximum: 9\n",
      "me: 9\n",
      "mexico: 9\n",
      "middle: 9\n",
      "mind: 9\n",
      "misunderstand: 9\n",
      "monster: 9\n",
      "multiply: 9\n",
      "myself: 9\n",
      "nothing: 9\n",
      "october: 9\n",
      "odd: 9\n",
      "offer: 9\n",
      "only: 9\n",
      "opposite: 9\n",
      "out: 9\n",
      "overlook: 9\n",
      "path: 9\n",
      "percent: 9\n",
      "physics: 9\n",
      "piano: 9\n",
      "pick: 9\n",
      "pie: 9\n",
      "plate: 9\n",
      "pocket: 9\n",
      "popcorn: 9\n",
      "positive: 9\n",
      "pregnant: 9\n",
      "prevent: 9\n",
      "proof: 9\n",
      "pumpkin: 9\n",
      "purpose: 9\n",
      "race: 9\n",
      "realize: 9\n",
      "recognize: 9\n",
      "refuse: 9\n",
      "relationship: 9\n",
      "repeat: 9\n",
      "replace: 9\n",
      "report: 9\n",
      "represent: 9\n",
      "request: 9\n",
      "result: 9\n",
      "reveal: 9\n",
      "ring: 9\n",
      "rob: 9\n",
      "rock: 9\n",
      "role: 9\n",
      "rope: 9\n",
      "rush: 9\n",
      "salute: 9\n",
      "satisfy: 9\n",
      "search: 9\n",
      "selfish: 9\n",
      "sensitive: 9\n",
      "serve: 9\n",
      "seven: 9\n",
      "shampoo: 9\n",
      "she: 9\n",
      "shelf: 9\n",
      "shopping: 9\n",
      "similar: 9\n",
      "sing: 9\n",
      "six: 9\n",
      "skeleton: 9\n",
      "sketch: 9\n",
      "skill: 9\n",
      "sleepy: 9\n",
      "slip: 9\n",
      "smell: 9\n",
      "sneeze: 9\n",
      "snob: 9\n",
      "specific: 9\n",
      "stamp: 9\n",
      "steel: 9\n",
      "strawberry: 9\n",
      "subtract: 9\n",
      "subway: 9\n",
      "suffer: 9\n",
      "surface: 9\n",
      "sweep: 9\n",
      "swing: 9\n",
      "switzerland: 9\n",
      "tale: 9\n",
      "tan: 9\n",
      "teeth: 9\n",
      "terrible: 9\n",
      "thankful: 9\n",
      "they: 9\n",
      "through: 9\n",
      "tiptoe: 9\n",
      "title: 9\n",
      "tooth: 9\n",
      "toothbrush: 9\n",
      "total: 9\n",
      "tough: 9\n",
      "tradition: 9\n",
      "trophy: 9\n",
      "trouble: 9\n",
      "true: 9\n",
      "trust: 9\n",
      "under: 9\n",
      "verb: 9\n",
      "wall: 9\n",
      "watermelon: 9\n",
      "way: 9\n",
      "weird: 9\n",
      "while: 9\n",
      "wide: 9\n",
      "willing: 9\n",
      "wish: 9\n",
      "wonderful: 9\n",
      "workshop: 9\n",
      "worse: 9\n",
      "wrench: 9\n",
      "responsibility: 8\n",
      "lot: 8\n",
      "abdomen: 8\n",
      "able: 8\n",
      "accountant: 8\n",
      "action: 8\n",
      "active: 8\n",
      "activity: 8\n",
      "address: 8\n",
      "affect: 8\n",
      "afraid: 8\n",
      "against: 8\n",
      "agenda: 8\n",
      "ahead: 8\n",
      "aim: 8\n",
      "alcohol: 8\n",
      "algebra: 8\n",
      "amazing: 8\n",
      "angle: 8\n",
      "apart: 8\n",
      "apostrophe: 8\n",
      "appetite: 8\n",
      "appreciate: 8\n",
      "april: 8\n",
      "archery: 8\n",
      "around: 8\n",
      "article: 8\n",
      "assistant: 8\n",
      "attend: 8\n",
      "auction: 8\n",
      "authority: 8\n",
      "average: 8\n",
      "awake: 8\n",
      "b: 8\n",
      "babysitter: 8\n",
      "battle: 8\n",
      "beginning: 8\n",
      "belief: 8\n",
      "bible: 8\n",
      "bike: 8\n",
      "blend: 8\n",
      "bone: 8\n",
      "bra: 8\n",
      "brief: 8\n",
      "broke: 8\n",
      "bug: 8\n",
      "bully: 8\n",
      "button: 8\n",
      "cabbage: 8\n",
      "cabinet: 8\n",
      "calculate: 8\n",
      "calculator: 8\n",
      "calculus: 8\n",
      "camping: 8\n",
      "canoe: 8\n",
      "careless: 8\n",
      "ceiling: 8\n",
      "cemetery: 8\n",
      "chapter: 8\n",
      "choir: 8\n",
      "circle: 8\n",
      "company: 8\n",
      "concept: 8\n",
      "concern: 8\n",
      "confront: 8\n",
      "confused: 8\n",
      "congress: 8\n",
      "connect: 8\n",
      "conquer: 8\n",
      "constitution: 8\n",
      "contract: 8\n",
      "court: 8\n",
      "crab: 8\n",
      "cross: 8\n",
      "cruel: 8\n",
      "crush: 8\n",
      "date: 8\n",
      "december: 8\n",
      "decrease: 8\n",
      "deduct: 8\n",
      "defeat: 8\n",
      "deposit: 8\n",
      "depressed: 8\n",
      "detach: 8\n",
      "determine: 8\n",
      "diabetes: 8\n",
      "dime: 8\n",
      "dirt: 8\n",
      "disgust: 8\n",
      "dismiss: 8\n",
      "dizzy: 8\n",
      "document: 8\n",
      "dorm: 8\n",
      "dormitory: 8\n",
      "downstairs: 8\n",
      "economy: 8\n",
      "education: 8\n",
      "effort: 8\n",
      "eighteen: 8\n",
      "engage: 8\n",
      "engagement: 8\n",
      "engineer: 8\n",
      "envelope: 8\n",
      "erase: 8\n",
      "eternity: 8\n",
      "evening: 8\n",
      "everyday: 8\n",
      "expand: 8\n",
      "eye: 8\n",
      "eyes: 8\n",
      "fake: 8\n",
      "farmer: 8\n",
      "february: 8\n",
      "federal: 8\n",
      "final: 8\n",
      "florida: 8\n",
      "flute: 8\n",
      "forbid: 8\n",
      "forever: 8\n",
      "fourth: 8\n",
      "free: 8\n",
      "fries: 8\n",
      "gamble: 8\n",
      "gas: 8\n",
      "gasoline: 8\n",
      "generation: 8\n",
      "geography: 8\n",
      "german: 8\n",
      "girlfriend: 8\n",
      "gold: 8\n",
      "grandma: 8\n",
      "grass: 8\n",
      "gun: 8\n",
      "haircut: 8\n",
      "of: 8\n",
      "hippopotamus: 8\n",
      "his: 8\n",
      "honey: 8\n",
      "hurricane: 8\n",
      "identify: 8\n",
      "include: 8\n",
      "infection: 8\n",
      "innocent: 8\n",
      "insect: 8\n",
      "instead: 8\n",
      "institute: 8\n",
      "international: 8\n",
      "interrupt: 8\n",
      "involve: 8\n",
      "jail: 8\n",
      "january: 8\n",
      "joke: 8\n",
      "june: 8\n",
      "kangaroo: 8\n",
      "karate: 8\n",
      "kick: 8\n",
      "kneel: 8\n",
      "knock: 8\n",
      "laptop: 8\n",
      "lift: 8\n",
      "lightning: 8\n",
      "lip: 8\n",
      "lipstick: 8\n",
      "local: 8\n",
      "manage: 8\n",
      "mature: 8\n",
      "member: 8\n",
      "message: 8\n",
      "metal: 8\n",
      "microphone: 8\n",
      "mix: 8\n",
      "monthly: 8\n",
      "motor: 8\n",
      "nation: 8\n",
      "network: 8\n",
      "nickel: 8\n",
      "nineteen: 8\n",
      "normal: 8\n",
      "november: 8\n",
      "nut: 8\n",
      "octopus: 8\n",
      "once: 8\n",
      "organize: 8\n",
      "over: 8\n",
      "owl: 8\n",
      "p: 8\n",
      "parachute: 8\n",
      "paragraph: 8\n",
      "parallel: 8\n",
      "peace: 8\n",
      "peanut: 8\n",
      "perfume: 8\n",
      "personality: 8\n",
      "pet: 8\n",
      "philadelphia: 8\n",
      "physician: 8\n",
      "piece: 8\n",
      "pity: 8\n",
      "plant: 8\n",
      "plenty: 8\n",
      "pneumonia: 8\n",
      "politics: 8\n",
      "position: 8\n",
      "pound: 8\n",
      "pour: 8\n",
      "praise: 8\n",
      "preach: 8\n",
      "preacher: 8\n",
      "prefer: 8\n",
      "pressure: 8\n",
      "principal: 8\n",
      "priority: 8\n",
      "professional: 8\n",
      "professor: 8\n",
      "promote: 8\n",
      "prostitute: 8\n",
      "proud: 8\n",
      "quote: 8\n",
      "receive: 8\n",
      "recent: 8\n",
      "reduce: 8\n",
      "refer: 8\n",
      "referee: 8\n",
      "relate: 8\n",
      "relax: 8\n",
      "remote: 8\n",
      "rent: 8\n",
      "reputation: 8\n",
      "resign: 8\n",
      "responsible: 8\n",
      "ridiculous: 8\n",
      "road: 8\n",
      "robot: 8\n",
      "rubber: 8\n",
      "safe: 8\n",
      "sauce: 8\n",
      "sausage: 8\n",
      "scold: 8\n",
      "senior: 8\n",
      "september: 8\n",
      "several: 8\n",
      "shame: 8\n",
      "shave: 8\n",
      "shoulder: 8\n",
      "silver: 8\n",
      "simple: 8\n",
      "siren: 8\n",
      "size: 8\n",
      "skate: 8\n",
      "skin: 8\n",
      "skunk: 8\n",
      "slice: 8\n",
      "smooth: 8\n",
      "snack: 8\n",
      "snowman: 8\n",
      "society: 8\n",
      "someone: 8\n",
      "song: 8\n",
      "sore: 8\n",
      "spanish: 8\n",
      "speak: 8\n",
      "speed: 8\n",
      "spell: 8\n",
      "spoon: 8\n",
      "spring: 8\n",
      "standard: 8\n",
      "statistics: 8\n",
      "sticky: 8\n",
      "still: 8\n",
      "stretch: 8\n",
      "surgeon: 8\n",
      "sweden: 8\n",
      "swimsuit: 8\n",
      "sympathy: 8\n",
      "turns: 8\n",
      "technology: 8\n",
      "temple: 8\n",
      "tender: 8\n",
      "thailand: 8\n",
      "theater: 8\n",
      "them: 8\n",
      "theme: 8\n",
      "thick: 8\n",
      "this: 8\n",
      "tissue: 8\n",
      "tongue: 8\n",
      "tonight: 8\n",
      "tornado: 8\n",
      "tower: 8\n",
      "tranquil: 8\n",
      "transform: 8\n",
      "tutor: 8\n",
      "twin: 8\n",
      "value: 8\n",
      "visitor: 8\n",
      "waiter: 8\n",
      "wake: 8\n",
      "wallet: 8\n",
      "wander: 8\n",
      "weight: 8\n",
      "whale: 8\n",
      "whatever: 8\n",
      "within: 8\n",
      "wonder: 8\n",
      "worker: 8\n",
      "worthless: 8\n",
      "wrap: 8\n",
      "complete: 7\n",
      "shoot: 7\n",
      "united: 7\n",
      "states: 7\n",
      "accent: 7\n",
      "act: 7\n",
      "adapt: 7\n",
      "adjective: 7\n",
      "adjust: 7\n",
      "admire: 7\n",
      "admit: 7\n",
      "advanced: 7\n",
      "adverb: 7\n",
      "agreement: 7\n",
      "alligator: 7\n",
      "amputate: 7\n",
      "anatomy: 7\n",
      "annoy: 7\n",
      "anyway: 7\n",
      "approach: 7\n",
      "arizona: 7\n",
      "assist: 7\n",
      "assume: 7\n",
      "attorney: 7\n",
      "audiologist: 7\n",
      "audiology: 7\n",
      "austria: 7\n",
      "author: 7\n",
      "available: 7\n",
      "award: 7\n",
      "aware: 7\n",
      "bank: 7\n",
      "baptize: 7\n",
      "basic: 7\n",
      "battery: 7\n",
      "berry: 7\n",
      "beside: 7\n",
      "between: 7\n",
      "binoculars: 7\n",
      "blow: 7\n",
      "boast: 7\n",
      "boil: 7\n",
      "bookshelf: 7\n",
      "bookstore: 7\n",
      "boxing: 7\n",
      "braid: 7\n",
      "brain: 7\n",
      "breakdown: 7\n",
      "breakfast: 7\n",
      "breeze: 7\n",
      "bribe: 7\n",
      "brochure: 7\n",
      "buffalo: 7\n",
      "burp: 7\n",
      "bush: 7\n",
      "bye: 7\n",
      "camel: 7\n",
      "candidate: 7\n",
      "cannot: 7\n",
      "captain: 7\n",
      "carnival: 7\n",
      "cheerleader: 7\n",
      "chemical: 7\n",
      "chicago: 7\n",
      "choke: 7\n",
      "christ: 7\n",
      "click: 7\n",
      "closet: 7\n",
      "clueless: 7\n",
      "clumsy: 7\n",
      "collect: 7\n",
      "comma: 7\n",
      "comment: 7\n",
      "commit: 7\n",
      "committee: 7\n",
      "sense: 7\n",
      "compete: 7\n",
      "concentrate: 7\n",
      "congratulations: 7\n",
      "consider: 7\n",
      "construct: 7\n",
      "consume: 7\n",
      "contest: 7\n",
      "conversation: 7\n",
      "convert: 7\n",
      "cooperate: 7\n",
      "counsel: 7\n",
      "counselor: 7\n",
      "crave: 7\n",
      "create: 7\n",
      "crocodile: 7\n",
      "crown: 7\n",
      "cuba: 7\n",
      "curtain: 7\n",
      "customer: 7\n",
      "d: 7\n",
      "damage: 7\n",
      "dancer: 7\n",
      "danger: 7\n",
      "dangerous: 7\n",
      "dawn: 7\n",
      "death: 7\n",
      "debate: 7\n",
      "debt: 7\n",
      "deliver: 7\n",
      "democrat: 7\n",
      "descend: 7\n",
      "design: 7\n",
      "detective: 7\n",
      "devil: 7\n",
      "dice: 7\n",
      "difficult: 7\n",
      "dining: 7\n",
      "discipline: 7\n",
      "discount: 7\n",
      "disgusted: 7\n",
      "disturb: 7\n",
      "division: 7\n",
      "done: 7\n",
      "drag: 7\n",
      "dragon: 7\n",
      "drama: 7\n",
      "drug: 7\n",
      "due: 7\n",
      "dull: 7\n",
      "dusk: 7\n",
      "dvd: 7\n",
      "dye: 7\n",
      "e: 7\n",
      "either: 7\n",
      "electricity: 7\n",
      "elementary: 7\n",
      "else: 7\n",
      "emergency: 7\n",
      "engine: 7\n",
      "enormous: 7\n",
      "eraser: 7\n",
      "everything: 7\n",
      "except: 7\n",
      "exhibit: 7\n",
      "explode: 7\n",
      "express: 7\n",
      "f: 7\n",
      "fairy: 7\n",
      "familiar: 7\n",
      "festival: 7\n",
      "finance: 7\n",
      "fingerspell: 7\n",
      "fire: 7\n",
      "firefighter: 7\n",
      "five: 7\n",
      "flatter: 7\n",
      "fool: 7\n",
      "forgive: 7\n",
      "former: 7\n",
      "freeway: 7\n",
      "g: 7\n",
      "gang: 7\n",
      "gay: 7\n",
      "geometry: 7\n",
      "gift: 7\n",
      "grab: 7\n",
      "graduation: 7\n",
      "grateful: 7\n",
      "grey: 7\n",
      "gymnastics: 7\n",
      "h: 7\n",
      "hang: 7\n",
      "hanukkah: 7\n",
      "heap: 7\n",
      "attack: 7\n",
      "hill: 7\n",
      "holy: 7\n",
      "hop: 7\n",
      "host: 7\n",
      "human: 7\n",
      "i: 7\n",
      "ill: 7\n",
      "illegal: 7\n",
      "impact: 7\n",
      "individual: 7\n",
      "inspect: 7\n",
      "inspire: 7\n",
      "intersection: 7\n",
      "ireland: 7\n",
      "iron: 7\n",
      "j: 7\n",
      "jewelry: 7\n",
      "journey: 7\n",
      "joy: 7\n",
      "july: 7\n",
      "k: 7\n",
      "kid: 7\n",
      "kindergarten: 7\n",
      "lady: 7\n",
      "lamp: 7\n",
      "laundry: 7\n",
      "leader: 7\n",
      "league: 7\n",
      "leak: 7\n",
      "legal: 7\n",
      "let: 7\n",
      "liability: 7\n",
      "librarian: 7\n",
      "license: 7\n",
      "little: 7\n",
      "bit: 7\n",
      "loan: 7\n",
      "at: 7\n",
      "lord: 7\n",
      "m: 7\n",
      "meaning: 7\n",
      "melody: 7\n",
      "melt: 7\n",
      "mention: 7\n",
      "microscope: 7\n",
      "midnight: 7\n",
      "military: 7\n",
      "mine: 7\n",
      "mistake: 7\n",
      "mock: 7\n",
      "moose: 7\n",
      "mosquito: 7\n",
      "motivate: 7\n",
      "murder: 7\n",
      "n: 7\n",
      "narrow: 7\n",
      "necessary: 7\n",
      "negotiate: 7\n",
      "york: 7\n",
      "nine: 7\n",
      "northwest: 7\n",
      "yet: 7\n",
      "notice: 7\n",
      "numerous: 7\n",
      "nun: 7\n",
      "o: 7\n",
      "objective: 7\n",
      "obsess: 7\n",
      "obtain: 7\n",
      "occur: 7\n",
      "odor: 7\n",
      "olympics: 7\n",
      "or: 7\n",
      "oral: 7\n",
      "our: 7\n",
      "overcome: 7\n",
      "pack: 7\n",
      "painter: 7\n",
      "part: 7\n",
      "pause: 7\n",
      "peaceful: 7\n",
      "pear: 7\n",
      "peel: 7\n",
      "penalty: 7\n",
      "pennsylvania: 7\n",
      "penny: 7\n",
      "permit: 7\n",
      "phrase: 7\n",
      "pickle: 7\n",
      "pilot: 7\n",
      "player: 7\n",
      "polar: 7\n",
      "policeman: 7\n",
      "poop: 7\n",
      "post: 7\n",
      "potential: 7\n",
      "poverty: 7\n",
      "precious: 7\n",
      "precipitation: 7\n",
      "precise: 7\n",
      "preschool: 7\n",
      "pride: 7\n",
      "prince: 7\n",
      "princess: 7\n",
      "principle: 7\n",
      "process: 7\n",
      "profit: 7\n",
      "progress: 7\n",
      "propaganda: 7\n",
      "proper: 7\n",
      "psychologist: 7\n",
      "public: 7\n",
      "publish: 7\n",
      "purchase: 7\n",
      "pure: 7\n",
      "pursue: 7\n",
      "q: 7\n",
      "quality: 7\n",
      "quarrel: 7\n",
      "quarter: 7\n",
      "r: 7\n",
      "rage: 7\n",
      "rather: 7\n",
      "real: 7\n",
      "recliner: 7\n",
      "recommend: 7\n",
      "recover: 7\n",
      "regular: 7\n",
      "release: 7\n",
      "relief: 7\n",
      "rely: 7\n",
      "reply: 7\n",
      "rescue: 7\n",
      "resist: 7\n",
      "restroom: 7\n",
      "retreat: 7\n",
      "roar: 7\n",
      "robber: 7\n",
      "roommate: 7\n",
      "rose: 7\n",
      "ruin: 7\n",
      "s: 7\n",
      "salary: 7\n",
      "saw: 7\n",
      "scan: 7\n",
      "scream: 7\n",
      "sculpture: 7\n",
      "sea: 7\n",
      "seldom: 7\n",
      "sequence: 7\n",
      "settle: 7\n",
      "shout: 7\n",
      "shovel: 7\n",
      "sin: 7\n",
      "singer: 7\n",
      "sixteen: 7\n",
      "ski: 7\n",
      "skip: 7\n",
      "smoking: 7\n",
      "sofa: 7\n",
      "soldier: 7\n",
      "solve: 7\n",
      "someday: 7\n",
      "something: 7\n",
      "somewhere: 7\n",
      "soul: 7\n",
      "spill: 7\n",
      "spit: 7\n",
      "spread: 7\n",
      "sprint: 7\n",
      "squeeze: 7\n",
      "stadium: 7\n",
      "stepfather: 7\n",
      "sting: 7\n",
      "stir: 7\n",
      "stitch: 7\n",
      "stuck: 7\n",
      "sue: 7\n",
      "sunshine: 7\n",
      "superman: 7\n",
      "surrender: 7\n",
      "suspend: 7\n",
      "swimming: 7\n",
      "t: 7\n",
      "talent: 7\n",
      "telescope: 7\n",
      "tempt: 7\n",
      "ten: 7\n",
      "tend: 7\n",
      "testify: 7\n",
      "texas: 7\n",
      "text: 7\n",
      "than: 7\n",
      "therefore: 7\n",
      "thrill: 7\n",
      "tobacco: 7\n",
      "tolerate: 7\n",
      "torture: 7\n",
      "towel: 7\n",
      "trip: 7\n",
      "truth: 7\n",
      "turn: 7\n",
      "tv: 7\n",
      "u: 7\n",
      "unique: 7\n",
      "upstairs: 7\n",
      "v: 7\n",
      "vacant: 7\n",
      "vague: 7\n",
      "valley: 7\n",
      "vampire: 7\n",
      "very: 7\n",
      "vice: 7\n",
      "viewpoint: 7\n",
      "visualize: 7\n",
      "vlog: 7\n",
      "volleyball: 7\n",
      "w: 7\n",
      "washington: 7\n",
      "waterfall: 7\n",
      "weigh: 7\n",
      "wheelchair: 7\n",
      "whistle: 7\n",
      "caterpillar: 6\n",
      "\n",
      "      \n",
      "We can see that there is a total number of 1984 different words in this dataset\n"
     ]
    }
   ],
   "source": [
    "# to visually see how extensive the dataset is\n",
    "\n",
    "# Initialize defaultdict for word counts\n",
    "word_counts = defaultdict(int)\n",
    "\n",
    "# Iterate over each row in the DataFrame\n",
    "for text in wlasl_df['clean_text']:\n",
    "    # Split text into words\n",
    "    words = text.split()\n",
    "    # Increment count for each word\n",
    "    for word in words:\n",
    "        word_counts[word] += 1\n",
    "\n",
    "# Sort word counts by count value in descending order\n",
    "sorted_word_counts = sorted(word_counts.items(), key=lambda x: x[1], reverse=True)\n",
    "\n",
    "# Print word counts\n",
    "total_words = 0\n",
    "for word, count in sorted_word_counts:\n",
    "    print(f'{word}: {count}')\n",
    "    total_words +=1\n",
    "\n",
    "print(f'''\n",
    "      \n",
    "We can see that there is a total number of {total_words} different words in this dataset''')\n"
   ]
  },
  {
   "cell_type": "markdown",
   "metadata": {},
   "source": [
    "Looking at the dataset from WL-ASL, the most number of videos available is `up` with 58 videos while `caterpillar` has the least number of 6 videos. \n",
    "Even though there are a total of 1983 videos of signed words available, it is a compiled list. Whereas, the MS-ASL dataset has split into train, test, and validation dataset. In light of this, there is no need to conduct a train-test split later as we will be processing the videos according to the how the dataframe is structured. All the videos from WL-ASl will be contributed to the training data and will be moved to the MS-ASL train folder. From the next notebook, there will not be any referenced to WS-ASL or MS-ASL datasets."
   ]
  },
  {
   "cell_type": "code",
   "execution_count": 73,
   "metadata": {},
   "outputs": [
    {
     "name": "stdout",
     "output_type": "stream",
     "text": [
      "     clean_text    file  fps  start   end\n",
      "6505      hello  27177_   25      1    -1\n",
      "6504      hello  27175_   25      1    -1\n",
      "6493      hello  27171_   25   1297  1343\n",
      "6494      hello  70017_   25   4842  4923\n",
      "6495      hello  68236_   25      1    36\n",
      "(42, 5)\n"
     ]
    }
   ],
   "source": [
    "# filter the WL-ASL to only contain the words we need\n",
    "\n",
    "wlasl_df = filtered_wlasl_df_sorted[filtered_wlasl_df_sorted['clean_text'].isin(first_three)]\n",
    "\n",
    "print(wlasl_df.head()) # inspect dataframe\n",
    "print(wlasl_df.shape) # 42 video files that are relevant"
   ]
  },
  {
   "cell_type": "markdown",
   "metadata": {},
   "source": [
    "\n",
    "Now, we will move the files to the train data video folder. "
   ]
  },
  {
   "cell_type": "code",
   "execution_count": 76,
   "metadata": {},
   "outputs": [],
   "source": [
    "# we will be using a loop to retrieve the video_id of the entry that has the label inside the list of updated words\n",
    "\n",
    "for word in first_three:\n",
    "    for index, row in wlasl_df.iterrows():\n",
    "        if word == row['clean_text']:\n",
    "            #print(word, row['clean_text'], row['file'])  # debug\n",
    "            os.makedirs('../videos/wlasl_data/' + word, exist_ok=True)                       # creates a folder \n",
    "\n",
    "            try:\n",
    "                # make a copy of the video file to the newly made folder\n",
    "                src = os.path.join('../videos/wlasl_videos/' + row['file'] + '.mp4') # source file location\n",
    "        \n",
    "                dst = os.path.join('../videos/wlasl_data/' + word )                          # destination location\n",
    "\n",
    "                \n",
    "                shutil.copy(src, dst)                                                   # creates a copy of the file\n",
    "\n",
    "            except Exception as e:\n",
    "                continue\n"
   ]
  },
  {
   "cell_type": "code",
   "execution_count": 77,
   "metadata": {},
   "outputs": [],
   "source": [
    "# Export out as csv file for easier import\n",
    "wlasl_df.to_csv('../data/wlasl.csv', index=False)"
   ]
  }
 ],
 "metadata": {
  "kernelspec": {
   "display_name": ".venv",
   "language": "python",
   "name": "python3"
  },
  "language_info": {
   "codemirror_mode": {
    "name": "ipython",
    "version": 3
   },
   "file_extension": ".py",
   "mimetype": "text/x-python",
   "name": "python",
   "nbconvert_exporter": "python",
   "pygments_lexer": "ipython3",
   "version": "3.8.10"
  }
 },
 "nbformat": 4,
 "nbformat_minor": 2
}
